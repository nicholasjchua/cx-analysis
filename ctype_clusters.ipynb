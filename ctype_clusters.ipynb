{
 "cells": [
  {
   "cell_type": "markdown",
   "metadata": {},
   "source": [
    "# Characterising different lamina connections \n",
    "\n",
    "Is there a useful way to group the different connection types by the variability of their counts? \n",
    "- Fixed/invariant -> Observed in most circuits, mean counts high/var low\n",
    "- Retinotopically-dependent -> High variance, but the variance of these connection counts decrease \n",
    "- Stochastic/variant/noise\n",
    "\n",
    "We observed many of the possible 'pre->post' permutations that can be formed between each lamina subtype\n",
    "1. Neurons and their synapses organize in ways that expend more resources to form connections that are necessary for function, while minimizing errors that expend limited synaptic contact area or have a negative influence on performance. \n",
    "2. Under normal circumstances, costs associated with the amount of space occupied by a system puts constrains on network architecture and synaptic connectivity. For Megaphragma, an insect that is subject to extreme evolutionary pressure for miniaturization, space constraints could play a dominant role in the design of its neural circuits. \n",
    "3. \n",
    "\n",
    "If a given connection (between a pre->post pair of neurons) is facilitated by many synapses, this connection is more likely to be a physiologically meaningful feature of the system compared to a different connection with fewer synapses. (the high metabolic/space cost of maintaining many synapses) \n",
    "2. If a given connection is observed throughout many reconstructions of the same circuit, this connection is more likely to be physiologically meaningful\n",
    "\n",
    "1. Calculate (across ommatidia) correlation matrix containing an element for each pairwise correlation between each connection count\n",
    "2. Sort rows and columns of correlation matrix to minimize distance between each connection type's vector of correlation coefficients\n",
    "3. Present a hierachy of connection types with similar correlation vectors "
   ]
  },
  {
   "cell_type": "code",
   "execution_count": 2,
   "metadata": {},
   "outputs": [
    {
     "ename": "ModuleNotFoundError",
     "evalue": "No module named 'skeleton'",
     "output_type": "error",
     "traceback": [
      "\u001b[0;31m---------------------------------------------------------------------------\u001b[0m",
      "\u001b[0;31mModuleNotFoundError\u001b[0m                       Traceback (most recent call last)",
      "\u001b[0;32m<ipython-input-2-dfb37d011495>\u001b[0m in \u001b[0;36m<module>\u001b[0;34m\u001b[0m\n\u001b[1;32m      7\u001b[0m \u001b[0;32mfrom\u001b[0m \u001b[0msklearn\u001b[0m\u001b[0;34m.\u001b[0m\u001b[0mlinear_model\u001b[0m \u001b[0;32mimport\u001b[0m \u001b[0mLinearRegression\u001b[0m\u001b[0;34m\u001b[0m\u001b[0m\n\u001b[1;32m      8\u001b[0m \u001b[0;34m\u001b[0m\u001b[0m\n\u001b[0;32m----> 9\u001b[0;31m \u001b[0;32mfrom\u001b[0m \u001b[0msrc\u001b[0m\u001b[0;34m.\u001b[0m\u001b[0mdataframe_tools\u001b[0m \u001b[0;32mimport\u001b[0m \u001b[0massemble_cxvectors\u001b[0m\u001b[0;34m\u001b[0m\u001b[0m\n\u001b[0m\u001b[1;32m     10\u001b[0m \u001b[0;32mfrom\u001b[0m \u001b[0mvis\u001b[0m\u001b[0;34m.\u001b[0m\u001b[0mhex_lattice\u001b[0m \u001b[0;32mimport\u001b[0m \u001b[0mhexplot\u001b[0m\u001b[0;34m\u001b[0m\u001b[0m\n\u001b[1;32m     11\u001b[0m \u001b[0;32mfrom\u001b[0m \u001b[0mvis\u001b[0m\u001b[0;34m.\u001b[0m\u001b[0mfig_tools\u001b[0m \u001b[0;32mimport\u001b[0m \u001b[0mlinear_cmap\u001b[0m\u001b[0;34m,\u001b[0m \u001b[0msubtype_cm\u001b[0m\u001b[0;34m\u001b[0m\u001b[0m\n",
      "\u001b[0;32m~/src/cx-analysis/src/dataframe_tools.py\u001b[0m in \u001b[0;36m<module>\u001b[0;34m\u001b[0m\n\u001b[1;32m      4\u001b[0m \u001b[0;32mfrom\u001b[0m \u001b[0mtyping\u001b[0m \u001b[0;32mimport\u001b[0m \u001b[0mTuple\u001b[0m\u001b[0;34m\u001b[0m\u001b[0m\n\u001b[1;32m      5\u001b[0m \u001b[0;31m#import src.connectome as cxt\u001b[0m\u001b[0;34m\u001b[0m\u001b[0;34m\u001b[0m\u001b[0m\n\u001b[0;32m----> 6\u001b[0;31m \u001b[0;32mfrom\u001b[0m \u001b[0mskeleton\u001b[0m \u001b[0;32mimport\u001b[0m \u001b[0mSkeleton\u001b[0m\u001b[0;34m\u001b[0m\u001b[0m\n\u001b[0m\u001b[1;32m      7\u001b[0m \"\"\"\n\u001b[1;32m      8\u001b[0m \u001b[0mdataframe_org\u001b[0m\u001b[0;34m.\u001b[0m\u001b[0mpy\u001b[0m\u001b[0;34m\u001b[0m\u001b[0m\n",
      "\u001b[0;31mModuleNotFoundError\u001b[0m: No module named 'skeleton'"
     ]
    }
   ],
   "source": [
    "import numpy as np\n",
    "import pandas as pd\n",
    "import matplotlib.pyplot as plt\n",
    "from matplotlib.cm import get_cmap\n",
    "import seaborn as sns\n",
    "import itertools\n",
    "from sklearn.linear_model import LinearRegression\n",
    "\n",
    "from src.dataframe_tools import assemble_cxvectors\n",
    "from vis.hex_lattice import hexplot\n",
    "from vis.fig_tools import linear_cmap, subtype_cm"
   ]
  },
  {
   "cell_type": "code",
   "execution_count": null,
   "metadata": {
    "lines_to_next_cell": 2
   },
   "outputs": [],
   "source": [
    "tp = '200914'\n",
    "linkdf = pd.read_pickle(f'~/Data/{tp}_lamina/{tp}_linkdf.pickle')\n",
    "cxdf = pd.read_pickle(f'~/Data/{tp}_lamina/{tp}_cxdf.pickle')"
   ]
  },
  {
   "cell_type": "markdown",
   "metadata": {},
   "source": [
    "## Connections observed in the lamina\n",
    "- When opposite pairs of short photoreceptors are combined (i.e. R1R4->L3 = R1->L3 + R4->L3), there are 13 classes of cells that participate in the lamina circuit\n",
    "- The 12 subtypes can form at most 169 pre->post permutations. Of the 169 possibilities, we observed 161 of them at least once throughout the whole lamina\n",
    "- 106 of the 161 connections observed (more than 65%) were found at an average rate of less than 1 synapse per ommatidia\n",
    "- Connections that are entirely absent in some ommatidium (e.g. R1R4->eLMC_4) can still be strongly connected (large average synapse count despite many zeros) "
   ]
  },
  {
   "cell_type": "code",
   "execution_count": null,
   "metadata": {},
   "outputs": [],
   "source": [
    "cxvecs = assemble_cxvectors(linkdf).astype(float)   # each ommatidium has a vector of the different connection counts\n",
    "# Default args: external=True, interom connections included; excl_unknowns=True, filter cxs w unknown partner\n",
    "cxs_before = cxvecs.columns  # hold on to all connection types incl. those with sub-threshold averages\n",
    "nan_missing_L4s = True\n",
    "\n",
    "if nan_missing_L4s:\n",
    "    L4_cx = [c for c in cxvecs.columns if (c[-5: len(c)] == 'LMC_4')]\n",
    "    cxvecs.loc[['B0', 'C1', 'D2', 'E4', 'E5', 'E6', 'E7'], L4_cx] = np.nan\n",
    "\n",
    "display(f\"Number of connections observed (all): {len(cxs_before)}\")\n",
    "mean_thresh = 1.0\n",
    "cxvecs = cxvecs.loc[:, cxvecs.mean() >= mean_thresh]\n",
    "\n",
    "\n",
    "display(f\"Number of connections observed (where mean count >= {mean_thresh}): {len(cxvecs.columns)}\")\n",
    "display(f\"Presyn subtypes: {linkdf['pre_type'].unique()}\")\n",
    "display(f\"Postsyn subtypes: {linkdf['post_type'].unique()}\")\n",
    "display(f\"Number of different connections: {len(cxvecs.columns)}\")\n",
    "cm = subtype_cm() # a dict"
   ]
  },
  {
   "cell_type": "code",
   "execution_count": null,
   "metadata": {},
   "outputs": [],
   "source": [
    "c = 'LMC_2->LMC_4'\n",
    "c[-5:len(c)]"
   ]
  },
  {
   "cell_type": "code",
   "execution_count": null,
   "metadata": {},
   "outputs": [],
   "source": [
    "summary = pd.DataFrame([cxvecs.mean(), cxvecs.var(), cxvecs.std()]).T\n",
    "summary = summary.rename(columns={0: 'mean', 1: 'var', 2: 'sd'})\n",
    "summary = summary.rename_axis('cx')\n",
    "\n",
    "summary['cv'] = summary['sd'] / summary['mean']\n",
    "summary['ff'] = summary['var'] / summary['mean']\n",
    "\n",
    "#fig, ax = plt.subplots()\n",
    "#ax.set_title('fano')\n",
    "sns.jointplot(data=summary, x='mean', y='var', marker='+')"
   ]
  },
  {
   "cell_type": "code",
   "execution_count": null,
   "metadata": {},
   "outputs": [],
   "source": [
    "display(summary.filter(axis=0, like='->eLMC').sort_values(by='cx', ascending=True))\n",
    "display(summary.filter(axis=0, like='centri->'))"
   ]
  },
  {
   "cell_type": "code",
   "execution_count": null,
   "metadata": {},
   "outputs": [],
   "source": [
    "from itertools import product\n",
    "svfs = ['R1R4', 'R2R5', 'R3R6']\n",
    "lmcs = ['LMC_1', 'LMC_2', 'LMC_3', 'LMC_4']\n",
    "these_cx = [pre + '->' + post for pre, post in product(svfs, lmcs)]\n",
    "\n",
    "\n",
    "svf_lmc = cxvecs.filter(items=these_cx)\n",
    "combined_svf = pd.DataFrame()\n",
    "cp_ratio = pd.DataFrame()\n",
    "\n",
    "for l in lmcs:\n",
    "    combined_svf[f'R1R4+R3R6->{l}'] = svf_lmc[f'R1R4->{l}'] + svf_lmc[f'R3R6->{l}']\n",
    "    combined_svf[f'R2R5->{l}'] = svf_lmc[f'R2R5->{l}']\n",
    "    cp_ratio[l] = (2.0 * combined_svf[f'R2R5->{l}'])/ combined_svf[f'R1R4+R3R6->{l}']"
   ]
  },
  {
   "cell_type": "code",
   "execution_count": null,
   "metadata": {},
   "outputs": [],
   "source": [
    "combined_svf.describe()"
   ]
  },
  {
   "cell_type": "code",
   "execution_count": null,
   "metadata": {},
   "outputs": [],
   "source": [
    "cp_ratio.describe()"
   ]
  },
  {
   "cell_type": "code",
   "execution_count": null,
   "metadata": {},
   "outputs": [],
   "source": [
    "sns.distplot(summary['cv'])"
   ]
  },
  {
   "cell_type": "code",
   "execution_count": null,
   "metadata": {},
   "outputs": [],
   "source": [
    "sns.distplot(summary['ff'])"
   ]
  },
  {
   "cell_type": "markdown",
   "metadata": {},
   "source": [
    "## Clustering the correlation matrix of all connections including those between cartridges"
   ]
  },
  {
   "cell_type": "code",
   "execution_count": null,
   "metadata": {},
   "outputs": [],
   "source": [
    "# INCLUDING INTEROM CONNECTIONS\n",
    "\n",
    "# cx_corr = cxvecs.corr().dropna(axis=1)\n",
    "# display(len(cx_corr))\n",
    "# row_colors = [cm[x.split('->')[0]] for x in cx_corr.index]\n",
    "# col_colors = [cm[x.split('->')[1]] for x in cx_corr.columns]\n",
    "# sns.clustermap(cx_corr, xticklabels=cx_corr.columns, yticklabels=cx_corr.columns, \n",
    "#                row_colors=row_colors, col_colors=col_colors, linewidth=0.1,\n",
    "#                figsize=[15, 15], metric='cosine', cmap='vlag')"
   ]
  },
  {
   "cell_type": "markdown",
   "metadata": {},
   "source": [
    "## Clustering the correlation matrix of only home (intra-ommatidial) connections"
   ]
  },
  {
   "cell_type": "code",
   "execution_count": null,
   "metadata": {},
   "outputs": [],
   "source": [
    "# EXCLUDE INTEROM CONNECTIONS\n",
    "\n",
    "homevecs = cxvecs.loc[:, [i for i in cxvecs.columns if '->e' not in i]]\n",
    "print(f\"{len(homevecs.columns)} connection types\")\n",
    "\n",
    "cx_corr = homevecs.corr().dropna(axis=1)\n",
    "row_colors = [cm[x.split('->')[0]] for x in cx_corr.index]\n",
    "col_colors = [cm[x.split('->')[1]] for x in cx_corr.columns]\n",
    "clus = sns.clustermap(cx_corr, xticklabels=cx_corr.columns, yticklabels=cx_corr.columns, \n",
    "                      row_colors=row_colors, col_colors=col_colors, linewidth=0.1,\n",
    "                      figsize=[11, 11], metric='cosine', \n",
    "                      cmap='vlag', vmax=1.0, vmin=-1.0)\n",
    "#clus.savefig(\"/mnt/home/nchua/Dropbox/200610_ctype_clus.svg\")"
   ]
  },
  {
   "cell_type": "code",
   "execution_count": null,
   "metadata": {},
   "outputs": [],
   "source": [
    "homevecs = cxvecs.loc[:, [i for i in cxvecs.columns if '->e' not in i]]\n",
    "print(f\"{len(homevecs.columns)} connection types\")\n",
    "\n",
    "cx_corr = homevecs.corr().dropna(axis=1)\n",
    "cx_corr = cx_corr.filter(regex='LMC_2->')\n",
    "\n",
    "row_colors = [cm[x.split('->')[0]] for x in cx_corr.index]\n",
    "col_colors = [cm[x.split('->')[1]] for x in cx_corr.columns]\n",
    "clus = sns.clustermap(cx_corr, xticklabels=cx_corr.columns, yticklabels=cx_corr.columns, \n",
    "                      row_colors=row_colors, col_colors=col_colors, linewidth=0.1,\n",
    "                      figsize=[11, 11], metric='cosine', \n",
    "                      cmap='vlag', vmax=1.0, vmin=-1.0)"
   ]
  },
  {
   "cell_type": "markdown",
   "metadata": {},
   "source": [
    "Cluster 1: L2->L3, centri->(L1, L2, L3, R1-6, R7p), (L2, R1-6, centri)->centri\n",
    "\n",
    "Cluster 2: (R1R4, R3R6)->R2R5, centri->L4, (R1R4, R3R6)->LN, (L2, centri)->R7\n",
    "\n",
    "Cluster 3: R2R5->(L1, L2), LN->(L1, L2, L3), L2->L4, (R1-6)->L4, L2->L1\n",
    "\n",
    "Cluster 4: *L2->R2R5*, (R2R5, centri, L2)->R8, (R1R4, R3R6)->L3, (R1R4, R3R6)->L1, R2R5->R2R5, (R2R5, L2)->R7p\n",
    "\n",
    "Cluster 5: L2->L2, (R1R4, R3R6)->L2, R2R5->L3, (R1R4, R3R6)->R7p \n"
   ]
  },
  {
   "cell_type": "markdown",
   "metadata": {},
   "source": [
    "## Amacrine connections\n",
    "- All inputs to am are present in the 1st cluster, only am outputs outside this are centri->L4, centri->R7, centri->R8"
   ]
  },
  {
   "cell_type": "code",
   "execution_count": null,
   "metadata": {},
   "outputs": [],
   "source": [
    "centri_corr = cx_corr.filter(like='centri')\n",
    "\n",
    "row_colors = [cm[x.split('->')[0]] for x in centri_corr.index]\n",
    "col_colors = [cm[x.split('->')[1]] for x in centri_corr.columns]\n",
    "sns.clustermap(centri_corr, xticklabels=centri_corr.columns, yticklabels=centri_corr.index, \n",
    "               row_colors=row_colors, col_colors=col_colors, linewidth=0.1,\n",
    "               figsize=[11, 11], metric='cosine', \n",
    "               cmap='vlag', vmax=1.0, vmin=-1.0)"
   ]
  },
  {
   "cell_type": "code",
   "execution_count": null,
   "metadata": {
    "lines_to_next_cell": 0
   },
   "outputs": [],
   "source": [
    "centri_corr = cx_corr.filter(like='LMC_2->')\n",
    "\n",
    "row_colors = [cm[x.split('->')[0]] for x in centri_corr.index]\n",
    "col_colors = [cm[x.split('->')[1]] for x in centri_corr.columns]\n",
    "sns.clustermap(centri_corr, xticklabels=centri_corr.columns, yticklabels=centri_corr.index, \n",
    "               row_colors=row_colors, col_colors=col_colors, linewidth=0.1,\n",
    "               figsize=[11, 11], metric='cosine', \n",
    "               cmap='vlag', vmax=1.0, vmin=-1.0)"
   ]
  },
  {
   "cell_type": "code",
   "execution_count": 9,
   "metadata": {
    "lines_to_next_cell": 0
   },
   "outputs": [
    {
     "data": {
      "text/plain": [
       "<seaborn.matrix.ClusterGrid at 0x7fac2c1def28>"
      ]
     },
     "execution_count": 9,
     "metadata": {},
     "output_type": "execute_result"
    },
    {
     "data": {
      "image/png": "[encoded data removed]",
      "text/plain": [
       "<matplotlib.figure.Figure at 0x7fac2c1deb70>"
      ]
     },
     "metadata": {
      "needs_background": "light"
     },
     "output_type": "display_data"
    }
   ],
   "source": [
    "df_allom = homevecs.filter(like='->R7')\n",
    "#df_allom = df_allom.loc[:, [i for i in df_allom.columns if (i[0] != 'R')]]\n",
    "all_corr = df_allom.corr().dropna(axis=1)\n",
    "all_corr = all_corr.loc[[i for i in df_allom.columns if (i[0] != 'R')],\n",
    "                       [i for i in df_allom.columns if (i[0] != 'R')]]\n",
    "\n",
    "row_colors = [cm[x.split('->')[0]] for x in all_corr.index]\n",
    "col_colors = [cm[x.split('->')[1]] for x in all_corr.columns]\n",
    "sns.clustermap(all_corr, xticklabels=all_corr.columns, yticklabels=all_corr.index, \n",
    "               row_colors=row_colors, col_colors=col_colors, linewidth=0.1,\n",
    "               figsize=[11, 11], metric='cosine', \n",
    "               cmap='vlag', vmax=1.0, vmin=-1.0)"
   ]
  },
  {
   "cell_type": "code",
   "execution_count": 10,
   "metadata": {
    "lines_to_next_cell": 0
   },
   "outputs": [
    {
     "data": {
      "text/plain": [
       "<seaborn.matrix.ClusterGrid at 0x7fac2c083f60>"
      ]
     },
     "execution_count": 10,
     "metadata": {},
     "output_type": "execute_result"
    },
    {
     "data": {
      "image/png": "[encoded data removed]",
      "text/plain": [
       "<matplotlib.figure.Figure at 0x7fac2c083358>"
      ]
     },
     "metadata": {
      "needs_background": "light"
     },
     "output_type": "display_data"
    }
   ],
   "source": [
    "#dra_om = ['A4', 'A5', 'B5', 'B6', 'C5', 'C6', 'D6', 'D7', 'E6', 'E7']\n",
    "dra_om = ['A5', 'B5', 'B6', 'C5', 'C6', 'D6', 'D7', 'E7']\n",
    "df_dra = homevecs.filter(items=dra_om, axis=0).filter(like='->R7')\n",
    "#df_dra = df_dra.loc[:, [i for i in df_allom.columns if (i[0] != 'R')]]\n",
    "dra_corr = df_dra.corr().dropna(axis=1)\n",
    "dra_corr = dra_corr.loc[[i for i in df_allom.columns if (i[0] != 'R')], \n",
    "                        [i for i in df_allom.columns if (i[0] != 'R')]]\n",
    "\n",
    "row_colors = [cm[x.split('->')[0]] for x in dra_corr.index]\n",
    "col_colors = [cm[x.split('->')[1]] for x in dra_corr.columns]\n",
    "sns.clustermap(dra_corr, xticklabels=dra_corr.columns, yticklabels=dra_corr.index, \n",
    "               row_colors=row_colors, col_colors=col_colors, linewidth=0.1,\n",
    "               figsize=[11, 11], metric='cosine', \n",
    "               cmap='vlag', vmax=1.0, vmin=-1.0)"
   ]
  },
  {
   "cell_type": "code",
   "execution_count": 11,
   "metadata": {
    "lines_to_next_cell": 0
   },
   "outputs": [
    {
     "data": {
      "text/plain": [
       "['A0',\n",
       " 'A1',\n",
       " 'A2',\n",
       " 'A3',\n",
       " 'A4',\n",
       " 'B0',\n",
       " 'B1',\n",
       " 'B2',\n",
       " 'B3',\n",
       " 'B4',\n",
       " 'C1',\n",
       " 'C2',\n",
       " 'C3',\n",
       " 'C4',\n",
       " 'D2',\n",
       " 'D3',\n",
       " 'D4',\n",
       " 'D5',\n",
       " 'E4',\n",
       " 'E5',\n",
       " 'E6']"
      ]
     },
     "metadata": {},
     "output_type": "display_data"
    },
    {
     "data": {
      "text/plain": [
       "<seaborn.matrix.ClusterGrid at 0x7fac27ea8748>"
      ]
     },
     "execution_count": 11,
     "metadata": {},
     "output_type": "execute_result"
    },
    {
     "data": {
      "image/png": "[encoded data removed]",
      "text/plain": [
       "<matplotlib.figure.Figure at 0x7fac27ea87f0>"
      ]
     },
     "metadata": {
      "needs_background": "light"
     },
     "output_type": "display_data"
    }
   ],
   "source": [
    "#dra_om = ['A4', 'A5', 'B5', 'B6', 'C5', 'C6', 'D6', 'D7', 'E6', 'E7']\n",
    "ndra_om = [i for i in homevecs.index if i not in dra_om]\n",
    "display(ndra_om)\n",
    "df_dra = homevecs.filter(items=ndra_om, axis=0).filter(like='->R7')\n",
    "#df_dra = df_dra.loc[:, [i for i in df_allom.columns if (i[0] != 'R')]]\n",
    "dra_corr = df_dra.corr().dropna(axis=1)\n",
    "dra_corr = dra_corr.loc[[i for i in df_allom.columns if (i[0] != 'R')], \n",
    "                        [i for i in df_allom.columns if (i[0] != 'R')]]\n",
    "\n",
    "row_colors = [cm[x.split('->')[0]] for x in dra_corr.index]\n",
    "col_colors = [cm[x.split('->')[1]] for x in dra_corr.columns]\n",
    "sns.clustermap(dra_corr, xticklabels=dra_corr.columns, yticklabels=dra_corr.index, \n",
    "               row_colors=row_colors, col_colors=col_colors, linewidth=0.1,\n",
    "               figsize=[11, 11], metric='cosine', \n",
    "               cmap='vlag', vmax=1.0, vmin=-1.0)"
   ]
  },
  {
   "cell_type": "code",
   "execution_count": 12,
   "metadata": {},
   "outputs": [
    {
     "data": {
      "text/plain": [
       "Text(0,0.5,'R1,R3,R4,R6 -> R2,R5')"
      ]
     },
     "execution_count": 12,
     "metadata": {},
     "output_type": "execute_result"
    },
    {
     "data": {
      "image/png": "[encoded data removed]",
      "text/plain": [
       "<matplotlib.figure.Figure at 0x7fac27db87f0>"
      ]
     },
     "metadata": {
      "needs_background": "light"
     },
     "output_type": "display_data"
    }
   ],
   "source": [
    "fig, ax = plt.subplots()\n",
    "sns.regplot(x=homevecs['R1R4->R2R5'] + homevecs['R3R6->R2R5'], y=homevecs['centri->R8'], ax=ax)\n",
    "ax.set_xlabel('centri -> R8')\n",
    "ax.set_ylabel('R1,R3,R4,R6 -> R2,R5')"
   ]
  },
  {
   "cell_type": "code",
   "execution_count": 13,
   "metadata": {},
   "outputs": [
    {
     "data": {
      "text/plain": [
       "Text(0,0.5,'R1, R3, R4, R6 -> R2, R5')"
      ]
     },
     "execution_count": 13,
     "metadata": {},
     "output_type": "execute_result"
    },
    {
     "data": {
      "image/png": "[encoded data removed]",
      "text/plain": [
       "<matplotlib.figure.Figure at 0x7fac27c4e898>"
      ]
     },
     "metadata": {
      "needs_background": "light"
     },
     "output_type": "display_data"
    }
   ],
   "source": [
    "fig, ax = plt.subplots()\n",
    "sns.regplot(x=homevecs.filter(like='->R8').sum(axis=1), y=homevecs['R1R4->R2R5'] + homevecs['R3R6->R2R5'],\n",
    "            x_jitter=0.5, y_jitter=0.5, ax=ax)\n",
    "ax.set_xlabel('Inputs to R8')\n",
    "ax.set_ylabel('R1, R3, R4, R6 -> R2, R5')"
   ]
  },
  {
   "cell_type": "code",
   "execution_count": null,
   "metadata": {
    "lines_to_next_cell": 0
   },
   "outputs": [],
   "source": [
    "# pairs = itertools.combinations(homevecs.columns, 2)\n",
    "# for c1, c2 in pairs:\n",
    "#     sns.regplot(x=homevecs[c1], y=homevecs[c2])\n",
    "#     plt.show()"
   ]
  },
  {
   "cell_type": "code",
   "execution_count": null,
   "metadata": {},
   "outputs": [],
   "source": []
  },
  {
   "cell_type": "code",
   "execution_count": null,
   "metadata": {},
   "outputs": [],
   "source": []
  }
 ],
 "metadata": {
  "jupytext": {
   "formats": "ipynb,py:light"
  },
  "kernelspec": {
   "display_name": "wasp",
   "language": "python",
   "name": "wasp"
  },
  "language_info": {
   "codemirror_mode": {
    "name": "ipython",
    "version": 3
   },
   "file_extension": ".py",
   "mimetype": "text/x-python",
   "name": "python",
   "nbconvert_exporter": "python",
   "pygments_lexer": "ipython3",
   "version": "3.6.3"
  }
 },
 "nbformat": 4,
 "nbformat_minor": 4
}
