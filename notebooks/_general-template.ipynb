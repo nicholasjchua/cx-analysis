{
 "cells": [
  {
   "cell_type": "markdown",
   "id": "fd797bd5-b98c-411d-9e85-afe5841d0142",
   "metadata": {},
   "source": [
    "# General template\n",
    "- Imports and any changes to path\n",
    "- "
   ]
  },
  {
   "cell_type": "code",
   "execution_count": null,
   "id": "54b56958-301f-4c81-a351-52b3e065e38d",
   "metadata": {},
   "outputs": [],
   "source": [
    "import numpy as np\n",
    "import pandas as pd\n",
    "import matplotlib.pyplot as plt\n",
    "import seaborn as sns\n",
    "\n",
    "from scipy.stats import mannwhitneyu\n",
    "import statsmodels.api as sm\n",
    "\n",
    "from vis.fig_tools import subtype_cm\n",
    "from vis.hex_lattice import hexplot\n",
    "import sys\n",
    "sys.path.extend('.', '..')\n",
    "from cx_analysis.utils import yymmdd_today"
   ]
  },
  {
   "cell_type": "code",
   "execution_count": 71,
   "id": "69898c9d-a585-4751-a3df-5c43240a919d",
   "metadata": {},
   "outputs": [],
   "source": [
    "### Plot style ###\n",
    "plt.rcdefaults()\n",
    "plt.style.use('vis/lamina.mplstyle')\n",
    "### SAVE FIGS? ###\n",
    "save_figs = False\n",
    "fig_path = f'/mnt/home/nchua/Dropbox/lamina_figures/{yymmdd_today()}/{yymmdd_today()}_'\n",
    "# if save_figs:\n",
    "#     fig.savefig(fig_path + 'FNAME.svg')\n",
    "#     fig.savefig(fig_path + 'FNAME.png')\n",
    "##################\n",
    "c = subtype_cm()"
   ]
  },
  {
   "cell_type": "code",
   "execution_count": 52,
   "id": "e40c734b-e374-4c31-86bb-2dd630ffff30",
   "metadata": {},
   "outputs": [],
   "source": [
    "tp = '210615'  # date data was fetched from CATMAID\n",
    "linkdf = pd.read_pickle(f'~/Data/{tp}_lamina/{tp}_linkdf.pickle')\n",
    "cxdf = pd.read_pickle(f'~/Data/{tp}_lamina/{tp}_cxdf.pickle')\n",
    "\n",
    "subtypes = np.unique([*linkdf[\"pre_type\"], *linkdf[\"post_type\"]])\n",
    "all_ctypes = [p for p in itertools.product(subtypes, subtypes)]  \n",
    "all_ctype_labels = [f\"{pre}->{post}\" for pre, post in all_ctypes]\n",
    "ommatidia = np.unique(linkdf['pre_om'])"
   ]
  },
  {
   "cell_type": "code",
   "execution_count": 52,
   "id": "1cd5507a-3c5d-45f5-a235-4b9e1fe1e365",
   "metadata": {},
   "outputs": [],
   "source": [
    "### LINKDF FILTERING ###\n",
    "# df of links with identified partners\n",
    "id_criteria = ((linkdf['pre_om'] != 'UNKNOWN') & (linkdf['post_om'] != 'UNKNOWN'))\n",
    "# df of home links\n",
    "home_criteria = ((linkdf['pre_om'] == linkdf['post_om']))\n",
    "# df of interommatidial links\n",
    "inter_criteria = (linkdf['pre_om'] != linkdf['post_om'])\n",
    "\n",
    "om_with_no_l4 = ['B0', 'C1', 'D2', 'E4', 'E5', 'E6', 'E7']"
   ]
  }
 ],
 "metadata": {
  "kernelspec": {
   "display_name": "wasp-lite",
   "language": "python",
   "name": "wasp-lite"
  },
  "language_info": {
   "codemirror_mode": {
    "name": "ipython",
    "version": 3
   },
   "file_extension": ".py",
   "mimetype": "text/x-python",
   "name": "python",
   "nbconvert_exporter": "python",
   "pygments_lexer": "ipython3",
   "version": "3.8.10"
  }
 },
 "nbformat": 4,
 "nbformat_minor": 5
}
