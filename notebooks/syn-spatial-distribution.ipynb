{
 "cells": [
  {
   "cell_type": "markdown",
   "metadata": {},
   "source": [
    "connector_coords\n",
    "TODO: This should be converted to a scrip and put in 'data_managers' or 'skeletal_analysis'"
   ]
  },
  {
   "cell_type": "code",
   "execution_count": 3,
   "metadata": {},
   "outputs": [],
   "source": [
    "import pandas as pd\n",
    "import numpy as np\n",
    "import sys\n",
    "import os\n",
    "from cx_analysis.config import parse_cfg_file\n",
    "from cx_analysis.catmaid_queries import cx_coords"
   ]
  },
  {
   "cell_type": "code",
   "execution_count": 4,
   "metadata": {},
   "outputs": [
    {
     "name": "stdout",
     "output_type": "stream",
     "text": [
      "/Users/nchua/Data/210809_lamina/\n",
      "3072 unique connector ids found\n"
     ]
    }
   ],
   "source": [
    "tp = '210809'\n",
    "data_path = os.path.expanduser(f'~/Data/{tp}_lamina/')\n",
    "print(data_path)\n",
    "links = pd.read_pickle(os.path.join(data_path, f'{tp}_linkdf.pickle'))\n",
    "\n",
    "cx_ids = np.unique(links['cx_id'])\n",
    "print(f\"{len(cx_ids)} unique connector ids found\")"
   ]
  },
  {
   "cell_type": "code",
   "execution_count": 2,
   "metadata": {},
   "outputs": [],
   "source": [
    "## RUN THIS TO GENERATE TABLE OF CONNECTOR COORDINATES (DOES CATMAID QUERY)\n",
    "# cfg = parse_cfg_file(data_path + 'cfg.json')\n",
    "# coords = dict.fromkeys(cx_ids)\n",
    "\n",
    "# for k, v in coords.items():\n",
    "#     cfg = {'cm_token': os.environ['CM_TOKEN'], 'cm_url': os.environ['CM_URL'], \n",
    "#       'p_id': 1}\n",
    "#     x, y, z = cx_coords(k, cfg)\n",
    "#     coords[k] = {'x': x, 'y': y, 'z': z}\n",
    "# coords_df = pd.DataFrame(coords).T\n",
    "# coords_df.to_pickle(data_path + f'{tp}_cxcoords.pickle')"
   ]
  },
  {
   "cell_type": "code",
   "execution_count": 5,
   "metadata": {},
   "outputs": [],
   "source": [
    "coords_df = pd.read_pickle(os.path.join(data_path, f'{tp}_cxcoords.pickle'))"
   ]
  },
  {
   "cell_type": "code",
   "execution_count": 6,
   "metadata": {},
   "outputs": [],
   "source": [
    "\n",
    "\n",
    "for om, rows in links.groupby('pre_om'):\n",
    "\n",
    "    \n",
    "    these_coords = coords_df.loc[rows['cx_id'].to_list()]\n",
    "\n",
    "    \n",
    "    # DO SOMETHING WITH THE COORDINATES, Plot or compute     \n",
    "    \n"
   ]
  },
  {
   "cell_type": "code",
   "execution_count": 7,
   "metadata": {},
   "outputs": [
    {
     "ename": "NameError",
     "evalue": "name 'coords' is not defined",
     "output_type": "error",
     "traceback": [
      "\u001b[0;31m---------------------------------------------------------------------------\u001b[0m",
      "\u001b[0;31mNameError\u001b[0m                                 Traceback (most recent call last)",
      "\u001b[0;32m<ipython-input-7-04a5cb667259>\u001b[0m in \u001b[0;36m<module>\u001b[0;34m\u001b[0m\n\u001b[0;32m----> 1\u001b[0;31m \u001b[0mcoord_df\u001b[0m \u001b[0;34m=\u001b[0m \u001b[0mpd\u001b[0m\u001b[0;34m.\u001b[0m\u001b[0mDataFrame\u001b[0m\u001b[0;34m(\u001b[0m\u001b[0mcoords\u001b[0m\u001b[0;34m)\u001b[0m\u001b[0;34m.\u001b[0m\u001b[0mT\u001b[0m\u001b[0;34m\u001b[0m\u001b[0;34m\u001b[0m\u001b[0m\n\u001b[0m\u001b[1;32m      2\u001b[0m \u001b[0mdisplay\u001b[0m\u001b[0;34m(\u001b[0m\u001b[0mcoord_df\u001b[0m\u001b[0;34m.\u001b[0m\u001b[0mhead\u001b[0m\u001b[0;34m(\u001b[0m\u001b[0;34m)\u001b[0m\u001b[0;34m)\u001b[0m\u001b[0;34m\u001b[0m\u001b[0;34m\u001b[0m\u001b[0m\n\u001b[1;32m      3\u001b[0m \u001b[0;31m#coord_df.to_pickle(data_path + f\"{tp}_cx_coords.pickle\")\u001b[0m\u001b[0;34m\u001b[0m\u001b[0;34m\u001b[0m\u001b[0;34m\u001b[0m\u001b[0m\n",
      "\u001b[0;31mNameError\u001b[0m: name 'coords' is not defined"
     ]
    }
   ],
   "source": [
    "coord_df = pd.DataFrame(coords).T\n",
    "display(coord_df.head())\n",
    "#coord_df.to_pickle(data_path + f\"{tp}_cx_coords.pickle\")"
   ]
  },
  {
   "cell_type": "code",
   "execution_count": null,
   "metadata": {},
   "outputs": [],
   "source": []
  }
 ],
 "metadata": {
  "kernelspec": {
   "display_name": "wasp",
   "language": "python",
   "name": "wasp"
  },
  "language_info": {
   "codemirror_mode": {
    "name": "ipython",
    "version": 3
   },
   "file_extension": ".py",
   "mimetype": "text/x-python",
   "name": "python",
   "nbconvert_exporter": "python",
   "pygments_lexer": "ipython3",
   "version": "3.8.11"
  }
 },
 "nbformat": 4,
 "nbformat_minor": 4
}
