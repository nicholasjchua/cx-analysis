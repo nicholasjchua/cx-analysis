{
 "cells": [
  {
   "cell_type": "code",
   "execution_count": null,
   "metadata": {},
   "outputs": [],
   "source": []
  },
  {
   "cell_type": "code",
   "execution_count": 1,
   "metadata": {},
   "outputs": [],
   "source": [
    "%load_ext autoreload\n",
    "%autoreload 2"
   ]
  },
  {
   "cell_type": "code",
   "execution_count": 2,
   "metadata": {},
   "outputs": [],
   "source": [
    "import random\n",
    "import json\n",
    "import numpy as np\n",
    "import pandas as pd\n",
    "import matplotlib.pyplot as plt\n",
    "import seaborn as sns\n",
    "from os.path import exists, expanduser\n",
    "\n",
    "from src.skeleton_morphology import run_morphology_analysis\n",
    "from src.connectome import Connectome\n",
    "from src.utils import load_preprocessed_connectome, yymmdd_today\n",
    "#from src.node_ops import segment_skeleton, find_end_points, find_central_segment, measure_path_lengths, measure_seg_distances\n",
    "from vis.fig_tools import subtype_cm\n",
    "\n",
    "plt.rcdefaults()\n",
    "plt.style.use('vis/lamina.mplstyle')"
   ]
  },
  {
   "cell_type": "code",
   "execution_count": 3,
   "metadata": {},
   "outputs": [
    {
     "name": "stdout",
     "output_type": "stream",
     "text": [
      "Pickle loaded from: /mnt/home/nchua/Data/200507_lamina/200507_preprocessed.pickle\n"
     ]
    }
   ],
   "source": [
    "tp = '200507'\n",
    "C = load_preprocessed_connectome(f\"~/Data/{tp}_lamina/\")"
   ]
  },
  {
   "cell_type": "code",
   "execution_count": null,
   "metadata": {},
   "outputs": [],
   "source": []
  },
  {
   "cell_type": "code",
   "execution_count": 4,
   "metadata": {},
   "outputs": [],
   "source": [
    "results_file = expanduser(f'~/Data/{tp}_lamina/210419_lmc-morphology.json')\n",
    "lmc_sts = ['LMC_1', 'LMC_2', 'LMC_3', 'LMC_4', 'LMC_N']#, 'LMC_3', 'LMC_4']#, 'LMC_N']#, 'R7', 'R8', 'R7p']\n",
    "lmc_ids = [s for s, data in C.skel_data.items() if data.subtype in lmc_sts]\n",
    "\n",
    "if exists(results_file):\n",
    "    with open(results_file, 'r') as fh:\n",
    "        d = json.load(fh)\n",
    "        segments, central_segs, seg_lens, seg_dists, strahler = d['segments'], d['central_segs'], d['seg_lengths'], d['seg_distances'], d['strahler']\n",
    "else:\n",
    "    segments, central_segs, seg_lens, seg_dists, strahler = run_morphology_analysis(C, lmc_ids, \n",
    "                                                                                    restrict_tags='lamina_end', \n",
    "                                                                                    save_file=results_file, \n",
    "                                                                                    verbose=False)"
   ]
  },
  {
   "cell_type": "code",
   "execution_count": null,
   "metadata": {},
   "outputs": [],
   "source": []
  },
  {
   "cell_type": "code",
   "execution_count": 5,
   "metadata": {},
   "outputs": [],
   "source": [
    "summary = []\n",
    "for s in lmc_ids:\n",
    "    data = C.skel_data[s]\n",
    "    \n",
    "    summary.append({'name': data.name,\n",
    "                    'skel_id': data.skel_id,\n",
    "                    'om': data.group,\n",
    "                    'subtype': data.subtype,\n",
    "                    'n_central_nodes': len(central_segs[s]), \n",
    "                    'n_nodes': len(data.skel_nodes) - len(data.r_nodes), \n",
    "                    'n_segments': len(segments[s]),\n",
    "                    'total_path_len': sum([v for k, v in seg_lens[s].items()]),\n",
    "                    'strahler_num': max([v for k, v in strahler[s].items()])})\n",
    "    \n",
    "cell_df = pd.DataFrame(summary).set_index('skel_id')"
   ]
  },
  {
   "cell_type": "code",
   "execution_count": 7,
   "metadata": {},
   "outputs": [],
   "source": [
    "seg_data = []\n",
    "major_segs = []\n",
    "\n",
    "def div(num: float, denom: float):\n",
    "    if denom == 0:\n",
    "        return np.nan\n",
    "    else:\n",
    "        return float(num)/float(denom)\n",
    "\n",
    "for s, segmented in segments.items():\n",
    "    for seg_ind, seg in segmented.items():\n",
    "        if int(seg_ind) in central_segs[s]:  # seg_ind = seg[1]\n",
    "            #print(f\"skip {seg_ind}\")\n",
    "            continue\n",
    "        #elif (int(seg[0]) in central_segs[s]) and strahler[s][str(seg[-1])] == 1:\n",
    "        elif (int(seg[0]) in central_segs[s]) and (strahler[s][str(seg[-1])] == 1):\n",
    "            continue  # exclude knobs, maybe also try a min length?\n",
    "        else:\n",
    "            strahl_ind = seg[-1]  \n",
    "            # strahler[s] is indexed by last node of the segment  \n",
    "            this_seg = {'skel_id': str(s),\n",
    "                         'name': cell_df.loc[s, 'name'], \n",
    "                         'subtype': cell_df.loc[s, 'subtype'],\n",
    "                         'ind': seg_ind,\n",
    "                         'dist': seg_dists[s][seg_ind], \n",
    "                         'len': seg_lens[s][seg_ind],\n",
    "                         'tortuosity': div(seg_lens[s][seg_ind], seg_dists[s][seg_ind]), \n",
    "                         'strahl_ord': strahler[s][str(strahl_ind)]}\n",
    "            seg_data.append(this_seg)\n",
    "            if int(seg[0]) in central_segs[s]:\n",
    "                major_segs.append(this_seg)\n",
    "\n",
    "seg_df = pd.DataFrame(seg_data)\n",
    "major_df = pd.DataFrame(major_segs)"
   ]
  },
  {
   "cell_type": "code",
   "execution_count": 31,
   "metadata": {},
   "outputs": [],
   "source": [
    "def subtree_total(current_ind, segs, seg_measurements, total=0.0):\n",
    "    \n",
    "    # branch index for the first and last node of the segment\n",
    "    \n",
    "    start = current_ind\n",
    "    end = segs[str(start)][-1]  \n",
    "    total += seg_measurements[str(start)] # get current segment's measurement\n",
    "    next_inds = [int(k) for k, v in segs.items() if (v[0] == end)]\n",
    "    if len(next_inds) == 0:\n",
    "        return total\n",
    "    else:\n",
    "        for i in next_inds:\n",
    "            total += subtree_total(i, segs, seg_measurements, total)\n",
    "        return total\n",
    "    \n",
    "\n",
    "subtree_total_len = []\n",
    "subtree_total_dist = []\n",
    "for i, seg_data in major_df.iterrows():\n",
    "    skel_id = seg_data['skel_id']\n",
    "    these_segs = segments[skel_id]\n",
    "\n",
    "    seg_ind = seg_data['ind']\n",
    "    subtree_total_len.append(subtree_total(seg_ind, these_segs, seg_lens[skel_id]))\n",
    "    subtree_total_dist.append(subtree_total(seg_ind, these_segs, seg_dists[skel_id]))\n",
    "    \n",
    "major_df['subtree_len'] = subtree_total_len\n",
    "major_df['subtree_dist'] = subtree_total_dist"
   ]
  },
  {
   "cell_type": "code",
   "execution_count": 45,
   "metadata": {},
   "outputs": [
    {
     "data": {
      "image/png": "[encoded data removed]",
      "text/plain": [
       "<matplotlib.figure.Figure at 0x7f7b0ec90780>"
      ]
     },
     "metadata": {
      "needs_background": "light"
     },
     "output_type": "display_data"
    }
   ],
   "source": [
    "fig, axes = plt.subplots(5, sharex=True, figsize=[8, 16])\n",
    "#bins = np.arange(1.0, 4.0, 0.05)\n",
    "i = 0\n",
    "\n",
    "for st, seg in major_df.groupby('subtype'):\n",
    "\n",
    "    xdata = seg['strahl_ord']\n",
    "    ydata = np.log(seg['subtree_len'])\n",
    "        \n",
    "    axes[i].hist(ydata)\n",
    "\n",
    "    i += 1"
   ]
  },
  {
   "cell_type": "code",
   "execution_count": 33,
   "metadata": {},
   "outputs": [
    {
     "name": "stdout",
     "output_type": "stream",
     "text": [
      "2.866259932152011e+33\n",
      "5.331551664887416e+34\n",
      "6.304040402109354e+52\n",
      "1.257652110314612e+54\n",
      "1306126345667.762\n",
      "20530020996749.125\n",
      "9.683889945980404e+17\n",
      "8.961881634102211e+18\n",
      "9934380.941410024\n",
      "55027249.03817193\n"
     ]
    }
   ],
   "source": [
    "for subtype, subtrees in major_df.groupby('subtype'):\n",
    "    \n",
    "    \n",
    "    print(subtrees['subtree_len'].mean())\n",
    "    print(subtrees['subtree_len'].std())"
   ]
  },
  {
   "cell_type": "code",
   "execution_count": null,
   "metadata": {},
   "outputs": [],
   "source": []
  }
 ],
 "metadata": {
  "kernelspec": {
   "display_name": "wasp",
   "language": "python",
   "name": "wasp"
  },
  "language_info": {
   "codemirror_mode": {
    "name": "ipython",
    "version": 3
   },
   "file_extension": ".py",
   "mimetype": "text/x-python",
   "name": "python",
   "nbconvert_exporter": "python",
   "pygments_lexer": "ipython3",
   "version": "3.6.3"
  }
 },
 "nbformat": 4,
 "nbformat_minor": 4
}
