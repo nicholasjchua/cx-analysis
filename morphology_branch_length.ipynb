{
 "cells": [
  {
   "cell_type": "code",
   "execution_count": 1,
   "metadata": {},
   "outputs": [],
   "source": [
    "%load_ext autoreload\n",
    "%autoreload 2"
   ]
  },
  {
   "cell_type": "code",
   "execution_count": 2,
   "metadata": {},
   "outputs": [],
   "source": [
    "import random\n",
    "import json\n",
    "import numpy as np\n",
    "import pandas as pd\n",
    "import matplotlib.pyplot as plt\n",
    "import seaborn as sns\n",
    "from os.path import exists, expanduser\n",
    "\n",
    "from src.skeleton_morphology import run_morphology_analysis\n",
    "from src.connectome import Connectome\n",
    "from src.utils import load_preprocessed_connectome, yymmdd_today\n",
    "from src.node_ops import segment_skeleton, find_end_points, find_central_segment, measure_path_lengths, measure_seg_distances\n",
    "from vis.fig_tools import subtype_cm\n",
    "\n",
    "plt.rcdefaults()\n",
    "plt.style.use('vis/lamina.mplstyle')"
   ]
  },
  {
   "cell_type": "code",
   "execution_count": 3,
   "metadata": {},
   "outputs": [
    {
     "name": "stdout",
     "output_type": "stream",
     "text": [
      "Pickle loaded from: /mnt/home/nchua/Data/200507_lamina/200507_preprocessed.pickle\n"
     ]
    }
   ],
   "source": [
    "tp = '200507'\n",
    "C = load_preprocessed_connectome(f\"~/Data/{tp}_lamina/\")"
   ]
  },
  {
   "cell_type": "code",
   "execution_count": 5,
   "metadata": {},
   "outputs": [
    {
     "name": "stdout",
     "output_type": "stream",
     "text": [
      "/mnt/home/nchua/Data/200507_lamina/210505_lmc-morphology.json\n",
      "Morphology data saved as /mnt/home/nchua/Data/200507_lamina/210505_lmc-morphology.json\n"
     ]
    },
    {
     "ename": "TypeError",
     "evalue": "tuple indices must be integers or slices, not str",
     "output_type": "error",
     "traceback": [
      "\u001b[0;31m---------------------------------------------------------------------------\u001b[0m",
      "\u001b[0;31mTypeError\u001b[0m                                 Traceback (most recent call last)",
      "\u001b[0;32m<ipython-input-5-a82a69cfd3a9>\u001b[0m in \u001b[0;36m<module>\u001b[0;34m\u001b[0m\n\u001b[1;32m      9\u001b[0m     \u001b[0md\u001b[0m \u001b[0;34m=\u001b[0m \u001b[0mrun_morphology_analysis\u001b[0m\u001b[0;34m(\u001b[0m\u001b[0mC\u001b[0m\u001b[0;34m,\u001b[0m \u001b[0mlmc_ids\u001b[0m\u001b[0;34m,\u001b[0m \u001b[0mrestrict_tags\u001b[0m\u001b[0;34m=\u001b[0m\u001b[0;34m'lamina_end'\u001b[0m\u001b[0;34m,\u001b[0m \u001b[0msave_file\u001b[0m\u001b[0;34m=\u001b[0m\u001b[0mexpanduser\u001b[0m\u001b[0;34m(\u001b[0m\u001b[0mresults_file\u001b[0m\u001b[0;34m)\u001b[0m\u001b[0;34m,\u001b[0m \u001b[0mverbose\u001b[0m\u001b[0;34m=\u001b[0m\u001b[0;32mFalse\u001b[0m\u001b[0;34m)\u001b[0m\u001b[0;34m\u001b[0m\u001b[0;34m\u001b[0m\u001b[0m\n\u001b[1;32m     10\u001b[0m \u001b[0;34m\u001b[0m\u001b[0m\n\u001b[0;32m---> 11\u001b[0;31m \u001b[0msegments\u001b[0m\u001b[0;34m,\u001b[0m \u001b[0mcentral_segs\u001b[0m\u001b[0;34m,\u001b[0m \u001b[0mseg_lens\u001b[0m\u001b[0;34m,\u001b[0m \u001b[0mseg_dists\u001b[0m \u001b[0;34m=\u001b[0m \u001b[0md\u001b[0m\u001b[0;34m[\u001b[0m\u001b[0;34m'segments'\u001b[0m\u001b[0;34m]\u001b[0m\u001b[0;34m,\u001b[0m \u001b[0md\u001b[0m\u001b[0;34m[\u001b[0m\u001b[0;34m'central_segs'\u001b[0m\u001b[0;34m]\u001b[0m\u001b[0;34m,\u001b[0m \u001b[0md\u001b[0m\u001b[0;34m[\u001b[0m\u001b[0;34m'seg_lengths'\u001b[0m\u001b[0;34m]\u001b[0m\u001b[0;34m,\u001b[0m \u001b[0md\u001b[0m\u001b[0;34m[\u001b[0m\u001b[0;34m'seg_distances'\u001b[0m\u001b[0;34m]\u001b[0m\u001b[0;34m\u001b[0m\u001b[0;34m\u001b[0m\u001b[0m\n\u001b[0m",
      "\u001b[0;31mTypeError\u001b[0m: tuple indices must be integers or slices, not str"
     ]
    }
   ],
   "source": [
    "results_file = expanduser(f'~/Data/{tp}_lamina/{yymmdd_today()}_lmc-morphology.json')\n",
    "subtypes = ['LMC_1', 'LMC_2', 'LMC_3', 'LMC_4', 'LMC_N']#, 'LMC_3', 'LMC_4']#, 'LMC_N']#, 'R7', 'R8', 'R7p']\n",
    "lmc_ids = [s for s, data in C.skel_data.items() if data.subtype in subtypes]\n",
    "\n",
    "if exists(results_file):\n",
    "    with open(results_file, 'r') as fh:\n",
    "        d = json.load(fh)\n",
    "else:\n",
    "    d = run_morphology_analysis(C, lmc_ids, restrict_tags='lamina_end', save_file=expanduser(results_file), verbose=False)\n",
    "\n",
    "segments, central_segs, seg_lens, seg_dists = d['segments'], d['central_segs'], d['seg_lengths'], d['seg_distances'] "
   ]
  },
  {
   "cell_type": "code",
   "execution_count": null,
   "metadata": {},
   "outputs": [],
   "source": [
    "summary_data = []\n",
    "for skel_id in lmc_ids:\n",
    "    data = C.skel_data[skel_id]\n",
    "    summary_data.append({'name': data.name,\n",
    "                         'skel_id': data.skel_id,\n",
    "                         'om': data.group,\n",
    "                         'subtype': data.subtype,\n",
    "                         'n_central_nodes': len(central_segs[skel_id]), \n",
    "                         'n_nodes': len(data.skel_nodes) - len(data.r_nodes), \n",
    "                         'n_segments': len(segments[skel_id])})\n",
    "summary_data = pd.DataFrame(summary_data).set_index('skel_id')"
   ]
  },
  {
   "cell_type": "code",
   "execution_count": null,
   "metadata": {},
   "outputs": [],
   "source": [
    "### TESTING ###\n",
    "# 1. visualize random sample of central segments\n",
    "fig, ax = plt.subplots(2, 2, figsize=[8, 8])\n",
    "skel_sample = random.sample(list(central_segs.keys()), 50)\n",
    "\n",
    "for s, central in central_segs.items():\n",
    "    if s not in skel_sample:\n",
    "        continue\n",
    "    coord_map = {data[0]: data[3:6] for data in C.skel_data[s].skel_nodes}\n",
    "    x, y, z = np.array([coord_map[n] for n in central]).T\n",
    "\n",
    "    ax[0,0].plot(x, y)\n",
    "    ax[0,1].plot(z, y)\n",
    "    ax[1,0].plot(x, z)\n",
    "ax[0, 0].axis('off')\n",
    "ax[0, 1].axis('off')\n",
    "ax[1, 0].axis('off')\n",
    "ax[1, 1].remove()\n",
    "\n",
    "plt.show()"
   ]
  },
  {
   "cell_type": "markdown",
   "metadata": {},
   "source": [
    "loose end: 13063, A3_L3"
   ]
  },
  {
   "cell_type": "code",
   "execution_count": null,
   "metadata": {},
   "outputs": [],
   "source": [
    "# 2. Visualize a random neurite's central segs vs their branches\n",
    "fig, ax = plt.subplots(2, 2, figsize=[8, 8])\n",
    "skel_sample = random.sample(list(central_segs.keys()), 1)\n",
    "\n",
    "for s, central in central_segs.items():\n",
    "    if s not in skel_sample:\n",
    "        continue\n",
    "        \n",
    "    print(s)\n",
    "    print(C.skel_data[s].name)\n",
    "    coord_map = {data[0]: data[3:6] for data in C.skel_data[s].skel_nodes}\n",
    "    for b, seg in branch_segs[s].items():\n",
    "        x, y, z = np.array([coord_map[n] for n in seg]).T\n",
    "        if (b in central):\n",
    "            ax[0,0].plot(x, y, c='r')\n",
    "            ax[0,1].plot(z, y, c='r')\n",
    "            ax[1,0].plot(x, z, c='r')\n",
    "        else:\n",
    "            ax[0,0].plot(x, y, c='g')\n",
    "            ax[0,1].plot(z, y, c='g')\n",
    "            ax[1,0].plot(x, z, c='g')\n",
    "    \n",
    "ax[0,0].set_title(C.skel_data[skel_sample[0]].name)\n",
    "ax[0, 0].axis('off')\n",
    "ax[0, 1].axis('off')\n",
    "ax[1, 0].axis('off')\n",
    "ax[1, 1].remove()\n",
    "plt.show()"
   ]
  },
  {
   "cell_type": "markdown",
   "metadata": {},
   "source": [
    "Histograms of path length and seg distance"
   ]
  },
  {
   "cell_type": "code",
   "execution_count": null,
   "metadata": {},
   "outputs": [],
   "source": [
    "df = pd.DataFrame(results)\n",
    "type(df.skel_id[0])"
   ]
  },
  {
   "cell_type": "code",
   "execution_count": null,
   "metadata": {},
   "outputs": [],
   "source": [
    "\n",
    "length_data = []\n",
    "\n",
    "\n",
    "for i, data in df.iterrows():\n",
    "    this_id = data['skel_id']  #str\n",
    "    arbors = [s for s in branch_segs[this_id].keys() if int(s) not in central_segs[this_id]]\n",
    "    \n",
    "    for a in arbors:\n",
    "        length_data.append({'skel_id': this_id, \n",
    "                            'subtype': data['subtype'],\n",
    "                            'om': data['om'], \n",
    "                            'arbor_node': a, \n",
    "                            'arbor_length': seg_lengths[this_id][a], \n",
    "                            'arbor_distance': seg_distances[this_id][a]})\n",
    "length_data = pd.DataFrame(length_data)\n",
    "fig, ax = plt.subplots(2)\n",
    "st_cm = subtype_cm()\n",
    "\n",
    "for s, rows in length_data.groupby('subtype'):\n",
    "    sns.distplot(rows['arbor_length'], ax=ax[0], color=st_cm[s], label='L'+ s[-1])\n",
    "    sns.distplot(rows['arbor_distance'], ax=ax[1], color=st_cm[s], label='L'+ s[-1])\n",
    "    \n",
    "    print(rows['arbor_length'].max())\n"
   ]
  },
  {
   "cell_type": "code",
   "execution_count": null,
   "metadata": {},
   "outputs": [],
   "source": [
    "\n",
    "df.head()"
   ]
  },
  {
   "cell_type": "code",
   "execution_count": null,
   "metadata": {},
   "outputs": [],
   "source": [
    "\n",
    "for i, skel_data in df.iterrows():\n",
    "    \n",
    "    this_skel = skel_data['skel_id']\n",
    "    \n",
    "    if this_skel != '8145':\n",
    "        continue\n",
    "    \n",
    "    this_central = central_segs[this_skel]\n",
    "    branches = branch_segs[this_skel]\n",
    "    \n",
    "    print(this_central)\n",
    "    print(branches)\n",
    "    for b, bseg in branches.items():\n",
    "        print(f\"branch {b}, {len(bseg)} nodes, {len(list(set(bseg) & set(this_central)))} in central\")\n",
    "    #df.loc[i, 'arbor_path_length'] = sum([v for k, v in seg_lengths[skel_id].items() if ])"
   ]
  },
  {
   "cell_type": "code",
   "execution_count": null,
   "metadata": {},
   "outputs": [],
   "source": [
    "fig, axes = plt.subplots(2, 3, figsize=[10, 5])\n",
    "\n",
    "for i, s in enumerate(['n_branch_points', 'n_central_nodes', 'n_total_nodes']):\n",
    "    x = df.groupby('om')[s].mean()\n",
    "    y = df.groupby('om')[s].var()\n",
    "    axes[0, i].scatter(x, y)\n",
    "    axes[0, i].set_title(s)\n",
    "    \n",
    "    x = df.groupby('subtype')[s].mean()\n",
    "    y = df.groupby('subtype')[s].var()\n",
    "    axes[1, i].scatter(x, y)\n",
    "    \n",
    "plt.show()"
   ]
  },
  {
   "cell_type": "code",
   "execution_count": null,
   "metadata": {},
   "outputs": [],
   "source": [
    "df = pd.DataFrame(results)\n",
    "df['n_den_nodes'] = df['n_total_nodes'] - df['n_central_nodes']\n",
    "df['ratio'] = df['n_den_nodes'] / df['n_total_nodes']"
   ]
  },
  {
   "cell_type": "code",
   "execution_count": null,
   "metadata": {},
   "outputs": [],
   "source": [
    "#{b: seg for b, seg in branch_segs['47823'].items() if b not in central_segs['47823'] & seg[-1] not in central_segs['']}\n",
    "test_skel = '12794'\n",
    "print(C.skel_data[test_skel].name)\n",
    "\n",
    "p = path_lengths(branch_segs[test_skel], node_list=C.skel_data[test_skel].skel_nodes)\n",
    "c = central_segs[test_skel]"
   ]
  },
  {
   "cell_type": "code",
   "execution_count": null,
   "metadata": {},
   "outputs": [],
   "source": [
    "total = sum([v for k, v in p.items()])\n",
    "branch_total = sum([v for k, v in p.items() if k not in c])\n",
    "central_total = seg_length(c, C.cfg, {data[0]: data[2:5] for data in C.skel_data[test_skel].skel_nodes})\n",
    "\n",
    "print(total)\n",
    "print(total - central_total)\n",
    "print(branch_total)\n",
    "print(central_total)"
   ]
  },
  {
   "cell_type": "code",
   "execution_count": null,
   "metadata": {},
   "outputs": [],
   "source": [
    "print(C.skel_data['47823'].name)\n",
    "some_branch_nodes = list(branch_segs['47823'].keys())\n",
    "this_center_segment = central_segs['47823']\n",
    "\n",
    "union = lambda l1, l2 : list(set(l1) & set(l2))\n",
    "\n",
    "union(some_branch_nodes, this_center_segment)\n"
   ]
  },
  {
   "cell_type": "code",
   "execution_count": null,
   "metadata": {},
   "outputs": [],
   "source": []
  }
 ],
 "metadata": {
  "kernelspec": {
   "display_name": "wasp-lite",
   "language": "python",
   "name": "wasp-lite"
  },
  "language_info": {
   "codemirror_mode": {
    "name": "ipython",
    "version": 3
   },
   "file_extension": ".py",
   "mimetype": "text/x-python",
   "name": "python",
   "nbconvert_exporter": "python",
   "pygments_lexer": "ipython3",
   "version": "3.8.10"
  }
 },
 "nbformat": 4,
 "nbformat_minor": 4
}
