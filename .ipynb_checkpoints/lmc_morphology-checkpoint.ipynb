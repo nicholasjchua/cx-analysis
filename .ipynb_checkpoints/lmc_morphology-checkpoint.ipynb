{
 "cells": [
  {
   "cell_type": "code",
   "execution_count": 4,
   "metadata": {},
   "outputs": [],
   "source": [
    "%load_ext autoreload\n",
    "%autoreload 2"
   ]
  },
  {
   "cell_type": "code",
   "execution_count": 34,
   "metadata": {},
   "outputs": [],
   "source": [
    "import pandas as pd\n",
    "from src.connectome import Connectome\n",
    "from src.utils import load_preprocessed_connectome\n",
    "from src.node_ops import segment_skeleton\n",
    "\n",
    "\n",
    "plt.rcdefaults()\n",
    "plt.style.use('vis/lamina.mplstyle')"
   ]
  },
  {
   "cell_type": "code",
   "execution_count": 10,
   "metadata": {},
   "outputs": [
    {
     "name": "stdout",
     "output_type": "stream",
     "text": [
      "Pickle loaded from: /mnt/home/nchua/Data/200507_lamina/200507_preprocessed.pickle\n"
     ]
    }
   ],
   "source": [
    "C = load_preprocessed_connectome(\"~/Data/200507_lamina/\")"
   ]
  },
  {
   "cell_type": "code",
   "execution_count": 31,
   "metadata": {},
   "outputs": [
    {
     "data": {
      "text/plain": [
       "2"
      ]
     },
     "execution_count": 31,
     "metadata": {},
     "output_type": "execute_result"
    }
   ],
   "source": [
    "# for s, data in C.skel_data.items():\n",
    "#     print(f\"{s} -> {data.subtype}\")"
   ]
  },
  {
   "cell_type": "code",
   "execution_count": 48,
   "metadata": {},
   "outputs": [],
   "source": [
    "b_data = list()\n",
    "min_nodes = 5\n",
    "lmcs = ['LMC_1', 'LMC_2', 'LMC_3', 'LMC_4', 'LMC_N']\n",
    "\n",
    "for skel_id, data in C.skel_data.items():\n",
    "    if data.subtype not in lmcs:\n",
    "        continue\n",
    "    else:\n",
    "        branches = segment_skeleton(skel_id, cfg=C.cfg, nodes=data.skel_nodes)\n",
    "        filtered = {b: n for b, n in branches.items() if len(n) > min_nodes}\n",
    "        \n",
    "        b_data.append({'name': data.name,\n",
    "                       'om': data.group,\n",
    "                       'subtype': data.subtype,\n",
    "                       'n_branches': len(filtered)})\n",
    "        "
   ]
  },
  {
   "cell_type": "code",
   "execution_count": 51,
   "metadata": {},
   "outputs": [],
   "source": [
    "df = pd.DataFrame(b_data)\n",
    "\n"
   ]
  },
  {
   "cell_type": "code",
   "execution_count": 54,
   "metadata": {},
   "outputs": [
    {
     "data": {
      "text/plain": [
       "[         n_branches\n",
       " subtype            \n",
       " LMC_1     98.137931\n",
       " LMC_2    107.862069\n",
       " LMC_3     72.793103\n",
       " LMC_4     57.590909\n",
       " LMC_N     17.827586,          n_branches\n",
       " subtype            \n",
       " LMC_1     47.249130\n",
       " LMC_2     31.384396\n",
       " LMC_3     28.205090\n",
       " LMC_4     22.070577\n",
       " LMC_N     18.608886]"
      ]
     },
     "execution_count": 54,
     "metadata": {},
     "output_type": "execute_result"
    }
   ],
   "source": [
    "[df.groupby('subtype').mean(), df.groupby('subtype').std()]"
   ]
  },
  {
   "cell_type": "code",
   "execution_count": null,
   "metadata": {},
   "outputs": [],
   "source": []
  }
 ],
 "metadata": {
  "kernelspec": {
   "display_name": "wasp",
   "language": "python",
   "name": "wasp"
  },
  "language_info": {
   "codemirror_mode": {
    "name": "ipython",
    "version": 3
   },
   "file_extension": ".py",
   "mimetype": "text/x-python",
   "name": "python",
   "nbconvert_exporter": "python",
   "pygments_lexer": "ipython3",
   "version": "3.6.3"
  }
 },
 "nbformat": 4,
 "nbformat_minor": 4
}
