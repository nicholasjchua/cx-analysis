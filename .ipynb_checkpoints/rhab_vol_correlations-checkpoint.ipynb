{
 "cells": [
  {
   "cell_type": "markdown",
   "metadata": {},
   "source": [
    "# Rhabdomere volume and lamina connectivity\n",
    "Based on models/experiments of insect photoreceptor function, larger rhabdomeres allow a photoreceptor to absorb a larger fraction of light entering the ommatidia, thereby increasing its sensitivity to smaller or faster changes in light intensity. \n",
    "- Hypothesis: Photoreceptor subtypes associated with large rhabdomere volumes must form more synapses in the lamina to make use of their expanded dynamic range compared to photoreceptors with smaller rhabdomeres.\n",
    "- Hypothesis: Within each ommatidium, differences in their photoreceptor's rhabdomere volumes would be reflected in differences between their lamina outputs. \n",
    "Note: E5's rhabdom was damaged in the imaging dataset, so the volumes recorded for this ommatidium are not accurate (could be significantly underestimated)"
   ]
  },
  {
   "cell_type": "code",
   "execution_count": 8,
   "metadata": {},
   "outputs": [],
   "source": [
    "import numpy as np\n",
    "import pandas as pd\n",
    "import matplotlib.pyplot as plt\n",
    "import seaborn as sns\n",
    "import statsmodels.api as sm\n",
    "\n",
    "from src.dataframe_tools import assemble_cxvectors, extract_connector_table\n",
    "from vis.fig_tools import linear_cmap, subtype_cm\n",
    "from vis.hex_lattice import hexplot"
   ]
  },
  {
   "cell_type": "code",
   "execution_count": 9,
   "metadata": {},
   "outputs": [],
   "source": [
    "st_cm = subtype_cm()\n",
    "plt.style.use('vis/lamina.mplstyle')\n",
    "### SAVE FIGS? ###\n",
    "savefigs=False\n",
    "##################\n",
    "# if save_figs:\n",
    "#     fig.savefig('/mnt/home/nchua/Dropbox/lamina_figures/FNAME.svg')\n",
    "#     fig.savefig('/mnt/home/nchua/Dropbox/lamina_figures/FNAME.png')"
   ]
  },
  {
   "cell_type": "code",
   "execution_count": 33,
   "metadata": {},
   "outputs": [],
   "source": [
    "# Volume data from excel provided by AM. \n",
    "# Contains both the volume of each PR's cell body, and the volume of just their rhabdomeres\n",
    "xl_dir = '~/Data/cell_rbd_volume.xlsx'\n",
    "full_df = pd.read_excel(xl_dir, header=[0, 1], index_col=0, nrows=9)\n",
    "# Currently we only want the rhabdom volumes, so remove cell body columns\n",
    "data = dict.fromkeys(full_df.columns.levels[0])\n",
    "for om in full_df.columns.levels[0]:\n",
    "    data[om] = full_df.loc[:, (om, 'rbd')]\n",
    "\n",
    "vol_df = pd.DataFrame(data)\n",
    "vol_df = vol_df.rename(mapper={\"R7'\": \"R7p\"}, axis=0).rename(mapper={\"E5*\": \"E5\"}, axis=1).T\n",
    "vol_df.index = vol_df.index.rename('om')\n",
    "vol_df.sort_values(by='om')\n",
    "\n",
    "# for st in vol_df.columns:\n",
    "#     vol_df = vol_df.rename(mapper={st: st+'_vol'}, axis=1)\n",
    "#vol_df\n",
    "total_vol = vol_df.sum(axis=1)\n",
    "frac_vol = (vol_df.T / total_vol).T\n"
   ]
  },
  {
   "cell_type": "code",
   "execution_count": 34,
   "metadata": {},
   "outputs": [],
   "source": [
    "# Load/organize lamina connectome data\n",
    "tp = '200914'\n",
    "data_path = f\"~/Data/{tp}_lamina/{tp}_linkdf.pickle\"\n",
    "\n",
    "link_df = pd.read_pickle(data_path)\n",
    "cxvecs = assemble_cxvectors(link_df).astype(float)\n",
    "# Total synaptic connections\n",
    "total_syn = cxvecs.sum(axis=1).rename_axis('Total synaptic outputs')\n",
    "total_term = link_df.groupby('pre_om')['cx_id'].nunique()\n",
    "spr_syn = cxvecs.filter(regex='R\\dR\\d->').sum(axis=1).rename_axis('Total short PR outputs')\n",
    "inputs_to_lmc = cxvecs.filter(regex='->LMC').sum(axis=1).rename_axis('Total inputs to LMCs')"
   ]
  },
  {
   "cell_type": "code",
   "execution_count": 35,
   "metadata": {},
   "outputs": [
    {
     "data": {
      "text/plain": [
       "['R1', 'R2', 'R3', 'R7p', 'R4', 'R5', 'R6', 'R7', 'R8']"
      ]
     },
     "metadata": {},
     "output_type": "display_data"
    }
   ],
   "source": [
    "rtypes = [r.split('_')[0] for r in vol_df.columns.unique()]\n",
    "display(rtypes)\n",
    "ommatidia = vol_df.index.unique()\n",
    "\n",
    "ct_df = extract_connector_table(link_df) # DataFrame of connectors (presyn terminals)"
   ]
  },
  {
   "cell_type": "code",
   "execution_count": 77,
   "metadata": {
    "lines_to_next_cell": 0
   },
   "outputs": [],
   "source": [
    "# We are interested in both the number of contacts and the number of terminals \n",
    "n_terminals = {om: dict.fromkeys(rtypes) for om in ommatidia}\n",
    "n_contacts = {om: dict.fromkeys(rtypes) for om in ommatidia}\n",
    "n_outs = link_df['pre_neuron'].value_counts().to_dict() # count of links associated with every neuron\n",
    "\n",
    "# Filter out non-short PR contacts/terminals\n",
    "# TODO: helper function to add column for sub sub type (e.g. 'R1' instead of R1R4)\n",
    "# This can be done from link_df, TODO: MAKE MORE GENERAL AND PUT IN DATAFRAME TOOLS\n",
    "for pre_name, these_rows in ct_df.groupby('pre_neuron'):\n",
    "    # using our neuron name pattern to get ommatidium/rtypes of indv photoreceptors\n",
    "    if pre_name[0:2] == 'om' and pre_name[5] == 'R':  \n",
    "        om = pre_name[2: 4]\n",
    "        r = pre_name.split('_')[1]\n",
    "        assert(len(r) in (2, 3))\n",
    "        n_terminals[om][r] = len(these_rows)\n",
    "        n_contacts[om][r] = n_outs.get(pre_name, 0)\n",
    "    else:\n",
    "        continue\n",
    "\n",
    "terms = pd.DataFrame(n_terminals).fillna(0).astype(int).T\n",
    "ctx = pd.DataFrame(n_contacts).fillna(0).astype(int).T\n",
    "\n",
    "terms.index.name = 'om'\n",
    "ctx.index.name = 'om'\n",
    "\n",
    "terms = terms.sort_values(by='om')\n",
    "ctx = ctx.sort_values(by='om')\n",
    "\n",
    "frac_ctx = (ctx.T/ctx.sum(axis=1)).T"
   ]
  },
  {
   "cell_type": "code",
   "execution_count": 48,
   "metadata": {},
   "outputs": [],
   "source": [
    "svfs = ['R1', 'R2', 'R3', 'R4', 'R5', 'R6']\n",
    "lvfs = ['R7', 'R8', 'R7p']"
   ]
  },
  {
   "cell_type": "markdown",
   "metadata": {},
   "source": [
    "### Lamina connectivity data\n",
    "- Before computing correlation, filter out: interommatidial connections, and connections with mean count < 1.0\n",
    "- Should connections associated with L4, the only cell not present in every ommatidium, be filtered out? (keep for now)"
   ]
  },
  {
   "cell_type": "code",
   "execution_count": null,
   "metadata": {},
   "outputs": [],
   "source": [
    "display(f\"Number of connections observed (all): {len(cxvecs.columns)}\")\n",
    "mean_thresh = 0.5\n",
    "cxvecs = cxvecs.loc[:, cxvecs.mean() >= mean_thresh]\n",
    "display(f\"Number of connections observed (where mean count >= {mean_thresh}): {len(cxvecs.columns)}\")\n",
    "\n",
    "only_home_connections = True\n",
    "if only_home_connections:\n",
    "    cxvecs = cxvecs.loc[:, [i for i in cxvecs.columns if ('eLMC_4' not in i) and ('eLMC_2' not in i)]]\n",
    "display(f\"Number of connections after removing inter-ommatidial: {len(cxvecs.columns)}\")"
   ]
  },
  {
   "cell_type": "markdown",
   "metadata": {},
   "source": [
    "## Rhabdomere volumes by subtype\n",
    "- Long photoreceptor subtypes generally form larger rhabdomeres\n",
    "- The smallest rhabdomeres belong to photoreceptor pairs R1&R4 and R3&R6"
   ]
  },
  {
   "cell_type": "code",
   "execution_count": null,
   "metadata": {},
   "outputs": [],
   "source": [
    "fig, ax = plt.subplots(1, figsize=[4.6, 3.8])\n",
    "# cm = linear_cmap(n_vals=100, max_colour=(1.0, 1.0, 1.0), min_colour='r')\n",
    "overall_max = vol_df.max().max()\n",
    "cm = subtype_cm()\n",
    "\n",
    "sts = [l.split('_')[0] for l in vol_df.columns]\n",
    "hues = [cm[c] for c in sts]\n",
    "\n",
    "#subtypes = sorted(subtypes)\n",
    "ax = sns.boxplot(data=vol_df, palette=hues)\n",
    "ax.set_xticklabels([l.split('_')[0] for l in vol_df.columns])\n",
    "ax.set_xlabel('Photoreceptor Subtype')\n",
    "ax.set_ylabel('Rhabdomere volume (\\u03BC$m^3$)')\n",
    "\n",
    "\n",
    "plt.show()\n",
    "if savefigs:\n",
    "    fig.savefig('/mnt/home/nchua/Dropbox/lamina_figures/rhab_vol_box.svg')\n",
    "    fig.savefig('/mnt/home/nchua/Dropbox/lamina_figures/rhab_vol_box.png')\n"
   ]
  },
  {
   "cell_type": "code",
   "execution_count": null,
   "metadata": {},
   "outputs": [],
   "source": [
    "fig, axes = plt.subplots(3, 3, figsize=[2.5*3.0, 2.5*3.0])\n",
    "for ax, this_st in zip(axes.flatten(), subtypes):\n",
    "    node_data = dict.fromkeys(all_om)\n",
    "    this_max = vol_df.loc[:, this_st].max()\n",
    "    for om in all_om:\n",
    "        x = vol_df.loc[om, this_st]\n",
    "        # change divisor of colour to x/overall_max to normalize cmap across subtypes\n",
    "        node_data[om] = {'label': f\"{x: .2f}\",\n",
    "                        'colour': cm(x/this_max)}\n",
    "    ax.set_title(f\"{this_st.split('_')[0]} Rhabdomere volume (\\u03BC$m^3$)\\n\" + \n",
    "                 f\"Mean: {vol_df[this_st].mean(): .2f}  \" +\n",
    "                 f\"SD = {vol_df[this_st].std(ddof=0): .2f}\")\n",
    "    hexplot(node_data=node_data, ax=ax)\n",
    "plt.show()\n",
    "    \n",
    "if savefigs:\n",
    "    fig.savefig('/mnt/home/nchua/Dropbox/lamina_figures/pr_vol_hex.svg')\n",
    "    fig.savefig('/mnt/home/nchua/Dropbox/lamina_figures/pr_vol_hex.png')"
   ]
  },
  {
   "cell_type": "code",
   "execution_count": null,
   "metadata": {},
   "outputs": [],
   "source": [
    "fig, axes = plt.subplots(3, 3, figsize=[2.5*3.0, 2.5*3.0])\n",
    "for ax, this_st in zip(axes.flatten(), subtypes):\n",
    "    node_data = dict.fromkeys(all_om)\n",
    "    this_max = frac_vol.loc[:, this_st].max()\n",
    "    for om in all_om:\n",
    "        x = frac_vol.loc[om, this_st]\n",
    "        # change divisor of colour to x/overall_max to normalize cmap across subtypes\n",
    "        node_data[om] = {'label': f\"{x: .2f}\",\n",
    "                        'colour': cm(x/this_max)}\n",
    "    ax.set_title(f\"{this_st.split('_')[0]} Fraction of rhabdom\\n\" + \n",
    "                 f\"Mean: {frac_vol[this_st].mean(): .2f}  \" +\n",
    "                 f\"SD = {frac_vol[this_st].std(ddof=0): .2f}\")\n",
    "    hexplot(node_data=node_data, ax=ax)\n",
    "plt.show()\n",
    "    \n",
    "if savefigs:\n",
    "    fig.savefig('/mnt/home/nchua/Dropbox/lamina_figures/pr_fracvol_hex.svg')\n",
    "    fig.savefig('/mnt/home/nchua/Dropbox/lamina_figures/pr_fracvol_hex.png')"
   ]
  },
  {
   "cell_type": "markdown",
   "metadata": {},
   "source": [
    "## Total rhabdom volume varies considerably\n",
    "- R1-6 and R7' rhabdomere volumes follow closely with total rhabdom volume\n",
    "- R7 and R8 vary according to retinotopic position"
   ]
  },
  {
   "cell_type": "code",
   "execution_count": null,
   "metadata": {},
   "outputs": [],
   "source": [
    "fig, ax = plt.subplots(1, figsize=[4.0, 4.0])\n",
    "total_vol = vol_df.sum(axis=1).rename('Total volume')\n",
    "#display(total_vol)\n",
    "max_total = total_vol.max()\n",
    "\n",
    "node_data = dict.fromkeys(all_om)\n",
    "for k, v in node_data.items():\n",
    "    x = total_vol[k]\n",
    "    node_data[k] = {\"colour\": cm(x/max_total),\n",
    "                    \"label\": f\"{x: .2f}\"}\n",
    "hexplot(node_data, ax=ax, scale_factor=0.05)\n",
    "ax.set_title(f\"Total rhabdom volume (\\u03BC$m^3$)\\n\" + \n",
    "             f\"Mean: {total_vol.mean(): .1f}\\n\" +\n",
    "             f\"SD = {total_vol.std(): .1f}\\n\")\n",
    "             "
   ]
  },
  {
   "cell_type": "code",
   "execution_count": null,
   "metadata": {},
   "outputs": [],
   "source": [
    "fig, ax = plt.subplots(1, figsize=[4.0, 4.0])\n",
    "total_range = total_syn.max() - total_syn.min()\n",
    "\n",
    "node_data = dict.fromkeys(all_om)\n",
    "for k, v in node_data.items():\n",
    "    x = total_syn[k]\n",
    "    node_data[k] = {\"colour\": cm((x-total_syn.min())/total_range),\n",
    "                    \"label\": f\"{x: .0f}\"}\n",
    "hexplot(node_data, ax=ax, scale_factor=0.05)\n",
    "ax.set_title(f\"Total synaptic connections\\n\" + \n",
    "             f\"Mean: {total_syn.mean(): .0f}\\n\" +\n",
    "             f\"SD = {total_syn.std(): .0f}\\n\")\n",
    "             "
   ]
  },
  {
   "cell_type": "markdown",
   "metadata": {},
   "source": [
    "## Total number of lamina synapses does not corelate significantly with total rhabdom volume"
   ]
  },
  {
   "cell_type": "code",
   "execution_count": null,
   "metadata": {},
   "outputs": [],
   "source": [
    "X = total_vol\n",
    "X = sm.add_constant(X)\n",
    "Y = total_syn\n",
    "\n",
    "model = sm.OLS(Y, X)\n",
    "results = model.fit()\n",
    "\n",
    "display(results.summary())"
   ]
  },
  {
   "cell_type": "markdown",
   "metadata": {},
   "source": [
    "## R1-6 rhabdomere volumes correlate with the the number of output synapses they form in the lamina"
   ]
  },
  {
   "cell_type": "code",
   "execution_count": 54,
   "metadata": {},
   "outputs": [
    {
     "data": {
      "text/html": [
       "<table class=\"simpletable\">\n",
       "<caption>OLS Regression Results</caption>\n",
       "<tr>\n",
       "  <th>Dep. Variable:</th>            <td>y</td>        <th>  R-squared:         </th> <td>   0.315</td>\n",
       "</tr>\n",
       "<tr>\n",
       "  <th>Model:</th>                   <td>OLS</td>       <th>  Adj. R-squared:    </th> <td>   0.311</td>\n",
       "</tr>\n",
       "<tr>\n",
       "  <th>Method:</th>             <td>Least Squares</td>  <th>  F-statistic:       </th> <td>   79.08</td>\n",
       "</tr>\n",
       "<tr>\n",
       "  <th>Date:</th>             <td>Tue, 08 Dec 2020</td> <th>  Prob (F-statistic):</th> <td>7.95e-16</td>\n",
       "</tr>\n",
       "<tr>\n",
       "  <th>Time:</th>                 <td>15:05:27</td>     <th>  Log-Likelihood:    </th> <td> -752.05</td>\n",
       "</tr>\n",
       "<tr>\n",
       "  <th>No. Observations:</th>      <td>   174</td>      <th>  AIC:               </th> <td>   1508.</td>\n",
       "</tr>\n",
       "<tr>\n",
       "  <th>Df Residuals:</th>          <td>   172</td>      <th>  BIC:               </th> <td>   1514.</td>\n",
       "</tr>\n",
       "<tr>\n",
       "  <th>Df Model:</th>              <td>     1</td>      <th>                     </th>     <td> </td>   \n",
       "</tr>\n",
       "<tr>\n",
       "  <th>Covariance Type:</th>      <td>nonrobust</td>    <th>                     </th>     <td> </td>   \n",
       "</tr>\n",
       "</table>\n",
       "<table class=\"simpletable\">\n",
       "<tr>\n",
       "    <td></td>       <th>coef</th>     <th>std err</th>      <th>t</th>      <th>P>|t|</th>  <th>[0.025</th>    <th>0.975]</th>  \n",
       "</tr>\n",
       "<tr>\n",
       "  <th>const</th> <td>   54.7401</td> <td>    3.305</td> <td>   16.561</td> <td> 0.000</td> <td>   48.216</td> <td>   61.264</td>\n",
       "</tr>\n",
       "<tr>\n",
       "  <th>x1</th>    <td>    7.4182</td> <td>    0.834</td> <td>    8.893</td> <td> 0.000</td> <td>    5.772</td> <td>    9.065</td>\n",
       "</tr>\n",
       "</table>\n",
       "<table class=\"simpletable\">\n",
       "<tr>\n",
       "  <th>Omnibus:</th>       <td> 0.076</td> <th>  Durbin-Watson:     </th> <td>   1.827</td>\n",
       "</tr>\n",
       "<tr>\n",
       "  <th>Prob(Omnibus):</th> <td> 0.963</td> <th>  Jarque-Bera (JB):  </th> <td>   0.062</td>\n",
       "</tr>\n",
       "<tr>\n",
       "  <th>Skew:</th>          <td> 0.042</td> <th>  Prob(JB):          </th> <td>   0.970</td>\n",
       "</tr>\n",
       "<tr>\n",
       "  <th>Kurtosis:</th>      <td> 2.962</td> <th>  Cond. No.          </th> <td>    9.92</td>\n",
       "</tr>\n",
       "</table><br/><br/>Notes:<br/>[1] Standard Errors assume that the covariance matrix of the errors is correctly specified."
      ],
      "text/plain": [
       "<class 'statsmodels.iolib.summary.Summary'>\n",
       "\"\"\"\n",
       "                            OLS Regression Results                            \n",
       "==============================================================================\n",
       "Dep. Variable:                      y   R-squared:                       0.315\n",
       "Model:                            OLS   Adj. R-squared:                  0.311\n",
       "Method:                 Least Squares   F-statistic:                     79.08\n",
       "Date:                Tue, 08 Dec 2020   Prob (F-statistic):           7.95e-16\n",
       "Time:                        15:05:27   Log-Likelihood:                -752.05\n",
       "No. Observations:                 174   AIC:                             1508.\n",
       "Df Residuals:                     172   BIC:                             1514.\n",
       "Df Model:                           1                                         \n",
       "Covariance Type:            nonrobust                                         \n",
       "==============================================================================\n",
       "                 coef    std err          t      P>|t|      [0.025      0.975]\n",
       "------------------------------------------------------------------------------\n",
       "const         54.7401      3.305     16.561      0.000      48.216      61.264\n",
       "x1             7.4182      0.834      8.893      0.000       5.772       9.065\n",
       "==============================================================================\n",
       "Omnibus:                        0.076   Durbin-Watson:                   1.827\n",
       "Prob(Omnibus):                  0.963   Jarque-Bera (JB):                0.062\n",
       "Skew:                           0.042   Prob(JB):                        0.970\n",
       "Kurtosis:                       2.962   Cond. No.                         9.92\n",
       "==============================================================================\n",
       "\n",
       "Notes:\n",
       "[1] Standard Errors assume that the covariance matrix of the errors is correctly specified.\n",
       "\"\"\""
      ]
     },
     "metadata": {},
     "output_type": "display_data"
    }
   ],
   "source": [
    "X = vol_df.loc[:, svfs].values.flatten()\n",
    "X = sm.add_constant(X)\n",
    "\n",
    "Y = ctx.loc[:, svfs].values.flatten()\n",
    "\n",
    "model = sm.OLS(Y, X)\n",
    "results = model.fit()\n",
    "\n",
    "display(results.summary())"
   ]
  },
  {
   "cell_type": "code",
   "execution_count": null,
   "metadata": {},
   "outputs": [],
   "source": []
  },
  {
   "cell_type": "code",
   "execution_count": 79,
   "metadata": {},
   "outputs": [
    {
     "data": {
      "text/plain": [
       "['R1', 'R4']"
      ]
     },
     "metadata": {},
     "output_type": "display_data"
    },
    {
     "data": {
      "text/html": [
       "<table class=\"simpletable\">\n",
       "<caption>OLS Regression Results</caption>\n",
       "<tr>\n",
       "  <th>Dep. Variable:</th>            <td>y</td>        <th>  R-squared:         </th> <td>   0.209</td>\n",
       "</tr>\n",
       "<tr>\n",
       "  <th>Model:</th>                   <td>OLS</td>       <th>  Adj. R-squared:    </th> <td>   0.195</td>\n",
       "</tr>\n",
       "<tr>\n",
       "  <th>Method:</th>             <td>Least Squares</td>  <th>  F-statistic:       </th> <td>   14.81</td>\n",
       "</tr>\n",
       "<tr>\n",
       "  <th>Date:</th>             <td>Tue, 08 Dec 2020</td> <th>  Prob (F-statistic):</th> <td>0.000307</td>\n",
       "</tr>\n",
       "<tr>\n",
       "  <th>Time:</th>                 <td>15:35:39</td>     <th>  Log-Likelihood:    </th> <td> -239.06</td>\n",
       "</tr>\n",
       "<tr>\n",
       "  <th>No. Observations:</th>      <td>    58</td>      <th>  AIC:               </th> <td>   482.1</td>\n",
       "</tr>\n",
       "<tr>\n",
       "  <th>Df Residuals:</th>          <td>    56</td>      <th>  BIC:               </th> <td>   486.2</td>\n",
       "</tr>\n",
       "<tr>\n",
       "  <th>Df Model:</th>              <td>     1</td>      <th>                     </th>     <td> </td>   \n",
       "</tr>\n",
       "<tr>\n",
       "  <th>Covariance Type:</th>      <td>nonrobust</td>    <th>                     </th>     <td> </td>   \n",
       "</tr>\n",
       "</table>\n",
       "<table class=\"simpletable\">\n",
       "<tr>\n",
       "    <td></td>       <th>coef</th>     <th>std err</th>      <th>t</th>      <th>P>|t|</th>  <th>[0.025</th>    <th>0.975]</th>  \n",
       "</tr>\n",
       "<tr>\n",
       "  <th>const</th> <td>   55.3098</td> <td>    4.478</td> <td>   12.352</td> <td> 0.000</td> <td>   46.339</td> <td>   64.280</td>\n",
       "</tr>\n",
       "<tr>\n",
       "  <th>x1</th>    <td>    4.9287</td> <td>    1.281</td> <td>    3.849</td> <td> 0.000</td> <td>    2.363</td> <td>    7.494</td>\n",
       "</tr>\n",
       "</table>\n",
       "<table class=\"simpletable\">\n",
       "<tr>\n",
       "  <th>Omnibus:</th>       <td> 0.818</td> <th>  Durbin-Watson:     </th> <td>   1.720</td>\n",
       "</tr>\n",
       "<tr>\n",
       "  <th>Prob(Omnibus):</th> <td> 0.664</td> <th>  Jarque-Bera (JB):  </th> <td>   0.407</td>\n",
       "</tr>\n",
       "<tr>\n",
       "  <th>Skew:</th>          <td>-0.195</td> <th>  Prob(JB):          </th> <td>   0.816</td>\n",
       "</tr>\n",
       "<tr>\n",
       "  <th>Kurtosis:</th>      <td> 3.130</td> <th>  Cond. No.          </th> <td>    8.38</td>\n",
       "</tr>\n",
       "</table><br/><br/>Notes:<br/>[1] Standard Errors assume that the covariance matrix of the errors is correctly specified."
      ],
      "text/plain": [
       "<class 'statsmodels.iolib.summary.Summary'>\n",
       "\"\"\"\n",
       "                            OLS Regression Results                            \n",
       "==============================================================================\n",
       "Dep. Variable:                      y   R-squared:                       0.209\n",
       "Model:                            OLS   Adj. R-squared:                  0.195\n",
       "Method:                 Least Squares   F-statistic:                     14.81\n",
       "Date:                Tue, 08 Dec 2020   Prob (F-statistic):           0.000307\n",
       "Time:                        15:35:39   Log-Likelihood:                -239.06\n",
       "No. Observations:                  58   AIC:                             482.1\n",
       "Df Residuals:                      56   BIC:                             486.2\n",
       "Df Model:                           1                                         \n",
       "Covariance Type:            nonrobust                                         \n",
       "==============================================================================\n",
       "                 coef    std err          t      P>|t|      [0.025      0.975]\n",
       "------------------------------------------------------------------------------\n",
       "const         55.3098      4.478     12.352      0.000      46.339      64.280\n",
       "x1             4.9287      1.281      3.849      0.000       2.363       7.494\n",
       "==============================================================================\n",
       "Omnibus:                        0.818   Durbin-Watson:                   1.720\n",
       "Prob(Omnibus):                  0.664   Jarque-Bera (JB):                0.407\n",
       "Skew:                          -0.195   Prob(JB):                        0.816\n",
       "Kurtosis:                       3.130   Cond. No.                         8.38\n",
       "==============================================================================\n",
       "\n",
       "Notes:\n",
       "[1] Standard Errors assume that the covariance matrix of the errors is correctly specified.\n",
       "\"\"\""
      ]
     },
     "metadata": {},
     "output_type": "display_data"
    },
    {
     "data": {
      "text/plain": [
       "array([55.30982989,  4.92867851])"
      ]
     },
     "metadata": {},
     "output_type": "display_data"
    },
    {
     "data": {
      "text/plain": [
       "['R2', 'R5']"
      ]
     },
     "metadata": {},
     "output_type": "display_data"
    },
    {
     "data": {
      "text/html": [
       "<table class=\"simpletable\">\n",
       "<caption>OLS Regression Results</caption>\n",
       "<tr>\n",
       "  <th>Dep. Variable:</th>            <td>y</td>        <th>  R-squared:         </th> <td>   0.010</td>\n",
       "</tr>\n",
       "<tr>\n",
       "  <th>Model:</th>                   <td>OLS</td>       <th>  Adj. R-squared:    </th> <td>  -0.008</td>\n",
       "</tr>\n",
       "<tr>\n",
       "  <th>Method:</th>             <td>Least Squares</td>  <th>  F-statistic:       </th> <td>  0.5598</td>\n",
       "</tr>\n",
       "<tr>\n",
       "  <th>Date:</th>             <td>Tue, 08 Dec 2020</td> <th>  Prob (F-statistic):</th>  <td> 0.457</td> \n",
       "</tr>\n",
       "<tr>\n",
       "  <th>Time:</th>                 <td>15:35:39</td>     <th>  Log-Likelihood:    </th> <td> -230.55</td>\n",
       "</tr>\n",
       "<tr>\n",
       "  <th>No. Observations:</th>      <td>    58</td>      <th>  AIC:               </th> <td>   465.1</td>\n",
       "</tr>\n",
       "<tr>\n",
       "  <th>Df Residuals:</th>          <td>    56</td>      <th>  BIC:               </th> <td>   469.2</td>\n",
       "</tr>\n",
       "<tr>\n",
       "  <th>Df Model:</th>              <td>     1</td>      <th>                     </th>     <td> </td>   \n",
       "</tr>\n",
       "<tr>\n",
       "  <th>Covariance Type:</th>      <td>nonrobust</td>    <th>                     </th>     <td> </td>   \n",
       "</tr>\n",
       "</table>\n",
       "<table class=\"simpletable\">\n",
       "<tr>\n",
       "    <td></td>       <th>coef</th>     <th>std err</th>      <th>t</th>      <th>P>|t|</th>  <th>[0.025</th>    <th>0.975]</th>  \n",
       "</tr>\n",
       "<tr>\n",
       "  <th>const</th> <td>  100.0656</td> <td>    5.555</td> <td>   18.013</td> <td> 0.000</td> <td>   88.937</td> <td>  111.194</td>\n",
       "</tr>\n",
       "<tr>\n",
       "  <th>x1</th>    <td>    0.8131</td> <td>    1.087</td> <td>    0.748</td> <td> 0.457</td> <td>   -1.364</td> <td>    2.990</td>\n",
       "</tr>\n",
       "</table>\n",
       "<table class=\"simpletable\">\n",
       "<tr>\n",
       "  <th>Omnibus:</th>       <td> 1.319</td> <th>  Durbin-Watson:     </th> <td>   1.785</td>\n",
       "</tr>\n",
       "<tr>\n",
       "  <th>Prob(Omnibus):</th> <td> 0.517</td> <th>  Jarque-Bera (JB):  </th> <td>   1.266</td>\n",
       "</tr>\n",
       "<tr>\n",
       "  <th>Skew:</th>          <td>-0.341</td> <th>  Prob(JB):          </th> <td>   0.531</td>\n",
       "</tr>\n",
       "<tr>\n",
       "  <th>Kurtosis:</th>      <td> 2.760</td> <th>  Cond. No.          </th> <td>    17.1</td>\n",
       "</tr>\n",
       "</table><br/><br/>Notes:<br/>[1] Standard Errors assume that the covariance matrix of the errors is correctly specified."
      ],
      "text/plain": [
       "<class 'statsmodels.iolib.summary.Summary'>\n",
       "\"\"\"\n",
       "                            OLS Regression Results                            \n",
       "==============================================================================\n",
       "Dep. Variable:                      y   R-squared:                       0.010\n",
       "Model:                            OLS   Adj. R-squared:                 -0.008\n",
       "Method:                 Least Squares   F-statistic:                    0.5598\n",
       "Date:                Tue, 08 Dec 2020   Prob (F-statistic):              0.457\n",
       "Time:                        15:35:39   Log-Likelihood:                -230.55\n",
       "No. Observations:                  58   AIC:                             465.1\n",
       "Df Residuals:                      56   BIC:                             469.2\n",
       "Df Model:                           1                                         \n",
       "Covariance Type:            nonrobust                                         \n",
       "==============================================================================\n",
       "                 coef    std err          t      P>|t|      [0.025      0.975]\n",
       "------------------------------------------------------------------------------\n",
       "const        100.0656      5.555     18.013      0.000      88.937     111.194\n",
       "x1             0.8131      1.087      0.748      0.457      -1.364       2.990\n",
       "==============================================================================\n",
       "Omnibus:                        1.319   Durbin-Watson:                   1.785\n",
       "Prob(Omnibus):                  0.517   Jarque-Bera (JB):                1.266\n",
       "Skew:                          -0.341   Prob(JB):                        0.531\n",
       "Kurtosis:                       2.760   Cond. No.                         17.1\n",
       "==============================================================================\n",
       "\n",
       "Notes:\n",
       "[1] Standard Errors assume that the covariance matrix of the errors is correctly specified.\n",
       "\"\"\""
      ]
     },
     "metadata": {},
     "output_type": "display_data"
    },
    {
     "data": {
      "text/plain": [
       "array([100.06559541,   0.81311158])"
      ]
     },
     "metadata": {},
     "output_type": "display_data"
    },
    {
     "data": {
      "text/plain": [
       "['R3', 'R6']"
      ]
     },
     "metadata": {},
     "output_type": "display_data"
    },
    {
     "data": {
      "text/html": [
       "<table class=\"simpletable\">\n",
       "<caption>OLS Regression Results</caption>\n",
       "<tr>\n",
       "  <th>Dep. Variable:</th>            <td>y</td>        <th>  R-squared:         </th> <td>   0.098</td>\n",
       "</tr>\n",
       "<tr>\n",
       "  <th>Model:</th>                   <td>OLS</td>       <th>  Adj. R-squared:    </th> <td>   0.082</td>\n",
       "</tr>\n",
       "<tr>\n",
       "  <th>Method:</th>             <td>Least Squares</td>  <th>  F-statistic:       </th> <td>   6.118</td>\n",
       "</tr>\n",
       "<tr>\n",
       "  <th>Date:</th>             <td>Tue, 08 Dec 2020</td> <th>  Prob (F-statistic):</th>  <td>0.0164</td> \n",
       "</tr>\n",
       "<tr>\n",
       "  <th>Time:</th>                 <td>15:35:39</td>     <th>  Log-Likelihood:    </th> <td> -238.11</td>\n",
       "</tr>\n",
       "<tr>\n",
       "  <th>No. Observations:</th>      <td>    58</td>      <th>  AIC:               </th> <td>   480.2</td>\n",
       "</tr>\n",
       "<tr>\n",
       "  <th>Df Residuals:</th>          <td>    56</td>      <th>  BIC:               </th> <td>   484.3</td>\n",
       "</tr>\n",
       "<tr>\n",
       "  <th>Df Model:</th>              <td>     1</td>      <th>                     </th>     <td> </td>   \n",
       "</tr>\n",
       "<tr>\n",
       "  <th>Covariance Type:</th>      <td>nonrobust</td>    <th>                     </th>     <td> </td>   \n",
       "</tr>\n",
       "</table>\n",
       "<table class=\"simpletable\">\n",
       "<tr>\n",
       "    <td></td>       <th>coef</th>     <th>std err</th>      <th>t</th>      <th>P>|t|</th>  <th>[0.025</th>    <th>0.975]</th>  \n",
       "</tr>\n",
       "<tr>\n",
       "  <th>const</th> <td>   55.4925</td> <td>    5.980</td> <td>    9.280</td> <td> 0.000</td> <td>   43.513</td> <td>   67.472</td>\n",
       "</tr>\n",
       "<tr>\n",
       "  <th>x1</th>    <td>    5.0011</td> <td>    2.022</td> <td>    2.473</td> <td> 0.016</td> <td>    0.951</td> <td>    9.052</td>\n",
       "</tr>\n",
       "</table>\n",
       "<table class=\"simpletable\">\n",
       "<tr>\n",
       "  <th>Omnibus:</th>       <td> 0.625</td> <th>  Durbin-Watson:     </th> <td>   1.421</td>\n",
       "</tr>\n",
       "<tr>\n",
       "  <th>Prob(Omnibus):</th> <td> 0.732</td> <th>  Jarque-Bera (JB):  </th> <td>   0.282</td>\n",
       "</tr>\n",
       "<tr>\n",
       "  <th>Skew:</th>          <td> 0.164</td> <th>  Prob(JB):          </th> <td>   0.869</td>\n",
       "</tr>\n",
       "<tr>\n",
       "  <th>Kurtosis:</th>      <td> 3.095</td> <th>  Cond. No.          </th> <td>    9.95</td>\n",
       "</tr>\n",
       "</table><br/><br/>Notes:<br/>[1] Standard Errors assume that the covariance matrix of the errors is correctly specified."
      ],
      "text/plain": [
       "<class 'statsmodels.iolib.summary.Summary'>\n",
       "\"\"\"\n",
       "                            OLS Regression Results                            \n",
       "==============================================================================\n",
       "Dep. Variable:                      y   R-squared:                       0.098\n",
       "Model:                            OLS   Adj. R-squared:                  0.082\n",
       "Method:                 Least Squares   F-statistic:                     6.118\n",
       "Date:                Tue, 08 Dec 2020   Prob (F-statistic):             0.0164\n",
       "Time:                        15:35:39   Log-Likelihood:                -238.11\n",
       "No. Observations:                  58   AIC:                             480.2\n",
       "Df Residuals:                      56   BIC:                             484.3\n",
       "Df Model:                           1                                         \n",
       "Covariance Type:            nonrobust                                         \n",
       "==============================================================================\n",
       "                 coef    std err          t      P>|t|      [0.025      0.975]\n",
       "------------------------------------------------------------------------------\n",
       "const         55.4925      5.980      9.280      0.000      43.513      67.472\n",
       "x1             5.0011      2.022      2.473      0.016       0.951       9.052\n",
       "==============================================================================\n",
       "Omnibus:                        0.625   Durbin-Watson:                   1.421\n",
       "Prob(Omnibus):                  0.732   Jarque-Bera (JB):                0.282\n",
       "Skew:                           0.164   Prob(JB):                        0.869\n",
       "Kurtosis:                       3.095   Cond. No.                         9.95\n",
       "==============================================================================\n",
       "\n",
       "Notes:\n",
       "[1] Standard Errors assume that the covariance matrix of the errors is correctly specified.\n",
       "\"\"\""
      ]
     },
     "metadata": {},
     "output_type": "display_data"
    },
    {
     "data": {
      "text/plain": [
       "array([55.49247144,  5.001146  ])"
      ]
     },
     "metadata": {},
     "output_type": "display_data"
    },
    {
     "data": {
      "image/png": "[encoded data removed]",
      "text/plain": [
       "<Figure size 1520x920 with 1 Axes>"
      ]
     },
     "metadata": {
      "needs_background": "light"
     },
     "output_type": "display_data"
    }
   ],
   "source": [
    "fig, ax = plt.subplots(1)\n",
    "\n",
    "pairs = [['R1', 'R4'], ['R2', 'R5'], ['R3', 'R6']]\n",
    "markers = ('o', '+', '^')\n",
    "\n",
    "for p, m in zip(pairs, markers):\n",
    "    display(p)\n",
    "    st_label = p[0] + p[1] # e.g. 'R1R4'\n",
    "    \n",
    "    _x = vol_df.loc[:, p].values.flatten()\n",
    "    X = sm.add_constant(_x)\n",
    "\n",
    "    Y = ctx.loc[:, p].values.flatten()\n",
    "    \n",
    "    model = sm.OLS(Y, X)\n",
    "    results = model.fit()\n",
    "    display(results.summary())\n",
    "    params = results.params\n",
    "    \n",
    "    display(params)\n",
    "    \n",
    "    #ax.scatter(x=optics_df['cone length (from the tip)'] + optics_df['lense thickness'], y=optics_df[\"f-image\"], c=c)\n",
    "    ax.scatter(x=_x, y=Y, c=st_cm[st_label], marker=m, label=st_label)\n",
    "    #ax.set_title(f'$R^{2}$ = {results.rsquared: .2f}, p < {results.f_pvalue: .1e}')\n",
    "    ax.set_xlabel('Rhabdomere volume ($\\mu{m}^3$)')\n",
    "    ax.set_ylabel(\"# output synapses\")\n",
    "\n",
    "#xx = np.arange(min(_x), max(_x))\n",
    "    xx = np.arange(0, max(_x))\n",
    "    ax.plot(xx, params[0] + params[1] * xx, c='k', ls='--')\n",
    "ax.legend()\n",
    "plt.show()\n",
    "    \n",
    "    "
   ]
  },
  {
   "cell_type": "code",
   "execution_count": 76,
   "metadata": {},
   "outputs": [
    {
     "data": {
      "text/plain": [
       "['R1', 'R4']"
      ]
     },
     "metadata": {},
     "output_type": "display_data"
    },
    {
     "data": {
      "text/html": [
       "<table class=\"simpletable\">\n",
       "<caption>OLS Regression Results</caption>\n",
       "<tr>\n",
       "  <th>Dep. Variable:</th>            <td>y</td>        <th>  R-squared:         </th> <td>   0.015</td>\n",
       "</tr>\n",
       "<tr>\n",
       "  <th>Model:</th>                   <td>OLS</td>       <th>  Adj. R-squared:    </th> <td>  -0.003</td>\n",
       "</tr>\n",
       "<tr>\n",
       "  <th>Method:</th>             <td>Least Squares</td>  <th>  F-statistic:       </th> <td>  0.8335</td>\n",
       "</tr>\n",
       "<tr>\n",
       "  <th>Date:</th>             <td>Tue, 08 Dec 2020</td> <th>  Prob (F-statistic):</th>  <td> 0.365</td> \n",
       "</tr>\n",
       "<tr>\n",
       "  <th>Time:</th>                 <td>15:31:02</td>     <th>  Log-Likelihood:    </th> <td> -245.44</td>\n",
       "</tr>\n",
       "<tr>\n",
       "  <th>No. Observations:</th>      <td>    58</td>      <th>  AIC:               </th> <td>   494.9</td>\n",
       "</tr>\n",
       "<tr>\n",
       "  <th>Df Residuals:</th>          <td>    56</td>      <th>  BIC:               </th> <td>   499.0</td>\n",
       "</tr>\n",
       "<tr>\n",
       "  <th>Df Model:</th>              <td>     1</td>      <th>                     </th>     <td> </td>   \n",
       "</tr>\n",
       "<tr>\n",
       "  <th>Covariance Type:</th>      <td>nonrobust</td>    <th>                     </th>     <td> </td>   \n",
       "</tr>\n",
       "</table>\n",
       "<table class=\"simpletable\">\n",
       "<tr>\n",
       "    <td></td>       <th>coef</th>     <th>std err</th>      <th>t</th>      <th>P>|t|</th>  <th>[0.025</th>    <th>0.975]</th>  \n",
       "</tr>\n",
       "<tr>\n",
       "  <th>const</th> <td>   62.2933</td> <td>    9.517</td> <td>    6.545</td> <td> 0.000</td> <td>   43.228</td> <td>   81.359</td>\n",
       "</tr>\n",
       "<tr>\n",
       "  <th>x1</th>    <td>  111.4665</td> <td>  122.091</td> <td>    0.913</td> <td> 0.365</td> <td> -133.111</td> <td>  356.044</td>\n",
       "</tr>\n",
       "</table>\n",
       "<table class=\"simpletable\">\n",
       "<tr>\n",
       "  <th>Omnibus:</th>       <td> 1.825</td> <th>  Durbin-Watson:     </th> <td>   1.352</td>\n",
       "</tr>\n",
       "<tr>\n",
       "  <th>Prob(Omnibus):</th> <td> 0.402</td> <th>  Jarque-Bera (JB):  </th> <td>   1.240</td>\n",
       "</tr>\n",
       "<tr>\n",
       "  <th>Skew:</th>          <td> 0.348</td> <th>  Prob(JB):          </th> <td>   0.538</td>\n",
       "</tr>\n",
       "<tr>\n",
       "  <th>Kurtosis:</th>      <td> 3.170</td> <th>  Cond. No.          </th> <td>    55.2</td>\n",
       "</tr>\n",
       "</table><br/><br/>Notes:<br/>[1] Standard Errors assume that the covariance matrix of the errors is correctly specified."
      ],
      "text/plain": [
       "<class 'statsmodels.iolib.summary.Summary'>\n",
       "\"\"\"\n",
       "                            OLS Regression Results                            \n",
       "==============================================================================\n",
       "Dep. Variable:                      y   R-squared:                       0.015\n",
       "Model:                            OLS   Adj. R-squared:                 -0.003\n",
       "Method:                 Least Squares   F-statistic:                    0.8335\n",
       "Date:                Tue, 08 Dec 2020   Prob (F-statistic):              0.365\n",
       "Time:                        15:31:02   Log-Likelihood:                -245.44\n",
       "No. Observations:                  58   AIC:                             494.9\n",
       "Df Residuals:                      56   BIC:                             499.0\n",
       "Df Model:                           1                                         \n",
       "Covariance Type:            nonrobust                                         \n",
       "==============================================================================\n",
       "                 coef    std err          t      P>|t|      [0.025      0.975]\n",
       "------------------------------------------------------------------------------\n",
       "const         62.2933      9.517      6.545      0.000      43.228      81.359\n",
       "x1           111.4665    122.091      0.913      0.365    -133.111     356.044\n",
       "==============================================================================\n",
       "Omnibus:                        1.825   Durbin-Watson:                   1.352\n",
       "Prob(Omnibus):                  0.402   Jarque-Bera (JB):                1.240\n",
       "Skew:                           0.348   Prob(JB):                        0.538\n",
       "Kurtosis:                       3.170   Cond. No.                         55.2\n",
       "==============================================================================\n",
       "\n",
       "Notes:\n",
       "[1] Standard Errors assume that the covariance matrix of the errors is correctly specified.\n",
       "\"\"\""
      ]
     },
     "metadata": {},
     "output_type": "display_data"
    },
    {
     "data": {
      "text/plain": [
       "array([ 62.29329201, 111.46652842])"
      ]
     },
     "metadata": {},
     "output_type": "display_data"
    },
    {
     "data": {
      "text/plain": [
       "['R2', 'R5']"
      ]
     },
     "metadata": {},
     "output_type": "display_data"
    },
    {
     "data": {
      "text/html": [
       "<table class=\"simpletable\">\n",
       "<caption>OLS Regression Results</caption>\n",
       "<tr>\n",
       "  <th>Dep. Variable:</th>            <td>y</td>        <th>  R-squared:         </th> <td>   0.024</td>\n",
       "</tr>\n",
       "<tr>\n",
       "  <th>Model:</th>                   <td>OLS</td>       <th>  Adj. R-squared:    </th> <td>   0.006</td>\n",
       "</tr>\n",
       "<tr>\n",
       "  <th>Method:</th>             <td>Least Squares</td>  <th>  F-statistic:       </th> <td>   1.362</td>\n",
       "</tr>\n",
       "<tr>\n",
       "  <th>Date:</th>             <td>Tue, 08 Dec 2020</td> <th>  Prob (F-statistic):</th>  <td> 0.248</td> \n",
       "</tr>\n",
       "<tr>\n",
       "  <th>Time:</th>                 <td>15:31:02</td>     <th>  Log-Likelihood:    </th> <td> -230.14</td>\n",
       "</tr>\n",
       "<tr>\n",
       "  <th>No. Observations:</th>      <td>    58</td>      <th>  AIC:               </th> <td>   464.3</td>\n",
       "</tr>\n",
       "<tr>\n",
       "  <th>Df Residuals:</th>          <td>    56</td>      <th>  BIC:               </th> <td>   468.4</td>\n",
       "</tr>\n",
       "<tr>\n",
       "  <th>Df Model:</th>              <td>     1</td>      <th>                     </th>     <td> </td>   \n",
       "</tr>\n",
       "<tr>\n",
       "  <th>Covariance Type:</th>      <td>nonrobust</td>    <th>                     </th>     <td> </td>   \n",
       "</tr>\n",
       "</table>\n",
       "<table class=\"simpletable\">\n",
       "<tr>\n",
       "    <td></td>       <th>coef</th>     <th>std err</th>      <th>t</th>      <th>P>|t|</th>  <th>[0.025</th>    <th>0.975]</th>  \n",
       "</tr>\n",
       "<tr>\n",
       "  <th>const</th> <td>  115.9135</td> <td>   10.337</td> <td>   11.213</td> <td> 0.000</td> <td>   95.206</td> <td>  136.621</td>\n",
       "</tr>\n",
       "<tr>\n",
       "  <th>x1</th>    <td>  -96.6739</td> <td>   82.848</td> <td>   -1.167</td> <td> 0.248</td> <td> -262.638</td> <td>   69.290</td>\n",
       "</tr>\n",
       "</table>\n",
       "<table class=\"simpletable\">\n",
       "<tr>\n",
       "  <th>Omnibus:</th>       <td> 0.999</td> <th>  Durbin-Watson:     </th> <td>   1.857</td>\n",
       "</tr>\n",
       "<tr>\n",
       "  <th>Prob(Omnibus):</th> <td> 0.607</td> <th>  Jarque-Bera (JB):  </th> <td>   0.891</td>\n",
       "</tr>\n",
       "<tr>\n",
       "  <th>Skew:</th>          <td>-0.294</td> <th>  Prob(JB):          </th> <td>   0.640</td>\n",
       "</tr>\n",
       "<tr>\n",
       "  <th>Kurtosis:</th>      <td> 2.849</td> <th>  Cond. No.          </th> <td>    49.2</td>\n",
       "</tr>\n",
       "</table><br/><br/>Notes:<br/>[1] Standard Errors assume that the covariance matrix of the errors is correctly specified."
      ],
      "text/plain": [
       "<class 'statsmodels.iolib.summary.Summary'>\n",
       "\"\"\"\n",
       "                            OLS Regression Results                            \n",
       "==============================================================================\n",
       "Dep. Variable:                      y   R-squared:                       0.024\n",
       "Model:                            OLS   Adj. R-squared:                  0.006\n",
       "Method:                 Least Squares   F-statistic:                     1.362\n",
       "Date:                Tue, 08 Dec 2020   Prob (F-statistic):              0.248\n",
       "Time:                        15:31:02   Log-Likelihood:                -230.14\n",
       "No. Observations:                  58   AIC:                             464.3\n",
       "Df Residuals:                      56   BIC:                             468.4\n",
       "Df Model:                           1                                         \n",
       "Covariance Type:            nonrobust                                         \n",
       "==============================================================================\n",
       "                 coef    std err          t      P>|t|      [0.025      0.975]\n",
       "------------------------------------------------------------------------------\n",
       "const        115.9135     10.337     11.213      0.000      95.206     136.621\n",
       "x1           -96.6739     82.848     -1.167      0.248    -262.638      69.290\n",
       "==============================================================================\n",
       "Omnibus:                        0.999   Durbin-Watson:                   1.857\n",
       "Prob(Omnibus):                  0.607   Jarque-Bera (JB):                0.891\n",
       "Skew:                          -0.294   Prob(JB):                        0.640\n",
       "Kurtosis:                       2.849   Cond. No.                         49.2\n",
       "==============================================================================\n",
       "\n",
       "Notes:\n",
       "[1] Standard Errors assume that the covariance matrix of the errors is correctly specified.\n",
       "\"\"\""
      ]
     },
     "metadata": {},
     "output_type": "display_data"
    },
    {
     "data": {
      "text/plain": [
       "array([115.91347371, -96.67387867])"
      ]
     },
     "metadata": {},
     "output_type": "display_data"
    },
    {
     "data": {
      "text/plain": [
       "['R3', 'R6']"
      ]
     },
     "metadata": {},
     "output_type": "display_data"
    },
    {
     "data": {
      "text/html": [
       "<table class=\"simpletable\">\n",
       "<caption>OLS Regression Results</caption>\n",
       "<tr>\n",
       "  <th>Dep. Variable:</th>            <td>y</td>        <th>  R-squared:         </th> <td>   0.052</td>\n",
       "</tr>\n",
       "<tr>\n",
       "  <th>Model:</th>                   <td>OLS</td>       <th>  Adj. R-squared:    </th> <td>   0.035</td>\n",
       "</tr>\n",
       "<tr>\n",
       "  <th>Method:</th>             <td>Least Squares</td>  <th>  F-statistic:       </th> <td>   3.071</td>\n",
       "</tr>\n",
       "<tr>\n",
       "  <th>Date:</th>             <td>Tue, 08 Dec 2020</td> <th>  Prob (F-statistic):</th>  <td>0.0852</td> \n",
       "</tr>\n",
       "<tr>\n",
       "  <th>Time:</th>                 <td>15:31:02</td>     <th>  Log-Likelihood:    </th> <td> -239.56</td>\n",
       "</tr>\n",
       "<tr>\n",
       "  <th>No. Observations:</th>      <td>    58</td>      <th>  AIC:               </th> <td>   483.1</td>\n",
       "</tr>\n",
       "<tr>\n",
       "  <th>Df Residuals:</th>          <td>    56</td>      <th>  BIC:               </th> <td>   487.2</td>\n",
       "</tr>\n",
       "<tr>\n",
       "  <th>Df Model:</th>              <td>     1</td>      <th>                     </th>     <td> </td>   \n",
       "</tr>\n",
       "<tr>\n",
       "  <th>Covariance Type:</th>      <td>nonrobust</td>    <th>                     </th>     <td> </td>   \n",
       "</tr>\n",
       "</table>\n",
       "<table class=\"simpletable\">\n",
       "<tr>\n",
       "    <td></td>       <th>coef</th>     <th>std err</th>      <th>t</th>      <th>P>|t|</th>  <th>[0.025</th>    <th>0.975]</th>  \n",
       "</tr>\n",
       "<tr>\n",
       "  <th>const</th> <td>   82.1207</td> <td>    7.496</td> <td>   10.955</td> <td> 0.000</td> <td>   67.104</td> <td>   97.137</td>\n",
       "</tr>\n",
       "<tr>\n",
       "  <th>x1</th>    <td> -177.3699</td> <td>  101.211</td> <td>   -1.752</td> <td> 0.085</td> <td> -380.119</td> <td>   25.380</td>\n",
       "</tr>\n",
       "</table>\n",
       "<table class=\"simpletable\">\n",
       "<tr>\n",
       "  <th>Omnibus:</th>       <td> 0.851</td> <th>  Durbin-Watson:     </th> <td>   1.507</td>\n",
       "</tr>\n",
       "<tr>\n",
       "  <th>Prob(Omnibus):</th> <td> 0.654</td> <th>  Jarque-Bera (JB):  </th> <td>   0.915</td>\n",
       "</tr>\n",
       "<tr>\n",
       "  <th>Skew:</th>          <td> 0.263</td> <th>  Prob(JB):          </th> <td>   0.633</td>\n",
       "</tr>\n",
       "<tr>\n",
       "  <th>Kurtosis:</th>      <td> 2.681</td> <th>  Cond. No.          </th> <td>    50.6</td>\n",
       "</tr>\n",
       "</table><br/><br/>Notes:<br/>[1] Standard Errors assume that the covariance matrix of the errors is correctly specified."
      ],
      "text/plain": [
       "<class 'statsmodels.iolib.summary.Summary'>\n",
       "\"\"\"\n",
       "                            OLS Regression Results                            \n",
       "==============================================================================\n",
       "Dep. Variable:                      y   R-squared:                       0.052\n",
       "Model:                            OLS   Adj. R-squared:                  0.035\n",
       "Method:                 Least Squares   F-statistic:                     3.071\n",
       "Date:                Tue, 08 Dec 2020   Prob (F-statistic):             0.0852\n",
       "Time:                        15:31:02   Log-Likelihood:                -239.56\n",
       "No. Observations:                  58   AIC:                             483.1\n",
       "Df Residuals:                      56   BIC:                             487.2\n",
       "Df Model:                           1                                         \n",
       "Covariance Type:            nonrobust                                         \n",
       "==============================================================================\n",
       "                 coef    std err          t      P>|t|      [0.025      0.975]\n",
       "------------------------------------------------------------------------------\n",
       "const         82.1207      7.496     10.955      0.000      67.104      97.137\n",
       "x1          -177.3699    101.211     -1.752      0.085    -380.119      25.380\n",
       "==============================================================================\n",
       "Omnibus:                        0.851   Durbin-Watson:                   1.507\n",
       "Prob(Omnibus):                  0.654   Jarque-Bera (JB):                0.915\n",
       "Skew:                           0.263   Prob(JB):                        0.633\n",
       "Kurtosis:                       2.681   Cond. No.                         50.6\n",
       "==============================================================================\n",
       "\n",
       "Notes:\n",
       "[1] Standard Errors assume that the covariance matrix of the errors is correctly specified.\n",
       "\"\"\""
      ]
     },
     "metadata": {},
     "output_type": "display_data"
    },
    {
     "data": {
      "text/plain": [
       "array([  82.1207315 , -177.36990965])"
      ]
     },
     "metadata": {},
     "output_type": "display_data"
    },
    {
     "data": {
      "image/png": "[encoded data removed]",
      "text/plain": [
       "<Figure size 1520x920 with 1 Axes>"
      ]
     },
     "metadata": {
      "needs_background": "light"
     },
     "output_type": "display_data"
    }
   ],
   "source": [
    "fig, ax = plt.subplots(1)\n",
    "\n",
    "pairs = [['R1', 'R4'], ['R2', 'R5'], ['R3', 'R6']]\n",
    "markers = ('o', '+', '^')\n",
    "\n",
    "for p, m in zip(pairs, markers):\n",
    "    display(p)\n",
    "    st_label = p[0] + p[1] # e.g. 'R1R4'\n",
    "    \n",
    "    _x = frac_vol.loc[:, p].values.flatten()\n",
    "    X = sm.add_constant(_x)\n",
    "\n",
    "    Y = ctx.loc[:, p].values.flatten()\n",
    "    \n",
    "    model = sm.OLS(Y, X)\n",
    "    results = model.fit()\n",
    "    display(results.summary())\n",
    "    params = results.params\n",
    "    \n",
    "    display(params)\n",
    "    \n",
    "    #ax.scatter(x=optics_df['cone length (from the tip)'] + optics_df['lense thickness'], y=optics_df[\"f-image\"], c=c)\n",
    "    ax.scatter(x=_x, y=Y, c=st_cm[st_label], marker=m)\n",
    "    #ax.set_title(f'$R^{2}$ = {results.rsquared: .2f}, p < {results.f_pvalue: .1e}')\n",
    "    ax.set_xlabel('Fraction of rhabdom volume')\n",
    "    ax.set_ylabel(\"# output synapses\")\n",
    "\n",
    "#xx = np.arange(min(_x), max(_x))\n",
    "    xx = np.arange(0, max(_x))\n",
    "    ax.plot(xx, params[0] + params[1] * xx, c='k', ls='--')\n",
    "\n",
    "plt.show()\n",
    "    \n",
    "    "
   ]
  },
  {
   "cell_type": "code",
   "execution_count": 78,
   "metadata": {},
   "outputs": [
    {
     "data": {
      "text/plain": [
       "['R1', 'R4']"
      ]
     },
     "metadata": {},
     "output_type": "display_data"
    },
    {
     "data": {
      "text/html": [
       "<table class=\"simpletable\">\n",
       "<caption>OLS Regression Results</caption>\n",
       "<tr>\n",
       "  <th>Dep. Variable:</th>            <td>y</td>        <th>  R-squared:         </th> <td>   0.025</td>\n",
       "</tr>\n",
       "<tr>\n",
       "  <th>Model:</th>                   <td>OLS</td>       <th>  Adj. R-squared:    </th> <td>   0.008</td>\n",
       "</tr>\n",
       "<tr>\n",
       "  <th>Method:</th>             <td>Least Squares</td>  <th>  F-statistic:       </th> <td>   1.452</td>\n",
       "</tr>\n",
       "<tr>\n",
       "  <th>Date:</th>             <td>Tue, 08 Dec 2020</td> <th>  Prob (F-statistic):</th>  <td> 0.233</td> \n",
       "</tr>\n",
       "<tr>\n",
       "  <th>Time:</th>                 <td>15:33:37</td>     <th>  Log-Likelihood:    </th> <td>  142.18</td>\n",
       "</tr>\n",
       "<tr>\n",
       "  <th>No. Observations:</th>      <td>    58</td>      <th>  AIC:               </th> <td>  -280.4</td>\n",
       "</tr>\n",
       "<tr>\n",
       "  <th>Df Residuals:</th>          <td>    56</td>      <th>  BIC:               </th> <td>  -276.2</td>\n",
       "</tr>\n",
       "<tr>\n",
       "  <th>Df Model:</th>              <td>     1</td>      <th>                     </th>     <td> </td>   \n",
       "</tr>\n",
       "<tr>\n",
       "  <th>Covariance Type:</th>      <td>nonrobust</td>    <th>                     </th>     <td> </td>   \n",
       "</tr>\n",
       "</table>\n",
       "<table class=\"simpletable\">\n",
       "<tr>\n",
       "    <td></td>       <th>coef</th>     <th>std err</th>      <th>t</th>      <th>P>|t|</th>  <th>[0.025</th>    <th>0.975]</th>  \n",
       "</tr>\n",
       "<tr>\n",
       "  <th>const</th> <td>    0.1297</td> <td>    0.012</td> <td>   10.885</td> <td> 0.000</td> <td>    0.106</td> <td>    0.154</td>\n",
       "</tr>\n",
       "<tr>\n",
       "  <th>x1</th>    <td>    0.1842</td> <td>    0.153</td> <td>    1.205</td> <td> 0.233</td> <td>   -0.122</td> <td>    0.490</td>\n",
       "</tr>\n",
       "</table>\n",
       "<table class=\"simpletable\">\n",
       "<tr>\n",
       "  <th>Omnibus:</th>       <td> 0.909</td> <th>  Durbin-Watson:     </th> <td>   2.307</td>\n",
       "</tr>\n",
       "<tr>\n",
       "  <th>Prob(Omnibus):</th> <td> 0.635</td> <th>  Jarque-Bera (JB):  </th> <td>   0.995</td>\n",
       "</tr>\n",
       "<tr>\n",
       "  <th>Skew:</th>          <td>-0.251</td> <th>  Prob(JB):          </th> <td>   0.608</td>\n",
       "</tr>\n",
       "<tr>\n",
       "  <th>Kurtosis:</th>      <td> 2.601</td> <th>  Cond. No.          </th> <td>    55.2</td>\n",
       "</tr>\n",
       "</table><br/><br/>Notes:<br/>[1] Standard Errors assume that the covariance matrix of the errors is correctly specified."
      ],
      "text/plain": [
       "<class 'statsmodels.iolib.summary.Summary'>\n",
       "\"\"\"\n",
       "                            OLS Regression Results                            \n",
       "==============================================================================\n",
       "Dep. Variable:                      y   R-squared:                       0.025\n",
       "Model:                            OLS   Adj. R-squared:                  0.008\n",
       "Method:                 Least Squares   F-statistic:                     1.452\n",
       "Date:                Tue, 08 Dec 2020   Prob (F-statistic):              0.233\n",
       "Time:                        15:33:37   Log-Likelihood:                 142.18\n",
       "No. Observations:                  58   AIC:                            -280.4\n",
       "Df Residuals:                      56   BIC:                            -276.2\n",
       "Df Model:                           1                                         \n",
       "Covariance Type:            nonrobust                                         \n",
       "==============================================================================\n",
       "                 coef    std err          t      P>|t|      [0.025      0.975]\n",
       "------------------------------------------------------------------------------\n",
       "const          0.1297      0.012     10.885      0.000       0.106       0.154\n",
       "x1             0.1842      0.153      1.205      0.233      -0.122       0.490\n",
       "==============================================================================\n",
       "Omnibus:                        0.909   Durbin-Watson:                   2.307\n",
       "Prob(Omnibus):                  0.635   Jarque-Bera (JB):                0.995\n",
       "Skew:                          -0.251   Prob(JB):                        0.608\n",
       "Kurtosis:                       2.601   Cond. No.                         55.2\n",
       "==============================================================================\n",
       "\n",
       "Notes:\n",
       "[1] Standard Errors assume that the covariance matrix of the errors is correctly specified.\n",
       "\"\"\""
      ]
     },
     "metadata": {},
     "output_type": "display_data"
    },
    {
     "data": {
      "text/plain": [
       "array([0.12968582, 0.18418469])"
      ]
     },
     "metadata": {},
     "output_type": "display_data"
    },
    {
     "data": {
      "text/plain": [
       "['R2', 'R5']"
      ]
     },
     "metadata": {},
     "output_type": "display_data"
    },
    {
     "data": {
      "text/html": [
       "<table class=\"simpletable\">\n",
       "<caption>OLS Regression Results</caption>\n",
       "<tr>\n",
       "  <th>Dep. Variable:</th>            <td>y</td>        <th>  R-squared:         </th> <td>   0.062</td>\n",
       "</tr>\n",
       "<tr>\n",
       "  <th>Model:</th>                   <td>OLS</td>       <th>  Adj. R-squared:    </th> <td>   0.045</td>\n",
       "</tr>\n",
       "<tr>\n",
       "  <th>Method:</th>             <td>Least Squares</td>  <th>  F-statistic:       </th> <td>   3.689</td>\n",
       "</tr>\n",
       "<tr>\n",
       "  <th>Date:</th>             <td>Tue, 08 Dec 2020</td> <th>  Prob (F-statistic):</th>  <td>0.0599</td> \n",
       "</tr>\n",
       "<tr>\n",
       "  <th>Time:</th>                 <td>15:33:37</td>     <th>  Log-Likelihood:    </th> <td>  133.78</td>\n",
       "</tr>\n",
       "<tr>\n",
       "  <th>No. Observations:</th>      <td>    58</td>      <th>  AIC:               </th> <td>  -263.6</td>\n",
       "</tr>\n",
       "<tr>\n",
       "  <th>Df Residuals:</th>          <td>    56</td>      <th>  BIC:               </th> <td>  -259.4</td>\n",
       "</tr>\n",
       "<tr>\n",
       "  <th>Df Model:</th>              <td>     1</td>      <th>                     </th>     <td> </td>   \n",
       "</tr>\n",
       "<tr>\n",
       "  <th>Covariance Type:</th>      <td>nonrobust</td>    <th>                     </th>     <td> </td>   \n",
       "</tr>\n",
       "</table>\n",
       "<table class=\"simpletable\">\n",
       "<tr>\n",
       "    <td></td>       <th>coef</th>     <th>std err</th>      <th>t</th>      <th>P>|t|</th>  <th>[0.025</th>    <th>0.975]</th>  \n",
       "</tr>\n",
       "<tr>\n",
       "  <th>const</th> <td>    0.1777</td> <td>    0.019</td> <td>    9.128</td> <td> 0.000</td> <td>    0.139</td> <td>    0.217</td>\n",
       "</tr>\n",
       "<tr>\n",
       "  <th>x1</th>    <td>    0.2998</td> <td>    0.156</td> <td>    1.921</td> <td> 0.060</td> <td>   -0.013</td> <td>    0.612</td>\n",
       "</tr>\n",
       "</table>\n",
       "<table class=\"simpletable\">\n",
       "<tr>\n",
       "  <th>Omnibus:</th>       <td> 0.705</td> <th>  Durbin-Watson:     </th> <td>   1.552</td>\n",
       "</tr>\n",
       "<tr>\n",
       "  <th>Prob(Omnibus):</th> <td> 0.703</td> <th>  Jarque-Bera (JB):  </th> <td>   0.632</td>\n",
       "</tr>\n",
       "<tr>\n",
       "  <th>Skew:</th>          <td> 0.245</td> <th>  Prob(JB):          </th> <td>   0.729</td>\n",
       "</tr>\n",
       "<tr>\n",
       "  <th>Kurtosis:</th>      <td> 2.852</td> <th>  Cond. No.          </th> <td>    49.2</td>\n",
       "</tr>\n",
       "</table><br/><br/>Notes:<br/>[1] Standard Errors assume that the covariance matrix of the errors is correctly specified."
      ],
      "text/plain": [
       "<class 'statsmodels.iolib.summary.Summary'>\n",
       "\"\"\"\n",
       "                            OLS Regression Results                            \n",
       "==============================================================================\n",
       "Dep. Variable:                      y   R-squared:                       0.062\n",
       "Model:                            OLS   Adj. R-squared:                  0.045\n",
       "Method:                 Least Squares   F-statistic:                     3.689\n",
       "Date:                Tue, 08 Dec 2020   Prob (F-statistic):             0.0599\n",
       "Time:                        15:33:37   Log-Likelihood:                 133.78\n",
       "No. Observations:                  58   AIC:                            -263.6\n",
       "Df Residuals:                      56   BIC:                            -259.4\n",
       "Df Model:                           1                                         \n",
       "Covariance Type:            nonrobust                                         \n",
       "==============================================================================\n",
       "                 coef    std err          t      P>|t|      [0.025      0.975]\n",
       "------------------------------------------------------------------------------\n",
       "const          0.1777      0.019      9.128      0.000       0.139       0.217\n",
       "x1             0.2998      0.156      1.921      0.060      -0.013       0.612\n",
       "==============================================================================\n",
       "Omnibus:                        0.705   Durbin-Watson:                   1.552\n",
       "Prob(Omnibus):                  0.703   Jarque-Bera (JB):                0.632\n",
       "Skew:                           0.245   Prob(JB):                        0.729\n",
       "Kurtosis:                       2.852   Cond. No.                         49.2\n",
       "==============================================================================\n",
       "\n",
       "Notes:\n",
       "[1] Standard Errors assume that the covariance matrix of the errors is correctly specified.\n",
       "\"\"\""
      ]
     },
     "metadata": {},
     "output_type": "display_data"
    },
    {
     "data": {
      "text/plain": [
       "array([0.17774987, 0.29975832])"
      ]
     },
     "metadata": {},
     "output_type": "display_data"
    },
    {
     "data": {
      "text/plain": [
       "['R3', 'R6']"
      ]
     },
     "metadata": {},
     "output_type": "display_data"
    },
    {
     "data": {
      "text/html": [
       "<table class=\"simpletable\">\n",
       "<caption>OLS Regression Results</caption>\n",
       "<tr>\n",
       "  <th>Dep. Variable:</th>            <td>y</td>        <th>  R-squared:         </th> <td>   0.008</td>\n",
       "</tr>\n",
       "<tr>\n",
       "  <th>Model:</th>                   <td>OLS</td>       <th>  Adj. R-squared:    </th> <td>  -0.010</td>\n",
       "</tr>\n",
       "<tr>\n",
       "  <th>Method:</th>             <td>Least Squares</td>  <th>  F-statistic:       </th> <td>  0.4551</td>\n",
       "</tr>\n",
       "<tr>\n",
       "  <th>Date:</th>             <td>Tue, 08 Dec 2020</td> <th>  Prob (F-statistic):</th>  <td> 0.503</td> \n",
       "</tr>\n",
       "<tr>\n",
       "  <th>Time:</th>                 <td>15:33:37</td>     <th>  Log-Likelihood:    </th> <td>  144.52</td>\n",
       "</tr>\n",
       "<tr>\n",
       "  <th>No. Observations:</th>      <td>    58</td>      <th>  AIC:               </th> <td>  -285.0</td>\n",
       "</tr>\n",
       "<tr>\n",
       "  <th>Df Residuals:</th>          <td>    56</td>      <th>  BIC:               </th> <td>  -280.9</td>\n",
       "</tr>\n",
       "<tr>\n",
       "  <th>Df Model:</th>              <td>     1</td>      <th>                     </th>     <td> </td>   \n",
       "</tr>\n",
       "<tr>\n",
       "  <th>Covariance Type:</th>      <td>nonrobust</td>    <th>                     </th>     <td> </td>   \n",
       "</tr>\n",
       "</table>\n",
       "<table class=\"simpletable\">\n",
       "<tr>\n",
       "    <td></td>       <th>coef</th>     <th>std err</th>      <th>t</th>      <th>P>|t|</th>  <th>[0.025</th>    <th>0.975]</th>  \n",
       "</tr>\n",
       "<tr>\n",
       "  <th>const</th> <td>    0.1478</td> <td>    0.010</td> <td>   14.820</td> <td> 0.000</td> <td>    0.128</td> <td>    0.168</td>\n",
       "</tr>\n",
       "<tr>\n",
       "  <th>x1</th>    <td>   -0.0908</td> <td>    0.135</td> <td>   -0.675</td> <td> 0.503</td> <td>   -0.361</td> <td>    0.179</td>\n",
       "</tr>\n",
       "</table>\n",
       "<table class=\"simpletable\">\n",
       "<tr>\n",
       "  <th>Omnibus:</th>       <td> 2.632</td> <th>  Durbin-Watson:     </th> <td>   2.577</td>\n",
       "</tr>\n",
       "<tr>\n",
       "  <th>Prob(Omnibus):</th> <td> 0.268</td> <th>  Jarque-Bera (JB):  </th> <td>   2.319</td>\n",
       "</tr>\n",
       "<tr>\n",
       "  <th>Skew:</th>          <td> 0.386</td> <th>  Prob(JB):          </th> <td>   0.314</td>\n",
       "</tr>\n",
       "<tr>\n",
       "  <th>Kurtosis:</th>      <td> 2.398</td> <th>  Cond. No.          </th> <td>    50.6</td>\n",
       "</tr>\n",
       "</table><br/><br/>Notes:<br/>[1] Standard Errors assume that the covariance matrix of the errors is correctly specified."
      ],
      "text/plain": [
       "<class 'statsmodels.iolib.summary.Summary'>\n",
       "\"\"\"\n",
       "                            OLS Regression Results                            \n",
       "==============================================================================\n",
       "Dep. Variable:                      y   R-squared:                       0.008\n",
       "Model:                            OLS   Adj. R-squared:                 -0.010\n",
       "Method:                 Least Squares   F-statistic:                    0.4551\n",
       "Date:                Tue, 08 Dec 2020   Prob (F-statistic):              0.503\n",
       "Time:                        15:33:37   Log-Likelihood:                 144.52\n",
       "No. Observations:                  58   AIC:                            -285.0\n",
       "Df Residuals:                      56   BIC:                            -280.9\n",
       "Df Model:                           1                                         \n",
       "Covariance Type:            nonrobust                                         \n",
       "==============================================================================\n",
       "                 coef    std err          t      P>|t|      [0.025      0.975]\n",
       "------------------------------------------------------------------------------\n",
       "const          0.1478      0.010     14.820      0.000       0.128       0.168\n",
       "x1            -0.0908      0.135     -0.675      0.503      -0.361       0.179\n",
       "==============================================================================\n",
       "Omnibus:                        2.632   Durbin-Watson:                   2.577\n",
       "Prob(Omnibus):                  0.268   Jarque-Bera (JB):                2.319\n",
       "Skew:                           0.386   Prob(JB):                        0.314\n",
       "Kurtosis:                       2.398   Cond. No.                         50.6\n",
       "==============================================================================\n",
       "\n",
       "Notes:\n",
       "[1] Standard Errors assume that the covariance matrix of the errors is correctly specified.\n",
       "\"\"\""
      ]
     },
     "metadata": {},
     "output_type": "display_data"
    },
    {
     "data": {
      "text/plain": [
       "array([ 0.14781119, -0.09084299])"
      ]
     },
     "metadata": {},
     "output_type": "display_data"
    },
    {
     "data": {
      "image/png": "[encoded data removed]",
      "text/plain": [
       "<Figure size 1520x920 with 1 Axes>"
      ]
     },
     "metadata": {
      "needs_background": "light"
     },
     "output_type": "display_data"
    }
   ],
   "source": [
    "fig, ax = plt.subplots(1)\n",
    "\n",
    "pairs = [['R1', 'R4'], ['R2', 'R5'], ['R3', 'R6']]\n",
    "markers = ('o', '+', '^')\n",
    "\n",
    "for p, m in zip(pairs, markers):\n",
    "    display(p)\n",
    "    st_label = p[0] + p[1] # e.g. 'R1R4'\n",
    "    \n",
    "    _x = frac_vol.loc[:, p].values.flatten()\n",
    "    X = sm.add_constant(_x)\n",
    "\n",
    "    Y = frac_ctx.loc[:, p].values.flatten()\n",
    "    \n",
    "    model = sm.OLS(Y, X)\n",
    "    results = model.fit()\n",
    "    display(results.summary())\n",
    "    params = results.params\n",
    "    \n",
    "    display(params)\n",
    "    \n",
    "    #ax.scatter(x=optics_df['cone length (from the tip)'] + optics_df['lense thickness'], y=optics_df[\"f-image\"], c=c)\n",
    "    ax.scatter(x=_x, y=Y, c=st_cm[st_label], marker=m)\n",
    "    #ax.set_title(f'$R^{2}$ = {results.rsquared: .2f}, p < {results.f_pvalue: .1e}')\n",
    "    ax.set_xlabel('Fraction of rhabdom volume')\n",
    "    ax.set_ylabel(\"Fraction of R1-6 output synapses\")\n",
    "\n",
    "#xx = np.arange(min(_x), max(_x))\n",
    "    xx = np.arange(0, max(_x))\n",
    "    ax.plot(xx, params[0] + params[1] * xx, c='k', ls='--')\n",
    "\n",
    "plt.show()\n",
    "    \n",
    "    "
   ]
  },
  {
   "cell_type": "code",
   "execution_count": 63,
   "metadata": {},
   "outputs": [
    {
     "data": {
      "text/html": [
       "<div>\n",
       "<style scoped>\n",
       "    .dataframe tbody tr th:only-of-type {\n",
       "        vertical-align: middle;\n",
       "    }\n",
       "\n",
       "    .dataframe tbody tr th {\n",
       "        vertical-align: top;\n",
       "    }\n",
       "\n",
       "    .dataframe thead th {\n",
       "        text-align: right;\n",
       "    }\n",
       "</style>\n",
       "<table border=\"1\" class=\"dataframe\">\n",
       "  <thead>\n",
       "    <tr style=\"text-align: right;\">\n",
       "      <th></th>\n",
       "      <th>const</th>\n",
       "      <th>0</th>\n",
       "    </tr>\n",
       "    <tr>\n",
       "      <th>om</th>\n",
       "      <th></th>\n",
       "      <th></th>\n",
       "    </tr>\n",
       "  </thead>\n",
       "  <tbody>\n",
       "    <tr>\n",
       "      <th>A0</th>\n",
       "      <td>1.0</td>\n",
       "      <td>-0.655110</td>\n",
       "    </tr>\n",
       "    <tr>\n",
       "      <th>A1</th>\n",
       "      <td>1.0</td>\n",
       "      <td>2.000522</td>\n",
       "    </tr>\n",
       "    <tr>\n",
       "      <th>A2</th>\n",
       "      <td>1.0</td>\n",
       "      <td>0.692082</td>\n",
       "    </tr>\n",
       "    <tr>\n",
       "      <th>A3</th>\n",
       "      <td>1.0</td>\n",
       "      <td>-0.914104</td>\n",
       "    </tr>\n",
       "    <tr>\n",
       "      <th>A4</th>\n",
       "      <td>1.0</td>\n",
       "      <td>0.908693</td>\n",
       "    </tr>\n",
       "    <tr>\n",
       "      <th>A5</th>\n",
       "      <td>1.0</td>\n",
       "      <td>0.086129</td>\n",
       "    </tr>\n",
       "    <tr>\n",
       "      <th>B0</th>\n",
       "      <td>1.0</td>\n",
       "      <td>-1.718917</td>\n",
       "    </tr>\n",
       "    <tr>\n",
       "      <th>B1</th>\n",
       "      <td>1.0</td>\n",
       "      <td>1.038487</td>\n",
       "    </tr>\n",
       "    <tr>\n",
       "      <th>B2</th>\n",
       "      <td>1.0</td>\n",
       "      <td>-0.012749</td>\n",
       "    </tr>\n",
       "    <tr>\n",
       "      <th>B3</th>\n",
       "      <td>1.0</td>\n",
       "      <td>1.665379</td>\n",
       "    </tr>\n",
       "    <tr>\n",
       "      <th>B4</th>\n",
       "      <td>1.0</td>\n",
       "      <td>-0.677747</td>\n",
       "    </tr>\n",
       "    <tr>\n",
       "      <th>B5</th>\n",
       "      <td>1.0</td>\n",
       "      <td>0.184079</td>\n",
       "    </tr>\n",
       "    <tr>\n",
       "      <th>B6</th>\n",
       "      <td>1.0</td>\n",
       "      <td>-0.014480</td>\n",
       "    </tr>\n",
       "    <tr>\n",
       "      <th>C1</th>\n",
       "      <td>1.0</td>\n",
       "      <td>2.092447</td>\n",
       "    </tr>\n",
       "    <tr>\n",
       "      <th>C2</th>\n",
       "      <td>1.0</td>\n",
       "      <td>2.241909</td>\n",
       "    </tr>\n",
       "    <tr>\n",
       "      <th>C3</th>\n",
       "      <td>1.0</td>\n",
       "      <td>0.974130</td>\n",
       "    </tr>\n",
       "    <tr>\n",
       "      <th>C4</th>\n",
       "      <td>1.0</td>\n",
       "      <td>-0.977262</td>\n",
       "    </tr>\n",
       "    <tr>\n",
       "      <th>C5</th>\n",
       "      <td>1.0</td>\n",
       "      <td>0.420689</td>\n",
       "    </tr>\n",
       "    <tr>\n",
       "      <th>C6</th>\n",
       "      <td>1.0</td>\n",
       "      <td>-0.364061</td>\n",
       "    </tr>\n",
       "    <tr>\n",
       "      <th>D2</th>\n",
       "      <td>1.0</td>\n",
       "      <td>1.713116</td>\n",
       "    </tr>\n",
       "    <tr>\n",
       "      <th>D3</th>\n",
       "      <td>1.0</td>\n",
       "      <td>1.253798</td>\n",
       "    </tr>\n",
       "    <tr>\n",
       "      <th>D4</th>\n",
       "      <td>1.0</td>\n",
       "      <td>-0.253414</td>\n",
       "    </tr>\n",
       "    <tr>\n",
       "      <th>D5</th>\n",
       "      <td>1.0</td>\n",
       "      <td>0.346716</td>\n",
       "    </tr>\n",
       "    <tr>\n",
       "      <th>D6</th>\n",
       "      <td>1.0</td>\n",
       "      <td>-0.035003</td>\n",
       "    </tr>\n",
       "    <tr>\n",
       "      <th>D7</th>\n",
       "      <td>1.0</td>\n",
       "      <td>-0.705539</td>\n",
       "    </tr>\n",
       "    <tr>\n",
       "      <th>E4</th>\n",
       "      <td>1.0</td>\n",
       "      <td>1.149004</td>\n",
       "    </tr>\n",
       "    <tr>\n",
       "      <th>E5</th>\n",
       "      <td>1.0</td>\n",
       "      <td>0.037376</td>\n",
       "    </tr>\n",
       "    <tr>\n",
       "      <th>E6</th>\n",
       "      <td>1.0</td>\n",
       "      <td>0.154046</td>\n",
       "    </tr>\n",
       "    <tr>\n",
       "      <th>E7</th>\n",
       "      <td>1.0</td>\n",
       "      <td>-0.527983</td>\n",
       "    </tr>\n",
       "  </tbody>\n",
       "</table>\n",
       "</div>"
      ],
      "text/plain": [
       "    const         0\n",
       "om                 \n",
       "A0    1.0 -0.655110\n",
       "A1    1.0  2.000522\n",
       "A2    1.0  0.692082\n",
       "A3    1.0 -0.914104\n",
       "A4    1.0  0.908693\n",
       "A5    1.0  0.086129\n",
       "B0    1.0 -1.718917\n",
       "B1    1.0  1.038487\n",
       "B2    1.0 -0.012749\n",
       "B3    1.0  1.665379\n",
       "B4    1.0 -0.677747\n",
       "B5    1.0  0.184079\n",
       "B6    1.0 -0.014480\n",
       "C1    1.0  2.092447\n",
       "C2    1.0  2.241909\n",
       "C3    1.0  0.974130\n",
       "C4    1.0 -0.977262\n",
       "C5    1.0  0.420689\n",
       "C6    1.0 -0.364061\n",
       "D2    1.0  1.713116\n",
       "D3    1.0  1.253798\n",
       "D4    1.0 -0.253414\n",
       "D5    1.0  0.346716\n",
       "D6    1.0 -0.035003\n",
       "D7    1.0 -0.705539\n",
       "E4    1.0  1.149004\n",
       "E5    1.0  0.037376\n",
       "E6    1.0  0.154046\n",
       "E7    1.0 -0.527983"
      ]
     },
     "metadata": {},
     "output_type": "display_data"
    },
    {
     "data": {
      "text/html": [
       "<table class=\"simpletable\">\n",
       "<caption>OLS Regression Results</caption>\n",
       "<tr>\n",
       "  <th>Dep. Variable:</th>            <td>y</td>        <th>  R-squared:         </th> <td>   0.001</td>\n",
       "</tr>\n",
       "<tr>\n",
       "  <th>Model:</th>                   <td>OLS</td>       <th>  Adj. R-squared:    </th> <td>  -0.036</td>\n",
       "</tr>\n",
       "<tr>\n",
       "  <th>Method:</th>             <td>Least Squares</td>  <th>  F-statistic:       </th> <td> 0.03850</td>\n",
       "</tr>\n",
       "<tr>\n",
       "  <th>Date:</th>             <td>Tue, 08 Dec 2020</td> <th>  Prob (F-statistic):</th>  <td> 0.846</td> \n",
       "</tr>\n",
       "<tr>\n",
       "  <th>Time:</th>                 <td>15:11:54</td>     <th>  Log-Likelihood:    </th> <td> -119.81</td>\n",
       "</tr>\n",
       "<tr>\n",
       "  <th>No. Observations:</th>      <td>    29</td>      <th>  AIC:               </th> <td>   243.6</td>\n",
       "</tr>\n",
       "<tr>\n",
       "  <th>Df Residuals:</th>          <td>    27</td>      <th>  BIC:               </th> <td>   246.3</td>\n",
       "</tr>\n",
       "<tr>\n",
       "  <th>Df Model:</th>              <td>     1</td>      <th>                     </th>     <td> </td>   \n",
       "</tr>\n",
       "<tr>\n",
       "  <th>Covariance Type:</th>      <td>nonrobust</td>    <th>                     </th>     <td> </td>   \n",
       "</tr>\n",
       "</table>\n",
       "<table class=\"simpletable\">\n",
       "<tr>\n",
       "    <td></td>       <th>coef</th>     <th>std err</th>      <th>t</th>      <th>P>|t|</th>  <th>[0.025</th>    <th>0.975]</th>  \n",
       "</tr>\n",
       "<tr>\n",
       "  <th>const</th> <td>   -1.8885</td> <td>    3.071</td> <td>   -0.615</td> <td> 0.544</td> <td>   -8.190</td> <td>    4.413</td>\n",
       "</tr>\n",
       "<tr>\n",
       "  <th>0</th>     <td>    0.5709</td> <td>    2.910</td> <td>    0.196</td> <td> 0.846</td> <td>   -5.399</td> <td>    6.541</td>\n",
       "</tr>\n",
       "</table>\n",
       "<table class=\"simpletable\">\n",
       "<tr>\n",
       "  <th>Omnibus:</th>       <td> 0.897</td> <th>  Durbin-Watson:     </th> <td>   1.627</td>\n",
       "</tr>\n",
       "<tr>\n",
       "  <th>Prob(Omnibus):</th> <td> 0.638</td> <th>  Jarque-Bera (JB):  </th> <td>   0.817</td>\n",
       "</tr>\n",
       "<tr>\n",
       "  <th>Skew:</th>          <td> 0.152</td> <th>  Prob(JB):          </th> <td>   0.665</td>\n",
       "</tr>\n",
       "<tr>\n",
       "  <th>Kurtosis:</th>      <td> 2.236</td> <th>  Cond. No.          </th> <td>    1.42</td>\n",
       "</tr>\n",
       "</table><br/><br/>Notes:<br/>[1] Standard Errors assume that the covariance matrix of the errors is correctly specified."
      ],
      "text/plain": [
       "<class 'statsmodels.iolib.summary.Summary'>\n",
       "\"\"\"\n",
       "                            OLS Regression Results                            \n",
       "==============================================================================\n",
       "Dep. Variable:                      y   R-squared:                       0.001\n",
       "Model:                            OLS   Adj. R-squared:                 -0.036\n",
       "Method:                 Least Squares   F-statistic:                   0.03850\n",
       "Date:                Tue, 08 Dec 2020   Prob (F-statistic):              0.846\n",
       "Time:                        15:11:54   Log-Likelihood:                -119.81\n",
       "No. Observations:                  29   AIC:                             243.6\n",
       "Df Residuals:                      27   BIC:                             246.3\n",
       "Df Model:                           1                                         \n",
       "Covariance Type:            nonrobust                                         \n",
       "==============================================================================\n",
       "                 coef    std err          t      P>|t|      [0.025      0.975]\n",
       "------------------------------------------------------------------------------\n",
       "const         -1.8885      3.071     -0.615      0.544      -8.190       4.413\n",
       "0              0.5709      2.910      0.196      0.846      -5.399       6.541\n",
       "==============================================================================\n",
       "Omnibus:                        0.897   Durbin-Watson:                   1.627\n",
       "Prob(Omnibus):                  0.638   Jarque-Bera (JB):                0.817\n",
       "Skew:                           0.152   Prob(JB):                        0.665\n",
       "Kurtosis:                       2.236   Cond. No.                         1.42\n",
       "==============================================================================\n",
       "\n",
       "Notes:\n",
       "[1] Standard Errors assume that the covariance matrix of the errors is correctly specified.\n",
       "\"\"\""
      ]
     },
     "metadata": {},
     "output_type": "display_data"
    }
   ],
   "source": [
    "X = vol_df.loc[:, 'R1'] - vol_df.loc[:, 'R4']\n",
    "X = sm.add_constant(X)\n",
    "\n",
    "Y = ctx.loc[:, 'R1'] - ctx.loc[:, 'R4']\n",
    "\n",
    "display(X)\n",
    "\n",
    "model = sm.OLS(Y, X)\n",
    "results = model.fit()\n",
    "\n",
    "display(results.summary())"
   ]
  },
  {
   "cell_type": "code",
   "execution_count": null,
   "metadata": {},
   "outputs": [],
   "source": [
    "X = total_vol\n",
    "X = sm.add_constant(X)\n",
    "Y = spr_syn\n",
    "\n",
    "model = sm.OLS(Y, X)\n",
    "results = model.fit()\n",
    "\n",
    "display(results.summary())"
   ]
  },
  {
   "cell_type": "code",
   "execution_count": null,
   "metadata": {},
   "outputs": [],
   "source": [
    "X = vol_df.filter(items = [v for v in vol_df.columns if int(v[1]) < 7]).sum(axis=1)\n",
    "#display(X)\n",
    "X = sm.add_constant(X)\n",
    "Y = spr_syn\n",
    "\n",
    "model = sm.OLS(Y, X)\n",
    "results = model.fit()\n",
    "\n",
    "display(results.summary())"
   ]
  },
  {
   "cell_type": "markdown",
   "metadata": {},
   "source": [
    "## Rhabdomere volume as a fraction of total rhabdom volume\n",
    "- i.e. the fraction of the fused rhabdom occupied by each photoreceptor's rhabdomere\n",
    "- For most subtypes, this looks more uniformly distributed across the eye\n",
    "- "
   ]
  },
  {
   "cell_type": "markdown",
   "metadata": {},
   "source": [
    "## Subtypes with correlated rhabdomere volumes"
   ]
  },
  {
   "cell_type": "code",
   "execution_count": null,
   "metadata": {},
   "outputs": [],
   "source": [
    "# vol_corr = vol_df.corr()  # correlation between PR subtypes\n",
    "# colors = [st_cm[y.split('_')[0]] for y in vol_corr.columns]\n",
    "\n",
    "# clus = sns.clustermap(vol_corr, cmap='vlag', col_colors=colors, row_colors=colors, vmin=-1.0, vmax=1.0)"
   ]
  },
  {
   "cell_type": "code",
   "execution_count": null,
   "metadata": {},
   "outputs": [],
   "source": [
    "fvol_corr = frac_vol.corr()  # correlation between PR subtypes\n",
    "colors = [st_cm[y.split('_')[0]] for y in fvol_corr.columns]\n",
    "\n",
    "clus = sns.clustermap(fvol_corr, cmap='vlag', col_colors=colors, row_colors=colors, \n",
    "                      vmin=-1.0, vmax=1.0, \n",
    "                      xticklabels=[a.split('_')[0] + '_f' + a.split('_')[1] for a in fvol_corr.columns], \n",
    "                      yticklabels=[a.split('_')[0] + '_f' + a.split('_')[1] for a in fvol_corr.columns])"
   ]
  },
  {
   "cell_type": "code",
   "execution_count": null,
   "metadata": {},
   "outputs": [],
   "source": []
  },
  {
   "cell_type": "markdown",
   "metadata": {},
   "source": [
    "## Clustering connection counts and rhabdomere volumes by their correlations\n",
    "- Weird observation:\n",
    "    - Clustering PRs by the correlations between their *rhabdomere volume* and the connection counts of their lamina cartridge puts photoreceptors on either side of the R1-3/4-6 equator closer together in the heirarchy. Opposing pairs R1 and R4 have the most similar correlations with connection counts, but opposing pairs R2 and R5 are the most dissimilar of R1-6 pairs. \n",
    "    - Clustering PRs by the correlations between their *fractional volume* and the connection counts of their lamina cartridge puts photoreceptors with similar microvilli orientation together. \n",
    "    \n",
    "\n",
    "- Using cosine or euclidean distance doesn't visibly change clustering of PR volume variables (this seems to make a difference for fractional volume below). The clustering of connection types looks more interpretable with euclidean distance. \n",
    "\n",
    "- Distance between clusters calculated with [UPGMA](https://en.wikipedia.org/wiki/UPGMA), aka 'average' assignment."
   ]
  },
  {
   "cell_type": "code",
   "execution_count": null,
   "metadata": {},
   "outputs": [],
   "source": [
    "# Correlation matrix (cx types x PR types)\n",
    "combined = pd.concat([cx_df, vol_df], axis=1)\n",
    "corr = combined.corr().dropna(axis=0).loc[cx_df.columns, vol_df.columns]"
   ]
  },
  {
   "cell_type": "code",
   "execution_count": null,
   "metadata": {},
   "outputs": [],
   "source": [
    "row_colors = [st_cm[x.split('->')[0]] for x in corr.index]\n",
    "col_colors = [st_cm[y.split('_')[0]] for y in corr.columns]\n",
    "\n",
    "clus = sns.clustermap(corr, yticklabels=corr.index, figsize=[12, 12], vmin=-1.0, vmax=1.0,\n",
    "                      cmap='vlag', row_colors=row_colors, col_colors=col_colors, method='average', metric='euclidean')"
   ]
  },
  {
   "cell_type": "code",
   "execution_count": null,
   "metadata": {},
   "outputs": [],
   "source": [
    "# from itertools import product\n",
    "# svfs = ['R1R4', 'R2R5', 'R3R6']\n",
    "# lmcs = ['LMC_1', 'LMC_2', 'LMC_3', 'LMC_4']\n",
    "# these_cx = [pre + '->' + post for pre, post in product(svfs, lmcs)]\n",
    "\n",
    "# svf_corr = corr.loc[these_cx, vol_df.columns]\n",
    "\n",
    "# row_colors = [st_cm[x.split('->')[0]] for x in svf_corr.index]\n",
    "# col_colors = [st_cm[y.split('_')[0]] for y in svf_corr.columns]\n",
    "\n",
    "# clus = sns.clustermap(svf_corr, yticklabels=svf_corr.index, figsize=[12, 12], vmin=-1.0, vmax=1.0,\n",
    "#                       cmap='vlag', row_colors=row_colors, col_colors=col_colors, method='average', metric='euclidean')"
   ]
  },
  {
   "cell_type": "code",
   "execution_count": null,
   "metadata": {},
   "outputs": [],
   "source": [
    "corr = corr.loc[:, vol_df.columns].filter(axis=0, like='LMC_3')\n",
    "\n",
    "row_colors = [st_cm[x.split('->')[0]] for x in corr.index]\n",
    "col_colors = [st_cm[y.split('_')[0]] for y in corr.columns]\n",
    "\n",
    "clus = sns.clustermap(corr, yticklabels=corr.index, figsize=[12, 12], vmin=-1.0, vmax=1.0,\n",
    "                      cmap='vlag', row_colors=row_colors, col_colors=col_colors, method='average', metric='euclidean')"
   ]
  },
  {
   "cell_type": "code",
   "execution_count": null,
   "metadata": {},
   "outputs": [],
   "source": [
    "lmc_out_corr = combined.corr().dropna(axis=0).loc[:, vol_df.columns].filter(axis=0, like='LMC_2->LMC_')\n",
    "lmc_out_corr"
   ]
  },
  {
   "cell_type": "markdown",
   "metadata": {},
   "source": [
    "## Correlations between connection counts and fraction of rhabdom volume"
   ]
  },
  {
   "cell_type": "code",
   "execution_count": null,
   "metadata": {},
   "outputs": [],
   "source": [
    "# Load/organize lamina connectome data\n",
    "# Correlation matrix (cx types x PR types)\n",
    "frac_combined = pd.concat([cx_df, frac_vol], axis=1)\n",
    "frac_corr = frac_combined.corr().dropna(axis=0).loc[cx_df.columns, frac_vol.columns]"
   ]
  },
  {
   "cell_type": "code",
   "execution_count": null,
   "metadata": {},
   "outputs": [],
   "source": [
    "row_colors = [st_cm[x.split('->')[0]] for x in frac_corr.index]\n",
    "col_colors = [st_cm[y.split('_')[0]] for y in frac_corr.columns]\n",
    "\n",
    "clus = sns.clustermap(frac_corr, yticklabels=frac_corr.index, figsize=[12, 12], vmin=-1.0, vmax=1.0,\n",
    "                      cmap='vlag', row_colors=row_colors, col_colors=col_colors, method='average', metric='euclidean')"
   ]
  },
  {
   "cell_type": "markdown",
   "metadata": {},
   "source": []
  },
  {
   "cell_type": "code",
   "execution_count": null,
   "metadata": {},
   "outputs": [],
   "source": [
    "corr = frac_corr.loc[these_cx, frac_vol.columns]\n",
    "\n",
    "row_colors = [st_cm[x.split('->')[0]] for x in corr.index]\n",
    "col_colors = [st_cm[y.split('_')[0]] for y in corr.columns]\n",
    "\n",
    "clus = sns.clustermap(svf_frac_corr, yticklabels=corr.index, figsize=[12, 12], vmin=-1.0, vmax=1.0,\n",
    "                      cmap='vlag', row_colors=row_colors, col_colors=col_colors, method='average', metric='euclidean')"
   ]
  },
  {
   "cell_type": "code",
   "execution_count": null,
   "metadata": {},
   "outputs": [],
   "source": []
  },
  {
   "cell_type": "markdown",
   "metadata": {},
   "source": [
    "L2 outputs and fractional volumes"
   ]
  },
  {
   "cell_type": "code",
   "execution_count": null,
   "metadata": {},
   "outputs": [],
   "source": [
    "corr = frac_corr.loc[:, frac_vol.columns].filter(axis=0, like='LMC_2->')\n",
    "\n",
    "row_colors = [st_cm[x.split('->')[1]] for x in corr.index]\n",
    "col_colors = [st_cm[y.split('_')[0]] for y in corr.columns]\n",
    "\n",
    "clus = sns.clustermap(corr, yticklabels=corr.index, figsize=[12, 12], vmin=-1.0, vmax=1.0,\n",
    "                      cmap='vlag', row_colors=row_colors, col_colors=col_colors, method='average', metric='euclidean')"
   ]
  },
  {
   "cell_type": "code",
   "execution_count": null,
   "metadata": {},
   "outputs": [],
   "source": [
    "corr = frac_corr.loc[:, frac_vol.columns].filter(axis=0, like='LMC_3')\n",
    "\n",
    "row_colors = [st_cm[x.split('->')[0]] for x in corr.index]\n",
    "col_colors = [st_cm[y.split('_')[0]] for y in corr.columns]\n",
    "\n",
    "clus = sns.clustermap(corr, yticklabels=corr.index, figsize=[12, 12], vmin=-1.0, vmax=1.0,\n",
    "                      cmap='vlag', row_colors=row_colors, col_colors=col_colors, method='average', metric='euclidean')"
   ]
  },
  {
   "cell_type": "code",
   "execution_count": null,
   "metadata": {},
   "outputs": [],
   "source": [
    "corr = frac_corr.loc[:, frac_vol.columns].filter(axis=0, like='centri->')\n",
    "\n",
    "row_colors = [st_cm[x.split('->')[0]] for x in corr.index]\n",
    "col_colors = [st_cm[y.split('_')[0]] for y in corr.columns]\n",
    "\n",
    "clus = sns.clustermap(corr, yticklabels=corr.index, figsize=[12, 12], vmin=-1.0, vmax=1.0,\n",
    "                      cmap='vlag', row_colors=row_colors, col_colors=col_colors, method='average', metric='euclidean')"
   ]
  },
  {
   "cell_type": "code",
   "execution_count": null,
   "metadata": {},
   "outputs": [],
   "source": [
    "# cx_cols = [cx for cx in cx_df.columns if '->LMC' in cx]\n",
    "# vol_cols = list(vol_df.columns)\n",
    "# cols = cx_cols + vol_cols\n",
    "\n",
    "# data = frac_combined.loc[:, cols]\n",
    "# corr = data.corr().dropna(axis=0).loc[cx_cols, vol_cols]\n",
    "\n",
    "# row_colors = [st_cm[x.split('->')[0]] for x in corr.index]\n",
    "# col_colors = [st_cm[y.split('_')[0]] for y in corr.columns]\n",
    "\n",
    "# clus = sns.clustermap(corr, yticklabels=corr.index, figsize=[12, 12], vmin=-1.0, vmax=1.0,\n",
    "#                       cmap='vlag', row_colors=row_colors, col_colors=col_colors, method='average', metric='euclidean')"
   ]
  },
  {
   "cell_type": "markdown",
   "metadata": {},
   "source": [
    "## Hypothesis: Number of lamina inputs to long photoreceptors is correlated with their rhabdomere volume"
   ]
  },
  {
   "cell_type": "code",
   "execution_count": null,
   "metadata": {},
   "outputs": [],
   "source": [
    "sns.pairplot(data=frac_vol)"
   ]
  },
  {
   "cell_type": "code",
   "execution_count": null,
   "metadata": {},
   "outputs": [],
   "source": [
    "lpr_fvol_inputs = pd.DataFrame({'inputs->R7': frac_combined.filter(regex='->R7$').sum(axis=1), \n",
    "                                'inputs->R7p': frac_combined.filter(regex='->R7p$').sum(axis=1), \n",
    "                                'inputs->R8': frac_combined.filter(regex='->R8$').sum(axis=1)})\n",
    "lpr_fvol_inputs = pd.concat([lpr_fvol_inputs, frac_combined.filter(items=['R7_vol', 'R7p_vol', 'R8_vol'])], axis=1)\n",
    "\n",
    "lpr_vol_inputs = pd.DataFrame({'inputs->R7': combined.filter(regex='->R7$').sum(axis=1), \n",
    "                                'inputs->R7p': combined.filter(regex='->R7p$').sum(axis=1), \n",
    "                                'inputs->R8': combined.filter(regex='->R8$').sum(axis=1)})\n",
    "lpr_vol_inputs = pd.concat([lpr_vol_inputs, combined.filter(items=['R7_vol', 'R7p_vol', 'R8_vol'])], axis=1)\n",
    "\n",
    "lpr_vol_inputs = pd.DataFrame({'inputs->R7': combined.filter(regex='->R7$').sum(axis=1), \n",
    "                                'inputs->R7p': combined.filter(regex='->R7p$').sum(axis=1), \n",
    "                                'inputs->R8': combined.filter(regex='->R8$').sum(axis=1)})\n",
    "lpr_vol_inputs = pd.concat([lpr_vol_inputs, combined.filter(items=['R7_vol', 'R7p_vol', 'R8_vol'])], axis=1)\n",
    "\n",
    "lpr_vol_inputs['']"
   ]
  },
  {
   "cell_type": "code",
   "execution_count": null,
   "metadata": {},
   "outputs": [],
   "source": [
    "sns.pairplot(data=frac_combined.filter(items=['R7_vol', 'R7p_vol', 'R8_vol']))"
   ]
  },
  {
   "cell_type": "code",
   "execution_count": null,
   "metadata": {},
   "outputs": [],
   "source": [
    "sns.pairplot(data = lpr_vol_inputs, x_vars=['inputs->R7', 'inputs->R7p', 'inputs->R8'], y_vars=['R7_vol', 'R7p_vol', 'R8_vol'])"
   ]
  },
  {
   "cell_type": "code",
   "execution_count": null,
   "metadata": {},
   "outputs": [],
   "source": [
    "# lpr_inputs = pd.DataFrame({'inputs->R7': combined.filter(regex='->R7$').sum(axis=1), \n",
    "#                            'inputs->R7p': combined.filter(regex='->R7p$').sum(axis=1), \n",
    "#                            'inputs->R8': combined.filter(regex='->R8$').sum(axis=1)})\n",
    "# lpr_inputs = pd.concat([lpr_inputs, combined.filter(items=['R7_vol', 'R7p_vol', 'R8_vol'])], axis=1)"
   ]
  },
  {
   "cell_type": "code",
   "execution_count": null,
   "metadata": {},
   "outputs": [],
   "source": []
  },
  {
   "cell_type": "code",
   "execution_count": null,
   "metadata": {},
   "outputs": [],
   "source": [
    "X = lpr_vol_inputs['R7_vol']\n",
    "X = sm.add_constant(X)\n",
    "Y = lpr_vol_inputs['inputs->R7']\n",
    "\n",
    "model = sm.OLS(Y, X)\n",
    "results = model.fit()\n",
    "\n",
    "display(results.summary())\n",
    "\n",
    "display(X)"
   ]
  },
  {
   "cell_type": "code",
   "execution_count": null,
   "metadata": {},
   "outputs": [],
   "source": [
    "lpr_fvol_inputs.head()"
   ]
  },
  {
   "cell_type": "code",
   "execution_count": null,
   "metadata": {},
   "outputs": [],
   "source": [
    "X = lpr_vol_inputs['R7p_vol']\n",
    "X = sm.add_constant(X)\n",
    "Y = lpr_vol_inputs['inputs->R7p']\n",
    "\n",
    "model = sm.OLS(Y, X)\n",
    "results = model.fit()\n",
    "\n",
    "display(results.summary())"
   ]
  },
  {
   "cell_type": "code",
   "execution_count": null,
   "metadata": {},
   "outputs": [],
   "source": [
    "X = lpr_vol_inputs['R8_vol']\n",
    "X = sm.add_constant(X)\n",
    "Y = lpr_vol_inputs['inputs->R8']\n",
    "display(X)\n",
    "display(Y)\n",
    "model = sm.OLS(Y, X)\n",
    "results = model.fit()\n",
    "\n",
    "display(results.summary())"
   ]
  },
  {
   "cell_type": "markdown",
   "metadata": {},
   "source": [
    "## Multivariate regression\n",
    "- Each connection type is its own predicting variable for volume"
   ]
  },
  {
   "cell_type": "code",
   "execution_count": null,
   "metadata": {},
   "outputs": [],
   "source": [
    "Y = combined.loc[:, 'R7_vol']\n",
    "Y = Y\n",
    "X = sm.add_constant(combined.filter(regex='->R7$'))\n",
    "\n",
    "display(Y.shape)\n",
    "display(X.shape)\n",
    "\n",
    "model = sm.OLS(Y, X)\n",
    "results = model.fit()\n",
    "\n",
    "display(results.summary())"
   ]
  },
  {
   "cell_type": "code",
   "execution_count": null,
   "metadata": {},
   "outputs": [],
   "source": [
    "Y = combined.loc[:, 'R7p_vol']\n",
    "Y = Y\n",
    "X = sm.add_constant(combined.filter(regex='->R7p$'))\n",
    "\n",
    "display(Y.shape)\n",
    "display(X.shape)\n",
    "\n",
    "model = sm.OLS(Y, X)\n",
    "results = model.fit()\n",
    "\n",
    "display(results.summary())"
   ]
  },
  {
   "cell_type": "code",
   "execution_count": null,
   "metadata": {},
   "outputs": [],
   "source": [
    "Y = combined.loc[:, 'R8_vol']\n",
    "Y = Y.to_numpy()\n",
    "X = sm.add_constant(combined.filter(like='->R8'))\n",
    "\n",
    "display(Y.shape)\n",
    "display(X.shape)\n",
    "\n",
    "model = sm.OLS(Y, X)\n",
    "results = model.fit()\n",
    "\n",
    "display(results.summary())"
   ]
  },
  {
   "cell_type": "code",
   "execution_count": null,
   "metadata": {},
   "outputs": [],
   "source": []
  }
 ],
 "metadata": {
  "kernelspec": {
   "display_name": "wasp-lite",
   "language": "python",
   "name": "wasp-lite"
  },
  "language_info": {
   "codemirror_mode": {
    "name": "ipython",
    "version": 3
   },
   "file_extension": ".py",
   "mimetype": "text/x-python",
   "name": "python",
   "nbconvert_exporter": "python",
   "pygments_lexer": "ipython3",
   "version": "3.8.6"
  }
 },
 "nbformat": 4,
 "nbformat_minor": 4
}
