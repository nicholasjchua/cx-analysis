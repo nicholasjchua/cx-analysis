{
 "cells": [
  {
   "cell_type": "markdown",
   "metadata": {},
   "source": [
    "# The contribution of reconstruction error to the variability observed between lamina circuits\n",
    "- How do differences in skeletal reconstruction and synaptic partner identification contribute to variability of our connectivity data?\n",
    "- To control for stochastic/functional differences between lamina circuits, annotators independently reconstructed the same lamina cartridge (C2). These 'validation reconstructions' represent a state prior to a cartridge's 'review process', which is employed for each lamina cartridge presented in our connectome.  "
   ]
  },
  {
   "cell_type": "code",
   "execution_count": 6,
   "metadata": {},
   "outputs": [
    {
     "name": "stdout",
     "output_type": "stream",
     "text": [
      "The autoreload extension is already loaded. To reload it, use:\n",
      "  %reload_ext autoreload\n"
     ]
    }
   ],
   "source": [
    "%load_ext autoreload\n",
    "%autoreload 0"
   ]
  },
  {
   "cell_type": "code",
   "execution_count": 3,
   "metadata": {},
   "outputs": [],
   "source": [
    "import numpy as np\n",
    "import pandas as pd\n",
    "import matplotlib.pyplot as plt\n",
    "import seaborn as sns\n",
    "import itertools\n",
    "\n",
    "from src.fig_utils import hex_to_rgb\n",
    "from sklearn.linear_model import LinearRegression\n",
    "\n",
    "from IPython.display import display, Math, Latex"
   ]
  },
  {
   "cell_type": "code",
   "execution_count": 5,
   "metadata": {},
   "outputs": [
    {
     "name": "stdout",
     "output_type": "stream",
     "text": [
      "hi\n",
      "(255, 255, 255)\n"
     ]
    }
   ],
   "source": [
    "print(hex_to_rgb(\"ffffff\"))"
   ]
  },
  {
   "cell_type": "code",
   "execution_count": 2,
   "metadata": {},
   "outputs": [],
   "source": [
    "val_data_path = '~/Data/191219_exp2/200102_linkdf.pickle'\n",
    "\n",
    "lamina_links = pd.read_pickle('~/Data/191219_exp2/191204_lamina_link_df.pkl')\n",
    "val_links = pd.read_pickle(val_data_path)\n",
    "\n",
    "subtypes = np.unique([*val_links[\"pre_type\"], *val_links[\"post_type\"]])\n",
    "annotators = np.unique(val_links[\"pre_om\"])\n",
    "ommatidia = np.unique(lamina_links['pre_om'])\n",
    "\n",
    "# all possible ('pre', 'post') permutations\n",
    "all_ctypes = [p for p in itertools.product(subtypes, subtypes)]  \n",
    "all_ctype_labels = [f\"{pre}->{post}\" for pre, post in all_ctypes]\n",
    "# Colors to distinguish data from the connectome (grey) and data from the validation experiment (red)\n",
    "cm = {'lam': \"#383a3f\", \n",
    "     'val': \"#bf3b46\"}\n"
   ]
  },
  {
   "cell_type": "markdown",
   "metadata": {},
   "source": [
    "### Preprocess connectivity data\n",
    "- ignores interommatidial connections\n",
    "- For posterior edges cartridges (that lack their own L4s), connections postsynaptic to L4 will be filled in with np.nan instead of zero: i.e. they are not included in mean/var calculations for that connection type. C2 is not a posterior edge cartridge"
   ]
  },
  {
   "cell_type": "code",
   "execution_count": 6,
   "metadata": {},
   "outputs": [],
   "source": [
    "# cx counts from lamina connectome\n",
    "df_lamina = pd.DataFrame(index=ommatidia, columns=all_ctype_labels)\n",
    "for om, row in df_lamina.iterrows():\n",
    "    for c in all_ctype_labels:\n",
    "        pre_t, post_t = c.split('->')\n",
    "        # Cartridges on the posterior edge lack L4, so their counts for these connections are NaNed \n",
    "        if om in ['B0', 'E4', 'E5', 'E6', 'E7', 'D2'] and post_t == 'LMC_4':\n",
    "            df_lamina.loc[om, c] = np.nan\n",
    "        else:\n",
    "            df_lamina.loc[om, c] = sum((lamina_links.pre_om == om) & (lamina_links.post_om == om) & \n",
    "                                       (lamina_links.pre_type == pre_t) & (lamina_links.post_type == post_t))\n",
    "\n",
    "### A1 temporarily removed (it has no connections?)\n",
    "df_lamina = df_lamina.drop(str('A1'), axis=0)\n",
    "\n",
    "# cx counts from validation experiment\n",
    "df_val = pd.DataFrame(index=annotators, columns=all_ctype_labels)\n",
    "for annot, row in df_val.iterrows():\n",
    "    for c in all_ctype_labels:\n",
    "        pre_t, post_t = c.split('->')\n",
    "        df_val.loc[annot, c] = sum((val_links.pre_om == annot) & (val_links.post_om == annot) & \n",
    "                                   (val_links.pre_type == pre_t) & (val_links.post_type == post_t))"
   ]
  },
  {
   "cell_type": "markdown",
   "metadata": {},
   "source": [
    "### Defining connection types that are consistently observed for all ommatidia in our lamina connectome\n",
    "Alternatives:\n",
    "1. Average count above a certain threshold\n",
    "2. Every observation exceeds a threshold "
   ]
  },
  {
   "cell_type": "code",
   "execution_count": 7,
   "metadata": {},
   "outputs": [
    {
     "data": {
      "text/plain": [
       "Index(['LMC_2->LMC_1', 'LMC_2->LMC_3', 'LMC_2->LMC_4', 'R1R4->LMC_1',\n",
       "       'R1R4->LMC_2', 'R1R4->LMC_3', 'R1R4->R2R5', 'R2R5->LMC_1',\n",
       "       'R2R5->LMC_2', 'R2R5->LMC_3', 'R2R5->LMC_4', 'R2R5->R7p',\n",
       "       'R2R5->centri', 'R3R6->LMC_1', 'R3R6->LMC_2', 'R3R6->LMC_3',\n",
       "       'R3R6->LMC_4', 'R3R6->R2R5', 'centri->LMC_1', 'centri->LMC_2',\n",
       "       'centri->LMC_3', 'centri->R2R5', 'centri->R7p', 'centri->R8'],\n",
       "      dtype='object')"
      ]
     },
     "metadata": {},
     "output_type": "display_data"
    },
    {
     "name": "stdout",
     "output_type": "stream",
     "text": [
      "\n",
      "24 significant connection types (out of a total possible 169 pre/post permutations)\n"
     ]
    }
   ],
   "source": [
    "sig_thresh = 1.0\n",
    "\n",
    "######### 1. Threshold: mean count must exceed threshold\n",
    "# df_val = df_val.loc[:, (df_lamina.mean() > sig_thresh)]\n",
    "# df_lamina = df_lamina.loc[:, (df_lamina.mean() > sig_thresh)]\n",
    "\n",
    "\n",
    "######### 2. Threshold: all observations of that ctype must exceed thereshold\n",
    "#display(df_lamina.filter(like='A1', axis='index'))\n",
    "\n",
    "# need to change L4 nans so they won't be considered as < thresh when computing condition\n",
    "df_lamina[df_lamina.isna()] = 1000.0 \n",
    "condition = (df_lamina >= int(sig_thresh)).all()\n",
    "df_lamina[df_lamina == 1000.0] = np.nan\n",
    "df_val = df_val.loc[:, condition]\n",
    "df_lamina = df_lamina.loc[:, condition]\n",
    "\n",
    "sig_cts = df_val.columns\n",
    "display(sig_cts)\n",
    "\n",
    "assert(len(df_val.columns) == len(df_lamina.columns)) \n",
    "print(f\"\\n{len(sig_cts)} significant connection types (out of a total possible {len(all_ctypes)} pre/post permutations)\")"
   ]
  },
  {
   "cell_type": "markdown",
   "metadata": {},
   "source": [
    "### Comparing the variance of different connection types"
   ]
  },
  {
   "cell_type": "code",
   "execution_count": 30,
   "metadata": {},
   "outputs": [
    {
     "data": {
      "text/plain": [
       "R3R6->R2R5         4.643333\n",
       "R1R4->R2R5         5.090000\n",
       "R3R6->LMC_4        7.040936\n",
       "centri->LMC_1     11.826667\n",
       "centri->R8        19.460000\n",
       "LMC_2->LMC_4      22.485380\n",
       "R2R5->R7p         24.090000\n",
       "LMC_2->LMC_1      35.360000\n",
       "R2R5->LMC_4       36.941520\n",
       "centri->R2R5      37.140000\n",
       "centri->R7p       37.210000\n",
       "LMC_2->LMC_3      37.740000\n",
       "R1R4->LMC_3       38.526667\n",
       "centri->LMC_3     40.166667\n",
       "R2R5->LMC_1       44.390000\n",
       "R1R4->LMC_2       53.960000\n",
       "R2R5->LMC_3       64.156667\n",
       "R3R6->LMC_2       67.826667\n",
       "centri->LMC_2     68.083333\n",
       "R3R6->LMC_3       68.750000\n",
       "R3R6->LMC_1       87.823333\n",
       "R2R5->centri      94.910000\n",
       "R1R4->LMC_1       96.590000\n",
       "R2R5->LMC_2      101.040000\n",
       "dtype: float64"
      ]
     },
     "metadata": {},
     "output_type": "display_data"
    },
    {
     "ename": "StopIteration",
     "evalue": "",
     "output_type": "error",
     "traceback": [
      "\u001b[0;31m---------------------------------------------------------------------------\u001b[0m",
      "\u001b[0;31mStopIteration\u001b[0m                             Traceback (most recent call last)",
      "\u001b[0;32m<ipython-input-30-f50be29146c1>\u001b[0m in \u001b[0;36m<module>\u001b[0;34m\u001b[0m\n\u001b[1;32m     10\u001b[0m     \u001b[0mtmp_low\u001b[0m \u001b[0;34m=\u001b[0m \u001b[0mpd\u001b[0m\u001b[0;34m.\u001b[0m\u001b[0mDataFrame\u001b[0m\u001b[0;34m(\u001b[0m\u001b[0mdata\u001b[0m\u001b[0;34m=\u001b[0m\u001b[0;34m[\u001b[0m\u001b[0mdf_lamina\u001b[0m\u001b[0;34m[\u001b[0m\u001b[0mlow_cts\u001b[0m\u001b[0;34m[\u001b[0m\u001b[0mi\u001b[0m\u001b[0;34m]\u001b[0m\u001b[0;34m]\u001b[0m\u001b[0;34m,\u001b[0m \u001b[0mdf_val\u001b[0m\u001b[0;34m[\u001b[0m\u001b[0mlow_cts\u001b[0m\u001b[0;34m[\u001b[0m\u001b[0mi\u001b[0m\u001b[0;34m]\u001b[0m\u001b[0;34m]\u001b[0m\u001b[0;34m]\u001b[0m\u001b[0;34m,\u001b[0m \u001b[0mcolumns\u001b[0m\u001b[0;34m=\u001b[0m\u001b[0;34m[\u001b[0m\u001b[0;34m'Lamina connectome'\u001b[0m\u001b[0;34m,\u001b[0m \u001b[0;34m'Validation experiment'\u001b[0m\u001b[0;34m]\u001b[0m\u001b[0;34m)\u001b[0m\u001b[0;34m\u001b[0m\u001b[0m\n\u001b[1;32m     11\u001b[0m     sns.boxplot(x=tmp_low.columns, data=tmp_low,  \n\u001b[0;32m---> 12\u001b[0;31m                 palette={'Lamina connectome': cm['lam'], 'Validation experiment': cm['val']}, ax=axes[i])\n\u001b[0m\u001b[1;32m     13\u001b[0m \u001b[0;34m\u001b[0m\u001b[0m\n\u001b[1;32m     14\u001b[0m \u001b[0;34m\u001b[0m\u001b[0m\n",
      "\u001b[0;32m~/miniconda3/envs/wasp/lib/python3.6/site-packages/seaborn/categorical.py\u001b[0m in \u001b[0;36mboxplot\u001b[0;34m(x, y, hue, data, order, hue_order, orient, color, palette, saturation, width, dodge, fliersize, linewidth, whis, notch, ax, **kwargs)\u001b[0m\n\u001b[1;32m   2229\u001b[0m     plotter = _BoxPlotter(x, y, hue, data, order, hue_order,\n\u001b[1;32m   2230\u001b[0m                           \u001b[0morient\u001b[0m\u001b[0;34m,\u001b[0m \u001b[0mcolor\u001b[0m\u001b[0;34m,\u001b[0m \u001b[0mpalette\u001b[0m\u001b[0;34m,\u001b[0m \u001b[0msaturation\u001b[0m\u001b[0;34m,\u001b[0m\u001b[0;34m\u001b[0m\u001b[0m\n\u001b[0;32m-> 2231\u001b[0;31m                           width, dodge, fliersize, linewidth)\n\u001b[0m\u001b[1;32m   2232\u001b[0m \u001b[0;34m\u001b[0m\u001b[0m\n\u001b[1;32m   2233\u001b[0m     \u001b[0;32mif\u001b[0m \u001b[0max\u001b[0m \u001b[0;32mis\u001b[0m \u001b[0;32mNone\u001b[0m\u001b[0;34m:\u001b[0m\u001b[0;34m\u001b[0m\u001b[0m\n",
      "\u001b[0;32m~/miniconda3/envs/wasp/lib/python3.6/site-packages/seaborn/categorical.py\u001b[0m in \u001b[0;36m__init__\u001b[0;34m(self, x, y, hue, data, order, hue_order, orient, color, palette, saturation, width, dodge, fliersize, linewidth)\u001b[0m\n\u001b[1;32m    445\u001b[0m \u001b[0;34m\u001b[0m\u001b[0m\n\u001b[1;32m    446\u001b[0m         \u001b[0mself\u001b[0m\u001b[0;34m.\u001b[0m\u001b[0mestablish_variables\u001b[0m\u001b[0;34m(\u001b[0m\u001b[0mx\u001b[0m\u001b[0;34m,\u001b[0m \u001b[0my\u001b[0m\u001b[0;34m,\u001b[0m \u001b[0mhue\u001b[0m\u001b[0;34m,\u001b[0m \u001b[0mdata\u001b[0m\u001b[0;34m,\u001b[0m \u001b[0morient\u001b[0m\u001b[0;34m,\u001b[0m \u001b[0morder\u001b[0m\u001b[0;34m,\u001b[0m \u001b[0mhue_order\u001b[0m\u001b[0;34m)\u001b[0m\u001b[0;34m\u001b[0m\u001b[0m\n\u001b[0;32m--> 447\u001b[0;31m         \u001b[0mself\u001b[0m\u001b[0;34m.\u001b[0m\u001b[0mestablish_colors\u001b[0m\u001b[0;34m(\u001b[0m\u001b[0mcolor\u001b[0m\u001b[0;34m,\u001b[0m \u001b[0mpalette\u001b[0m\u001b[0;34m,\u001b[0m \u001b[0msaturation\u001b[0m\u001b[0;34m)\u001b[0m\u001b[0;34m\u001b[0m\u001b[0m\n\u001b[0m\u001b[1;32m    448\u001b[0m \u001b[0;34m\u001b[0m\u001b[0m\n\u001b[1;32m    449\u001b[0m         \u001b[0mself\u001b[0m\u001b[0;34m.\u001b[0m\u001b[0mdodge\u001b[0m \u001b[0;34m=\u001b[0m \u001b[0mdodge\u001b[0m\u001b[0;34m\u001b[0m\u001b[0m\n",
      "\u001b[0;32m~/miniconda3/envs/wasp/lib/python3.6/site-packages/seaborn/categorical.py\u001b[0m in \u001b[0;36mestablish_colors\u001b[0;34m(self, color, palette, saturation)\u001b[0m\n\u001b[1;32m    302\u001b[0m                 \u001b[0mpalette\u001b[0m \u001b[0;34m=\u001b[0m \u001b[0;34m[\u001b[0m\u001b[0mpalette\u001b[0m\u001b[0;34m[\u001b[0m\u001b[0ml\u001b[0m\u001b[0;34m]\u001b[0m \u001b[0;32mfor\u001b[0m \u001b[0ml\u001b[0m \u001b[0;32min\u001b[0m \u001b[0mlevels\u001b[0m\u001b[0;34m]\u001b[0m\u001b[0;34m\u001b[0m\u001b[0m\n\u001b[1;32m    303\u001b[0m \u001b[0;34m\u001b[0m\u001b[0m\n\u001b[0;32m--> 304\u001b[0;31m             \u001b[0mcolors\u001b[0m \u001b[0;34m=\u001b[0m \u001b[0mcolor_palette\u001b[0m\u001b[0;34m(\u001b[0m\u001b[0mpalette\u001b[0m\u001b[0;34m,\u001b[0m \u001b[0mn_colors\u001b[0m\u001b[0;34m)\u001b[0m\u001b[0;34m\u001b[0m\u001b[0m\n\u001b[0m\u001b[1;32m    305\u001b[0m \u001b[0;34m\u001b[0m\u001b[0m\n\u001b[1;32m    306\u001b[0m         \u001b[0;31m# Desaturate a bit because these are patches\u001b[0m\u001b[0;34m\u001b[0m\u001b[0;34m\u001b[0m\u001b[0m\n",
      "\u001b[0;32m~/miniconda3/envs/wasp/lib/python3.6/site-packages/seaborn/palettes.py\u001b[0m in \u001b[0;36mcolor_palette\u001b[0;34m(palette, n_colors, desat)\u001b[0m\n\u001b[1;32m    239\u001b[0m     \u001b[0;31m# Always return as many colors as we asked for\u001b[0m\u001b[0;34m\u001b[0m\u001b[0;34m\u001b[0m\u001b[0m\n\u001b[1;32m    240\u001b[0m     \u001b[0mpal_cycle\u001b[0m \u001b[0;34m=\u001b[0m \u001b[0mcycle\u001b[0m\u001b[0;34m(\u001b[0m\u001b[0mpalette\u001b[0m\u001b[0;34m)\u001b[0m\u001b[0;34m\u001b[0m\u001b[0m\n\u001b[0;32m--> 241\u001b[0;31m     \u001b[0mpalette\u001b[0m \u001b[0;34m=\u001b[0m \u001b[0;34m[\u001b[0m\u001b[0mnext\u001b[0m\u001b[0;34m(\u001b[0m\u001b[0mpal_cycle\u001b[0m\u001b[0;34m)\u001b[0m \u001b[0;32mfor\u001b[0m \u001b[0m_\u001b[0m \u001b[0;32min\u001b[0m \u001b[0mrange\u001b[0m\u001b[0;34m(\u001b[0m\u001b[0mn_colors\u001b[0m\u001b[0;34m)\u001b[0m\u001b[0;34m]\u001b[0m\u001b[0;34m\u001b[0m\u001b[0m\n\u001b[0m\u001b[1;32m    242\u001b[0m \u001b[0;34m\u001b[0m\u001b[0m\n\u001b[1;32m    243\u001b[0m     \u001b[0;31m# Always return in r, g, b tuple format\u001b[0m\u001b[0;34m\u001b[0m\u001b[0;34m\u001b[0m\u001b[0m\n",
      "\u001b[0;32m~/miniconda3/envs/wasp/lib/python3.6/site-packages/seaborn/palettes.py\u001b[0m in \u001b[0;36m<listcomp>\u001b[0;34m(.0)\u001b[0m\n\u001b[1;32m    239\u001b[0m     \u001b[0;31m# Always return as many colors as we asked for\u001b[0m\u001b[0;34m\u001b[0m\u001b[0;34m\u001b[0m\u001b[0m\n\u001b[1;32m    240\u001b[0m     \u001b[0mpal_cycle\u001b[0m \u001b[0;34m=\u001b[0m \u001b[0mcycle\u001b[0m\u001b[0;34m(\u001b[0m\u001b[0mpalette\u001b[0m\u001b[0;34m)\u001b[0m\u001b[0;34m\u001b[0m\u001b[0m\n\u001b[0;32m--> 241\u001b[0;31m     \u001b[0mpalette\u001b[0m \u001b[0;34m=\u001b[0m \u001b[0;34m[\u001b[0m\u001b[0mnext\u001b[0m\u001b[0;34m(\u001b[0m\u001b[0mpal_cycle\u001b[0m\u001b[0;34m)\u001b[0m \u001b[0;32mfor\u001b[0m \u001b[0m_\u001b[0m \u001b[0;32min\u001b[0m \u001b[0mrange\u001b[0m\u001b[0;34m(\u001b[0m\u001b[0mn_colors\u001b[0m\u001b[0;34m)\u001b[0m\u001b[0;34m]\u001b[0m\u001b[0;34m\u001b[0m\u001b[0m\n\u001b[0m\u001b[1;32m    242\u001b[0m \u001b[0;34m\u001b[0m\u001b[0m\n\u001b[1;32m    243\u001b[0m     \u001b[0;31m# Always return in r, g, b tuple format\u001b[0m\u001b[0;34m\u001b[0m\u001b[0;34m\u001b[0m\u001b[0m\n",
      "\u001b[0;31mStopIteration\u001b[0m: "
     ]
    },
    {
     "data": {
      "image/png": "[encoded data removed]",
      "text/plain": [
       "<matplotlib.figure.Figure at 0x7fdd44377a90>"
      ]
     },
     "metadata": {
      "needs_background": "light"
     },
     "output_type": "display_data"
    }
   ],
   "source": [
    "lamina_var = df_lamina.var().sort_values()\n",
    "display(lamina_var)\n",
    "\n",
    "n_ex = 3  # show n ctypes with the largest and smallest variance in our connectome\n",
    "low_cts = lamina_var.head(n_ex).index\n",
    "high_cts = lamina_var.tail(n_ex).index\n",
    "\n",
    "fig, axes = plt.subplots(n_ex, 1)\n",
    "for i in range(0, n_ex):\n",
    "    tmp_low = pd.DataFrame(data=[df_lamina[low_cts[i]], df_val[low_cts[i]]], columns=['Lamina connectome', 'Validation experiment'])\n",
    "    sns.boxplot(x=tmp_low.columns, data=tmp_low,  \n",
    "                palette={'Lamina connectome': cm['lam'], 'Validation experiment': cm['val']}, ax=axes[i])"
   ]
  },
  {
   "cell_type": "code",
   "execution_count": null,
   "metadata": {},
   "outputs": [],
   "source": [
    "def fano(df):\n",
    "    return (df.std() ** 2)/df.mean()\n",
    "'''\n",
    "def coef_var(df):\n",
    "    return df.std()/df.mean()\n",
    "'''"
   ]
  },
  {
   "cell_type": "markdown",
   "metadata": {},
   "source": [
    "### Fano factor: a measure of dispersion for a set of observations\n",
    "- For a given connection type (e.g. LMC_2 -> LMC_1), we have a set of observed connection counts dispersed around a mean value\n",
    "- Because mean counts can differ significantly between types, we use Fano factor to describe a unitary deviation, scaled by the mean, that can be compared across connection types or aggregated to obtain an overall measure of dispersion in our data\n",
    "\n",
    "$$D = \\frac{\\sigma^2}{\\mu}$$\n",
    "\n",
    "NOTE: Mean is not robust to outliers. Counts that are typically close to 0, but much higher because of a mistake in a particular observation, will have a very large fano factor. Ask mitya about using median for such a small n in our validation exp\n",
    "\n",
    "Outliers are examined during a step of peer-review. When a connection count is much larger than the average or if a previously unobserved connection type is present, it is almost always due to a mistake in the skeletal reconstruction. "
   ]
  },
  {
   "cell_type": "code",
   "execution_count": null,
   "metadata": {},
   "outputs": [],
   "source": [
    "fig, ax = plt.subplots(1, figsize=[15, 15])\n",
    "lamina_fano = fano(df_lamina).dropna().T\n",
    "val_fano = fano(df_val).dropna().T\n",
    "\n",
    "max_fano = max([lamina_fano.max(), val_fano.max()])\n",
    "interval = np.arange(0, max_fano + (10 - max_fano % 10), 0.5)  # round up to nearest 10\n",
    "\n",
    "sns.distplot(lamina_fano, bins = interval,\n",
    "             ax=ax, color=cm['lam'], label=f'Lamina Data (n={len(ommatidia)})', kde=False)\n",
    "sns.distplot(val_fano, bins = interval,\n",
    "             ax=ax, color=cm['val'], label='C2 Validation Tracing (n=4)', kde=False)\n",
    "\n",
    "ax.set_title(\"Fano factor of connection counts\")\n",
    "ax.set_xlabel(\"Fano factor\")\n",
    "ax.set_ylabel(\"Percentage of connection types\")\n",
    "ax.legend()"
   ]
  },
  {
   "cell_type": "code",
   "execution_count": null,
   "metadata": {},
   "outputs": [],
   "source": [
    "lamina_var = df_lamina.std().dropna().T ** 2\n",
    "val_var = df_val.std().T ** 2\n",
    "\n",
    "fig, ax = plt.subplots(1, figsize=[15, 15])\n",
    "\n",
    "sns.distplot(lamina_var, ax=ax, color=cm['lam'], label=f'Lamina Data (n={len(ommatidia)})')\n",
    "sns.distplot(val_var, ax=ax, color=cm['val'], label='C2 Validation Tracing (n=4)')\n",
    "\n",
    "ax.set_title(\"Variability of connection counts\")\n",
    "ax.set_xlabel(\"Variance\")\n",
    "ax.set_ylabel(\"Percentage of connection types\")\n",
    "ax.legend()"
   ]
  },
  {
   "cell_type": "code",
   "execution_count": 288,
   "metadata": {},
   "outputs": [],
   "source": [
    "def lin_model_intercept0(x, y):\n",
    "    x = np.asarray(x).reshape(-1, 1)\n",
    "    y = np.asarray(y)\n",
    "    return LinearRegression(fit_intercept=False).fit(x, y)\n",
    "\n",
    "lamina_model = lin_model_intercept0(df_lamina.mean(), df_lamina.std()**2)\n",
    "val_model = lin_model_intercept0(df_val.mean(), df_val.std()**2)"
   ]
  },
  {
   "cell_type": "code",
   "execution_count": 289,
   "metadata": {
    "lines_to_next_cell": 0
   },
   "outputs": [
    {
     "data": {
      "text/plain": [
       "Text(0,0.5,'Variance')"
      ]
     },
     "execution_count": 289,
     "metadata": {},
     "output_type": "execute_result"
    },
    {
     "data": {
      "image/png": "[encoded data removed]",
      "text/plain": [
       "<matplotlib.figure.Figure at 0x7f98a4e16080>"
      ]
     },
     "metadata": {
      "needs_background": "light"
     },
     "output_type": "display_data"
    }
   ],
   "source": [
    "\n",
    "fig, ax = plt.subplots(1, figsize=[15, 15])\n",
    "xticks = np.arange(0, max((df_lamina.mean().max(), df_val.mean().max()))).reshape(-1, 1)\n",
    "\n",
    "ax.set_xlim(0, max((df_lamina.mean().max(), df_val.mean().max())))\n",
    "ax.set_ylim(0, max((df_lamina.std().max(), df_val.std().max())) ** 2)\n",
    "\n",
    "ax.plot(xticks, lamina_model.predict(xticks), color='g', label=\"Lamina connectome\")\n",
    "ax.scatter(df_lamina.mean(), df_lamina.std()**2, color='g')\n",
    "ax.plot(xticks, val_model.predict(xticks), color='r', label=\"Validation experiment\")\n",
    "ax.scatter(df_val.mean(), df_val.std()**2, color='r')\n",
    "ax.plot(xticks, xticks*1.18, '--', label='')\n",
    "\n",
    "ax.legend()\n",
    "ax.set_title(\"Relationship of each connection type's mean and variance\")\n",
    "ax.set_xlabel('Mean Count')\n",
    "ax.set_ylabel('Variance')"
   ]
  },
  {
   "cell_type": "code",
   "execution_count": 187,
   "metadata": {},
   "outputs": [
    {
     "data": {
      "text/plain": [
       "centri->R3R6        1.041538\n",
       "centri->R1R4        1.366154\n",
       "R2R5->R7            2.598462\n",
       "R1R4->LMC_N         2.881538\n",
       "centri->centri      3.144615\n",
       "R3R6->R7p           3.773846\n",
       "R3R6->LMC_N         3.895385\n",
       "LMC_2->R8           4.184615\n",
       "LMC_2->R2R5         4.221538\n",
       "R3R6->R2R5          4.475385\n",
       "R1R4->R7p           4.898462\n",
       "R1R4->R2R5          4.980000\n",
       "R2R5->R2R5          5.046154\n",
       "LMC_2->R7           5.158462\n",
       "LMC_2->centri       6.598462\n",
       "LMC_N->LMC_3        8.566154\n",
       "centri->LMC_4       9.628947\n",
       "LMC_2->LMC_2       10.400000\n",
       "centri->LMC_1      11.386154\n",
       "LMC_2->R7p         14.746154\n",
       "LMC_N->LMC_1       16.246154\n",
       "centri->R8         18.881538\n",
       "R2R5->R7p          24.781538\n",
       "centri->R7p        35.784615\n",
       "LMC_2->LMC_4       36.568421\n",
       "centri->R2R5       38.018462\n",
       "R1R4->centri       38.326154\n",
       "R1R4->LMC_3        38.806154\n",
       "centri->R7         39.053846\n",
       "R3R6->centri       40.038462\n",
       "LMC_4->LMC_1       41.821538\n",
       "centri->LMC_3      42.561538\n",
       "LMC_2->LMC_3       43.095385\n",
       "R2R5->LMC_1        43.181538\n",
       "LMC_4->LMC_3       47.046154\n",
       "LMC_2->LMC_1       50.713846\n",
       "R2R5->LMC_3        62.695385\n",
       "R3R6->LMC_3        69.544615\n",
       "R1R4->LMC_2        70.893846\n",
       "centri->LMC_2      72.266154\n",
       "R3R6->LMC_4        76.884211\n",
       "R3R6->LMC_2        85.601538\n",
       "R3R6->LMC_1        86.998462\n",
       "R2R5->centri       91.146154\n",
       "R1R4->LMC_1        95.466154\n",
       "R2R5->LMC_2       122.918462\n",
       "R2R5->LMC_4       123.418421\n",
       "R1R4->LMC_4       143.923684\n",
       "dtype: float64"
      ]
     },
     "metadata": {},
     "output_type": "display_data"
    },
    {
     "data": {
      "text/plain": [
       "R2R5->R7            0.000000\n",
       "R1R4->LMC_N         0.000000\n",
       "LMC_4->LMC_1        0.000000\n",
       "LMC_2->R2R5         0.000000\n",
       "LMC_4->LMC_3        0.000000\n",
       "LMC_2->R7           0.250000\n",
       "centri->R3R6        0.250000\n",
       "R2R5->R2R5          0.250000\n",
       "R3R6->R7p           0.250000\n",
       "centri->R1R4        0.250000\n",
       "R3R6->LMC_N         0.333333\n",
       "R1R4->R7p           0.666667\n",
       "centri->LMC_3       1.000000\n",
       "R3R6->R2R5          1.000000\n",
       "LMC_N->LMC_3        1.583333\n",
       "centri->R7          1.666667\n",
       "LMC_2->R8           2.000000\n",
       "R1R4->R2R5          2.916667\n",
       "LMC_2->R7p          7.000000\n",
       "R3R6->LMC_3         7.333333\n",
       "R2R5->R7p           8.250000\n",
       "centri->LMC_4       8.250000\n",
       "LMC_N->LMC_1       12.000000\n",
       "centri->centri     12.333333\n",
       "centri->LMC_1      14.250000\n",
       "LMC_2->centri      16.666667\n",
       "R2R5->LMC_1        17.000000\n",
       "LMC_2->LMC_1       17.666667\n",
       "centri->R7p        22.666667\n",
       "centri->R8         23.583333\n",
       "R2R5->LMC_3        29.583333\n",
       "R2R5->LMC_4        33.000000\n",
       "R1R4->LMC_3        42.250000\n",
       "LMC_2->LMC_3       62.250000\n",
       "LMC_2->LMC_4       64.250000\n",
       "centri->R2R5       79.333333\n",
       "centri->LMC_2      88.916667\n",
       "R2R5->centri       97.583333\n",
       "LMC_2->LMC_2      104.250000\n",
       "R1R4->LMC_1       107.000000\n",
       "R3R6->LMC_2       114.916667\n",
       "R3R6->LMC_1       148.333333\n",
       "R2R5->LMC_2       164.250000\n",
       "R3R6->centri      228.333333\n",
       "R1R4->LMC_2       228.666667\n",
       "R3R6->LMC_4       283.333333\n",
       "R1R4->centri      364.916667\n",
       "R1R4->LMC_4       491.583333\n",
       "dtype: float64"
      ]
     },
     "metadata": {},
     "output_type": "display_data"
    }
   ],
   "source": []
  },
  {
   "cell_type": "code",
   "execution_count": null,
   "metadata": {},
   "outputs": [],
   "source": []
  },
  {
   "cell_type": "code",
   "execution_count": null,
   "metadata": {},
   "outputs": [],
   "source": []
  }
 ],
 "metadata": {
  "jupytext": {
   "formats": "ipynb,py:light"
  },
  "kernelspec": {
   "display_name": "wasp",
   "language": "python",
   "name": "wasp"
  },
  "language_info": {
   "codemirror_mode": {
    "name": "ipython",
    "version": 3
   },
   "file_extension": ".py",
   "mimetype": "text/x-python",
   "name": "python",
   "nbconvert_exporter": "python",
   "pygments_lexer": "ipython3",
   "version": "3.6.3"
  }
 },
 "nbformat": 4,
 "nbformat_minor": 4
}
